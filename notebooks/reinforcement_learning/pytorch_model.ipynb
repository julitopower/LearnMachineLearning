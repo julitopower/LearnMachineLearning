{
 "cells": [
  {
   "cell_type": "code",
   "execution_count": 1,
   "metadata": {
    "code_folding": [],
    "hidden_ranges": [],
    "originalKey": "f139780f-e412-47a8-a07d-d8faab89e8f8"
   },
   "outputs": [],
   "source": [
    "import torch as t\n",
    "import numpy as np"
   ]
  },
  {
   "cell_type": "markdown",
   "metadata": {
    "code_folding": [],
    "customInput": null,
    "hidden_ranges": [],
    "originalKey": "133e539a-f851-4d81-90c2-abc9c7bdc160",
    "showInput": false
   },
   "source": [
    "Let's make sure pytorch works first:"
   ]
  },
  {
   "cell_type": "code",
   "execution_count": 2,
   "metadata": {
    "code_folding": [],
    "customInput": null,
    "hidden_ranges": [],
    "originalKey": "df4fc0eb-9656-4100-8f7a-07646f1f54e0",
    "showInput": true
   },
   "outputs": [
    {
     "name": "stdout",
     "output_type": "stream",
     "text": [
      "tensor([0.8563, 0.4238, 0.8172, 0.4546, 0.4803, 0.9739, 0.2816, 0.9366, 0.9170,\n",
      "        0.2062])\n"
     ]
    }
   ],
   "source": [
    "val = t.rand(10)\n",
    "print (val)"
   ]
  },
  {
   "cell_type": "markdown",
   "metadata": {
    "code_folding": [],
    "customInput": null,
    "hidden_ranges": [],
    "originalKey": "aad72157-7f2a-4db0-9903-fe5eb056c599",
    "showInput": false
   },
   "source": [
    "And now let's do something a bit more interesting. In this notebook we will be training a very simple MLP to learn the sin() function."
   ]
  },
  {
   "cell_type": "code",
   "execution_count": 3,
   "metadata": {
    "code_folding": [],
    "customInput": null,
    "hidden_ranges": [],
    "originalKey": "0fb8a48b-0ec3-4a88-b969-d1e56388428f",
    "showInput": true
   },
   "outputs": [],
   "source": [
    "from torch import nn\n",
    "from torch.utils.data import DataLoader\n",
    "from torchvision import datasets\n",
    "from torchvision.transforms import ToTensor, Lambda, Compose\n",
    "import matplotlib.pyplot as plt\n",
    "import seaborn as sn"
   ]
  },
  {
   "cell_type": "code",
   "execution_count": 4,
   "metadata": {
    "code_folding": [],
    "customInput": null,
    "hidden_ranges": [],
    "originalKey": "6809e49e-2bb2-4197-a440-52aa5a0a56aa",
    "showInput": true
   },
   "outputs": [
    {
     "name": "stdout",
     "output_type": "stream",
     "text": [
      "Dataset FashionMNIST\n",
      "    Number of datapoints: 60000\n",
      "    Root location: data\n",
      "    Split: Train\n",
      "    StandardTransform\n",
      "Transform: ToTensor() Dataset FashionMNIST\n",
      "    Number of datapoints: 10000\n",
      "    Root location: data\n",
      "    Split: Test\n",
      "    StandardTransform\n",
      "Transform: ToTensor()\n"
     ]
    }
   ],
   "source": [
    "train = datasets.FashionMNIST(\n",
    "    root='data',\n",
    "    train=True,\n",
    "    download=True,\n",
    "    transform=ToTensor()\n",
    ")\n",
    "\n",
    "test = datasets.FashionMNIST(\n",
    "    root=\"data\",\n",
    "    train=False,\n",
    "    download=True,\n",
    "    transform=ToTensor(),\n",
    ")\n",
    "\n",
    "print(train, test)"
   ]
  },
  {
   "cell_type": "code",
   "execution_count": 5,
   "metadata": {
    "code_folding": [],
    "customInput": null,
    "hidden_ranges": [],
    "originalKey": "e00ec3ea-8125-43d4-8788-ebcbff70dfb6",
    "showInput": true
   },
   "outputs": [
    {
     "name": "stdout",
     "output_type": "stream",
     "text": [
      "Shape or X [samples, channels, height, width]: torch.Size([32, 1, 28, 28])\n",
      "Shape of y: torch.Size([32])\n"
     ]
    }
   ],
   "source": [
    "batch_size = 32\n",
    "\n",
    "train_dl = DataLoader(train, batch_size=batch_size)\n",
    "test_dl = DataLoader(test, batch_size=batch_size)\n",
    "for X, y in train_dl:\n",
    "    print(\"Shape or X [samples, channels, height, width]:\", X.shape)\n",
    "    print(\"Shape of y:\", y.shape)\n",
    "    break "
   ]
  },
  {
   "cell_type": "markdown",
   "metadata": {
    "code_folding": [],
    "customInput": null,
    "hidden_ranges": [],
    "originalKey": "98386a59-1efb-4703-a52a-6ffd3474fdb3",
    "showInput": false
   },
   "source": [
    "Now we select a cuda device if one is available:"
   ]
  },
  {
   "cell_type": "code",
   "execution_count": 6,
   "metadata": {
    "code_folding": [],
    "customInput": null,
    "hidden_ranges": [],
    "originalKey": "2893adfa-c15b-401e-bc0b-1255978d1447",
    "showInput": true
   },
   "outputs": [
    {
     "name": "stdout",
     "output_type": "stream",
     "text": [
      "cuda\n"
     ]
    }
   ],
   "source": [
    "device = \"cuda\" if t.cuda.is_available() else \"cpu\"\n",
    "print(device)"
   ]
  },
  {
   "cell_type": "markdown",
   "metadata": {
    "code_folding": [],
    "customInput": null,
    "hidden_ranges": [],
    "originalKey": "30275343-c667-4ac3-8426-626183e05097",
    "showInput": false
   },
   "source": [
    "And proceed to define our neural network. A neural network is an subclass of **```nn.Module```**. Layers in a neural network are also subclasses of **```nn.Module```**. In the constructor we define the layers, and in the **```forward(self, x)```** method we implement the forward pass. Pytorch has autodiff capabilities, so we don't have to define the backwards pass."
   ]
  },
  {
   "cell_type": "code",
   "execution_count": 7,
   "metadata": {
    "code_folding": [],
    "customInput": null,
    "hidden_ranges": [],
    "originalKey": "1457ceff-08cc-4fed-8a8b-6e34cd3db6ae",
    "showInput": true
   },
   "outputs": [
    {
     "name": "stdout",
     "output_type": "stream",
     "text": [
      "MyNN(\n",
      "  (flatten): Flatten(start_dim=1, end_dim=-1)\n",
      "  (linear_relu_stack): Sequential(\n",
      "    (0): BatchNorm1d(784, eps=1e-05, momentum=0.1, affine=True, track_running_stats=True)\n",
      "    (1): Linear(in_features=784, out_features=512, bias=True)\n",
      "    (2): ReLU()\n",
      "    (3): BatchNorm1d(512, eps=1e-05, momentum=0.1, affine=True, track_running_stats=True)\n",
      "    (4): Linear(in_features=512, out_features=512, bias=True)\n",
      "    (5): ReLU()\n",
      "    (6): BatchNorm1d(512, eps=1e-05, momentum=0.1, affine=True, track_running_stats=True)\n",
      "    (7): Linear(in_features=512, out_features=10, bias=True)\n",
      "    (8): ReLU()\n",
      "  )\n",
      ")\n"
     ]
    }
   ],
   "source": [
    "class MyNN(nn.Module):\n",
    "    def __init__(self):\n",
    "        super(MyNN, self).__init__()\n",
    "        self.flatten = nn.Flatten()\n",
    "        self.linear_relu_stack = nn.Sequential(\n",
    "            nn.BatchNorm1d(28*28),\n",
    "            nn.Linear(28*28, 512),\n",
    "            nn.ReLU(),\n",
    "            nn.BatchNorm1d(512),\n",
    "            nn.Linear(512, 512),\n",
    "            nn.ReLU(),\n",
    "            nn.BatchNorm1d(512),\n",
    "            nn.Linear(512, 10),\n",
    "            nn.ReLU()\n",
    "        )\n",
    "        #nn.init.xavier_normal(self.linear_relu_stack[1].weight)\n",
    "        #nn.init.xavier_normal(self.linear_relu_stack[4].weight)\n",
    "        #nn.init.xavier_normal(self.linear_relu_stack[7].weight)\n",
    "        \n",
    "    def forward(self, x):\n",
    "        x = self.flatten(x)\n",
    "        logits = self.linear_relu_stack(x)\n",
    "        return logits\n",
    "\n",
    "model = MyNN().to(device)\n",
    "print(model)"
   ]
  },
  {
   "cell_type": "markdown",
   "metadata": {
    "code_folding": [],
    "collapsed": true,
    "customInput": null,
    "hidden_ranges": [],
    "originalKey": "385dd85e-c27b-4266-a1b3-acccd8d4d380",
    "showInput": false
   },
   "source": [
    "Now we need to define the optimizer"
   ]
  },
  {
   "cell_type": "code",
   "execution_count": 8,
   "metadata": {
    "code_folding": [],
    "customInput": null,
    "hidden_ranges": [],
    "originalKey": "d1b9634b-ca32-488a-a0e3-179c73c88198",
    "showInput": true
   },
   "outputs": [],
   "source": [
    "# This loss function actually takes the output of the network (N-dimensional)\n",
    "# and executes Log(SoftMax(...)), and the passes that to a Negative log likelihood\n",
    "# It expect the labels to be given as the index of the expected class, not as a \n",
    "# vector of probabilities\n",
    "loss_fn = nn.CrossEntropyLoss()\n",
    "optimizer = t.optim.SGD(model.parameters(), lr=1e-3)\n",
    "optimizer = t.optim.Adam(model.parameters(), lr=1e-3)"
   ]
  },
  {
   "cell_type": "markdown",
   "metadata": {
    "code_folding": [],
    "customInput": null,
    "hidden_ranges": [],
    "originalKey": "d78b06e5-af8c-480f-9dec-7af3699a4352",
    "showInput": false
   },
   "source": [
    "and finally we define the train/test loops as functions that we will invoke in our outer trainning loop"
   ]
  },
  {
   "cell_type": "code",
   "execution_count": 9,
   "metadata": {
    "code_folding": [],
    "customInput": null,
    "hidden_ranges": [],
    "originalKey": "923f596d-b574-404a-9835-d17eb04e6a53",
    "showInput": true
   },
   "outputs": [],
   "source": [
    "def train(dataloader, model, loss_fn, optimizer):\n",
    "    size = len(dataloader.dataset)\n",
    "    train_loss = 0.0\n",
    "    for batch, (X, y) in enumerate(dataloader):\n",
    "        X, y = X.to(device), y.to(device)\n",
    "        # Forward pass\n",
    "        pred = model(X)\n",
    "        loss = loss_fn(pred, y)\n",
    "        train_loss += loss\n",
    "\n",
    "        # Backprop\n",
    "        optimizer.zero_grad()\n",
    "        loss.backward()\n",
    "        optimizer.step()\n",
    "\n",
    "        if batch % 100 == 0:\n",
    "            loss, current = loss.item(), batch * len(X)\n",
    "            #print(f\"loss: {loss:>7f}  [{current:>5d}/{size:>5d}]\")\n",
    "    train_loss /= size\n",
    "    print(f\"Train Avg loss: {train_loss:>5f}\")\n",
    "\n",
    "def test(dataloader, model):\n",
    "    size = len(dataloader.dataset)\n",
    "    model.eval()\n",
    "    test_loss, correct = 0, 0\n",
    "    with t.no_grad():\n",
    "        for X, y in dataloader:\n",
    "            X, y = X.to(device), y.to(device)\n",
    "            pred = model(X)\n",
    "            test_loss += loss_fn(pred, y).item()\n",
    "            correct += (pred.argmax(1) == y).type(t.float).sum().item()\n",
    "    test_loss /= size\n",
    "    correct /= size\n",
    "    print(f\"Test Accuracy: {(100*correct):>0.1f}%, Avg loss: {test_loss:>8f}\")"
   ]
  },
  {
   "cell_type": "code",
   "execution_count": 10,
   "metadata": {
    "code_folding": [],
    "customInput": null,
    "hidden_ranges": [],
    "originalKey": "017ffe25-d242-4482-91e4-1d056b2a947a",
    "scrolled": true,
    "showInput": true
   },
   "outputs": [
    {
     "name": "stdout",
     "output_type": "stream",
     "text": [
      "Epoch 1\n",
      "------------------\n",
      "Train Avg loss: 0.015082\n",
      "Test Accuracy: 85.3%, Avg loss: 0.012734\n",
      "Epoch 2\n",
      "------------------\n",
      "Train Avg loss: 0.010693\n",
      "Test Accuracy: 86.9%, Avg loss: 0.011518\n",
      "Epoch 3\n",
      "------------------\n",
      "Train Avg loss: 0.009109\n",
      "Test Accuracy: 87.5%, Avg loss: 0.011278\n",
      "Epoch 4\n",
      "------------------\n",
      "Train Avg loss: 0.008009\n",
      "Test Accuracy: 87.5%, Avg loss: 0.011507\n",
      "Epoch 5\n",
      "------------------\n",
      "Train Avg loss: 0.006936\n",
      "Test Accuracy: 88.0%, Avg loss: 0.011993\n",
      "Epoch 6\n",
      "------------------\n",
      "Train Avg loss: 0.006077\n",
      "Test Accuracy: 87.8%, Avg loss: 0.012871\n",
      "Epoch 7\n",
      "------------------\n",
      "Train Avg loss: 0.005345\n",
      "Test Accuracy: 87.6%, Avg loss: 0.014127\n",
      "Epoch 8\n",
      "------------------\n",
      "Train Avg loss: 0.004675\n",
      "Test Accuracy: 87.7%, Avg loss: 0.014518\n",
      "Epoch 9\n",
      "------------------\n",
      "Train Avg loss: 0.004119\n",
      "Test Accuracy: 88.1%, Avg loss: 0.014764\n",
      "Epoch 10\n",
      "------------------\n",
      "Train Avg loss: 0.003705\n",
      "Test Accuracy: 88.0%, Avg loss: 0.016525\n",
      "Done deal!\n"
     ]
    }
   ],
   "source": [
    "epochs = 10\n",
    "for e in range(epochs):\n",
    "    print(f\"Epoch {e + 1}\\n------------------\")\n",
    "    train(train_dl, model, loss_fn, optimizer)\n",
    "    test(test_dl, model)\n",
    "print(\"Done deal!\")"
   ]
  }
 ],
 "metadata": {
  "bento_stylesheets": {
   "bento/extensions/flow/main.css": true,
   "bento/extensions/kernel_selector/main.css": true,
   "bento/extensions/kernel_ui/main.css": true,
   "bento/extensions/new_kernel/main.css": true,
   "bento/extensions/system_usage/main.css": true,
   "bento/extensions/theme/main.css": true
  },
  "captumWidgetMessage": {},
  "kernelspec": {
   "display_name": "Python 3",
   "language": "python",
   "name": "python3"
  },
  "language_info": {
   "codemirror_mode": {
    "name": "ipython",
    "version": 3
   },
   "file_extension": ".py",
   "mimetype": "text/x-python",
   "name": "python",
   "nbconvert_exporter": "python",
   "pygments_lexer": "ipython3",
   "version": "3.8.8"
  },
  "outputWidgetContext": {}
 },
 "nbformat": 4,
 "nbformat_minor": 2
}
