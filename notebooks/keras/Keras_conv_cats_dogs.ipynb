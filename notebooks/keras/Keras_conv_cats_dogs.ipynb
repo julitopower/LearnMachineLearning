{
 "cells": [
  {
   "cell_type": "markdown",
   "metadata": {},
   "source": [
    "First we need to download the extract the dataset. The dataset will be extracted under ```/tmp/PetImages```, where there will be two directories ```Cat```and ```Dog```, each containing 12500 images."
   ]
  },
  {
   "cell_type": "code",
   "execution_count": 1,
   "metadata": {},
   "outputs": [
    {
     "name": "stdout",
     "output_type": "stream",
     "text": [
      "\u001b[33mYou are using pip version 10.0.1, however version 19.0.3 is available.\n",
      "You should consider upgrading via the 'pip install --upgrade pip' command.\u001b[0m\n",
      "--2019-04-14 19:37:32--  https://download.microsoft.com/download/3/E/1/3E1C3F21-ECDB-4869-8368-6DEBA77B919F/kagglecatsanddogs_3367a.zip\n",
      "Resolving download.microsoft.com (download.microsoft.com)... 184.26.80.188, 2600:1409:3000:4a4::e59, 2600:1409:3000:48e::e59\n",
      "Connecting to download.microsoft.com (download.microsoft.com)|184.26.80.188|:443... connected.\n",
      "HTTP request sent, awaiting response... 200 OK\n",
      "Length: 824894548 (787M) [application/octet-stream]\n",
      "Saving to: ‘kagglecatsanddogs_3367a.zip.1’\n",
      "\n",
      "kagglecatsanddogs_3 100%[===================>] 786.68M   181MB/s    in 4.3s    \n",
      "\n",
      "2019-04-14 19:37:37 (181 MB/s) - ‘kagglecatsanddogs_3367a.zip.1’ saved [824894548/824894548]\n",
      "\n"
     ]
    }
   ],
   "source": [
    "# Let's make sure Keras is installed\n",
    "import sys\n",
    "!{sys.executable} -m pip install keras > /dev/null\n",
    "import matplotlib.pyplot as plt\n",
    "import numpy as np\n",
    "!cd /tmp/ && wget https://download.microsoft.com/download/3/E/1/3E1C3F21-ECDB-4869-8368-6DEBA77B919F/kagglecatsanddogs_3367a.zip"
   ]
  },
  {
   "cell_type": "code",
   "execution_count": 2,
   "metadata": {},
   "outputs": [],
   "source": [
    "!cd /tmp/ && rm PetImages -rf && unzip -o kagglecatsanddogs_3367a.zip > /dev/null\n",
    "!cd /tmp/PetImages/Cat/ && cp 5534.jpg 666.jpg\n",
    "!cd /tmp/PetImages/Dog/ && cp 1000.jpg 11702.jpg"
   ]
  },
  {
   "cell_type": "markdown",
   "metadata": {},
   "source": [
    "For the sake of training speed, we are going to create a smaller dataset contining 1000 images of each class for the training dataset, 500 for the validation dataset and 500 for the test dataset."
   ]
  },
  {
   "cell_type": "code",
   "execution_count": 3,
   "metadata": {},
   "outputs": [
    {
     "name": "stdout",
     "output_type": "stream",
     "text": [
      "Cat Images train:  1000\n",
      "Dog Images train:  1000\n",
      "Cat Images validation:  500\n",
      "Dog Images validation:  500\n",
      "Cat Images test:  500\n",
      "Dog Images test:  500\n"
     ]
    }
   ],
   "source": [
    "import os, shutil\n",
    "\n",
    "def create_dir(dir):\n",
    "    if not os.path.exists(dir):\n",
    "        os.mkdir(dir)\n",
    "\n",
    "base_dir = os.path.join('/', 'tmp', 'small_dataset')\n",
    "create_dir(base_dir)\n",
    "\n",
    "dirs = [('train', 1000), ('validation', 500), ('test', 500)]\n",
    "idx = 0\n",
    "for d in dirs:\n",
    "    # Create directores\n",
    "    dir = os.path.join(base_dir, d[0])\n",
    "    dir_cats = os.path.join(dir, 'cats')\n",
    "    dir_dogs = os.path.join(dir, 'dogs')\n",
    "    create_dir(dir)\n",
    "    create_dir(dir_cats)\n",
    "    create_dir(dir_dogs)\n",
    "    \n",
    "    # Copy the required number of cats and dogs images\n",
    "    fnames = ['{}.jpg'.format(i) for i in range(idx, idx + d[1])]\n",
    "    for fname in fnames:\n",
    "        src = os.path.join('/', 'tmp', 'PetImages','Cat', fname)\n",
    "        dst = os.path.join(dir_cats, fname)\n",
    "        shutil.copyfile(src, dst)\n",
    "        \n",
    "    for fname in fnames:\n",
    "        src = os.path.join('/', 'tmp', 'PetImages','Dog', fname)\n",
    "        dst = os.path.join(dir_dogs, fname)\n",
    "        shutil.copyfile(src, dst)\n",
    "    idx = idx + d[1]\n",
    "    print('Cat Images {}: '.format(d[0]), len(os.listdir(dir_cats)))\n",
    "    print('Dog Images {}: '.format(d[0]), len(os.listdir(dir_dogs)))"
   ]
  },
  {
   "cell_type": "markdown",
   "metadata": {},
   "source": [
    "# Building the network\n",
    "\n",
    "We begin by defining the network structure"
   ]
  },
  {
   "cell_type": "code",
   "execution_count": 4,
   "metadata": {},
   "outputs": [
    {
     "name": "stderr",
     "output_type": "stream",
     "text": [
      "Using TensorFlow backend.\n"
     ]
    },
    {
     "name": "stdout",
     "output_type": "stream",
     "text": [
      "_________________________________________________________________\n",
      "Layer (type)                 Output Shape              Param #   \n",
      "=================================================================\n",
      "conv2d_1 (Conv2D)            (None, 148, 148, 32)      896       \n",
      "_________________________________________________________________\n",
      "max_pooling2d_1 (MaxPooling2 (None, 74, 74, 32)        0         \n",
      "_________________________________________________________________\n",
      "conv2d_2 (Conv2D)            (None, 72, 72, 64)        18496     \n",
      "_________________________________________________________________\n",
      "max_pooling2d_2 (MaxPooling2 (None, 36, 36, 64)        0         \n",
      "_________________________________________________________________\n",
      "conv2d_3 (Conv2D)            (None, 34, 34, 128)       73856     \n",
      "_________________________________________________________________\n",
      "max_pooling2d_3 (MaxPooling2 (None, 17, 17, 128)       0         \n",
      "_________________________________________________________________\n",
      "conv2d_4 (Conv2D)            (None, 15, 15, 128)       147584    \n",
      "_________________________________________________________________\n",
      "max_pooling2d_4 (MaxPooling2 (None, 7, 7, 128)         0         \n",
      "_________________________________________________________________\n",
      "flatten_1 (Flatten)          (None, 6272)              0         \n",
      "_________________________________________________________________\n",
      "dense_1 (Dense)              (None, 512)               3211776   \n",
      "_________________________________________________________________\n",
      "dense_2 (Dense)              (None, 1)                 513       \n",
      "=================================================================\n",
      "Total params: 3,453,121\n",
      "Trainable params: 3,453,121\n",
      "Non-trainable params: 0\n",
      "_________________________________________________________________\n"
     ]
    }
   ],
   "source": [
    "from keras import layers, models\n",
    "\n",
    "net = models.Sequential()\n",
    "net.add(layers.Conv2D(32, (3, 3), activation='relu', input_shape=(150, 150,3)))\n",
    "net.add(layers.MaxPool2D((2, 2)))\n",
    "net.add(layers.Conv2D(64, (3, 3), activation='relu'))\n",
    "net.add(layers.MaxPool2D((2, 2)))\n",
    "net.add(layers.Conv2D(128, (3, 3), activation='relu'))\n",
    "net.add(layers.MaxPool2D((2, 2)))\n",
    "net.add(layers.Conv2D(128, (3, 3), activation='relu'))\n",
    "net.add(layers.MaxPool2D((2, 2)))\n",
    "net.add(layers.Flatten())\n",
    "net.add(layers.Dense(512, activation='relu'))\n",
    "net.add(layers.Dense(1, activation='sigmoid'))\n",
    "net.summary()"
   ]
  },
  {
   "cell_type": "markdown",
   "metadata": {},
   "source": [
    "and finally compile the network, for which we need to define a loss function and an optimizer"
   ]
  },
  {
   "cell_type": "code",
   "execution_count": 5,
   "metadata": {},
   "outputs": [],
   "source": [
    "from keras import optimizers\n",
    "\n",
    "net.compile(loss='binary_crossentropy',\n",
    "            optimizer=optimizers.RMSprop(lr=1e-4),\n",
    "            metrics=['acc'])"
   ]
  },
  {
   "cell_type": "markdown",
   "metadata": {},
   "source": [
    "Before we can train our model, we need to pre-process the data. In this case we want to normalize the values in the range $[0, 1]$, and resize the images to $(150, 150)$ pixels"
   ]
  },
  {
   "cell_type": "code",
   "execution_count": 6,
   "metadata": {},
   "outputs": [
    {
     "name": "stdout",
     "output_type": "stream",
     "text": [
      "Found 2000 images belonging to 2 classes.\n",
      "Found 1000 images belonging to 2 classes.\n",
      "Found 1000 images belonging to 2 classes.\n"
     ]
    }
   ],
   "source": [
    "from keras.preprocessing.image import ImageDataGenerator\n",
    "\n",
    "train_dir = os.path.join(base_dir, 'train')\n",
    "validation_dir = os.path.join(base_dir, 'validation')\n",
    "test_dir = os.path.join(base_dir, 'test')\n",
    "\n",
    "train_datagen = ImageDataGenerator(rescale=1./255)\n",
    "test_datagen = ImageDataGenerator(rescale=1./255)\n",
    "train_generator = train_datagen.flow_from_directory(train_dir,\n",
    "                                                   target_size=(150, 150),\n",
    "                                                   batch_size=20,\n",
    "                                                   class_mode='binary')\n",
    "validation_generator = test_datagen.flow_from_directory(validation_dir,\n",
    "                                                   target_size=(150, 150),\n",
    "                                                   batch_size=20,\n",
    "                                                   class_mode='binary')\n",
    "validation_generator = test_datagen.flow_from_directory(test_dir,\n",
    "                                                   target_size=(150, 150),\n",
    "                                                   batch_size=20,\n",
    "                                                   class_mode='binary')"
   ]
  },
  {
   "cell_type": "markdown",
   "metadata": {},
   "source": [
    "# Training\n",
    "\n",
    "Finally we are ready to train our model"
   ]
  },
  {
   "cell_type": "code",
   "execution_count": 7,
   "metadata": {},
   "outputs": [
    {
     "name": "stdout",
     "output_type": "stream",
     "text": [
      "Epoch 1/30\n",
      " 78/100 [======================>.......] - ETA: 4s - loss: 0.6914 - acc: 0.5327"
     ]
    },
    {
     "name": "stderr",
     "output_type": "stream",
     "text": [
      "/home/ec2-user/anaconda3/envs/tensorflow_p36/lib/python3.6/site-packages/PIL/TiffImagePlugin.py:747: UserWarning: Possibly corrupt EXIF data.  Expecting to read 80000 bytes but only got 0. Skipping tag 64640\n",
      "  \" Skipping tag %s\" % (size, len(data), tag))\n",
      "/home/ec2-user/anaconda3/envs/tensorflow_p36/lib/python3.6/site-packages/PIL/TiffImagePlugin.py:747: UserWarning: Possibly corrupt EXIF data.  Expecting to read 6553600 bytes but only got 0. Skipping tag 49\n",
      "  \" Skipping tag %s\" % (size, len(data), tag))\n",
      "/home/ec2-user/anaconda3/envs/tensorflow_p36/lib/python3.6/site-packages/PIL/TiffImagePlugin.py:747: UserWarning: Possibly corrupt EXIF data.  Expecting to read 1050744 bytes but only got 4951. Skipping tag 51\n",
      "  \" Skipping tag %s\" % (size, len(data), tag))\n",
      "/home/ec2-user/anaconda3/envs/tensorflow_p36/lib/python3.6/site-packages/PIL/TiffImagePlugin.py:747: UserWarning: Possibly corrupt EXIF data.  Expecting to read 293339136 bytes but only got 0. Skipping tag 5\n",
      "  \" Skipping tag %s\" % (size, len(data), tag))\n",
      "/home/ec2-user/anaconda3/envs/tensorflow_p36/lib/python3.6/site-packages/PIL/TiffImagePlugin.py:747: UserWarning: Possibly corrupt EXIF data.  Expecting to read 293863424 bytes but only got 0. Skipping tag 5\n",
      "  \" Skipping tag %s\" % (size, len(data), tag))\n",
      "/home/ec2-user/anaconda3/envs/tensorflow_p36/lib/python3.6/site-packages/PIL/TiffImagePlugin.py:747: UserWarning: Possibly corrupt EXIF data.  Expecting to read 3368026112 bytes but only got 0. Skipping tag 7\n",
      "  \" Skipping tag %s\" % (size, len(data), tag))\n",
      "/home/ec2-user/anaconda3/envs/tensorflow_p36/lib/python3.6/site-packages/PIL/TiffImagePlugin.py:747: UserWarning: Possibly corrupt EXIF data.  Expecting to read 134479872 bytes but only got 0. Skipping tag 7\n",
      "  \" Skipping tag %s\" % (size, len(data), tag))\n",
      "/home/ec2-user/anaconda3/envs/tensorflow_p36/lib/python3.6/site-packages/PIL/TiffImagePlugin.py:747: UserWarning: Possibly corrupt EXIF data.  Expecting to read 295698432 bytes but only got 0. Skipping tag 10\n",
      "  \" Skipping tag %s\" % (size, len(data), tag))\n",
      "/home/ec2-user/anaconda3/envs/tensorflow_p36/lib/python3.6/site-packages/PIL/TiffImagePlugin.py:747: UserWarning: Possibly corrupt EXIF data.  Expecting to read 296222720 bytes but only got 0. Skipping tag 5\n",
      "  \" Skipping tag %s\" % (size, len(data), tag))\n",
      "/home/ec2-user/anaconda3/envs/tensorflow_p36/lib/python3.6/site-packages/PIL/TiffImagePlugin.py:747: UserWarning: Possibly corrupt EXIF data.  Expecting to read 3300917248 bytes but only got 0. Skipping tag 7\n",
      "  \" Skipping tag %s\" % (size, len(data), tag))\n",
      "/home/ec2-user/anaconda3/envs/tensorflow_p36/lib/python3.6/site-packages/PIL/TiffImagePlugin.py:747: UserWarning: Possibly corrupt EXIF data.  Expecting to read 65536 bytes but only got 0. Skipping tag 3\n",
      "  \" Skipping tag %s\" % (size, len(data), tag))\n",
      "/home/ec2-user/anaconda3/envs/tensorflow_p36/lib/python3.6/site-packages/PIL/TiffImagePlugin.py:747: UserWarning: Possibly corrupt EXIF data.  Expecting to read 14745600 bytes but only got 0. Skipping tag 4\n",
      "  \" Skipping tag %s\" % (size, len(data), tag))\n",
      "/home/ec2-user/anaconda3/envs/tensorflow_p36/lib/python3.6/site-packages/PIL/TiffImagePlugin.py:747: UserWarning: Possibly corrupt EXIF data.  Expecting to read 25624576 bytes but only got 0. Skipping tag 4\n",
      "  \" Skipping tag %s\" % (size, len(data), tag))\n",
      "/home/ec2-user/anaconda3/envs/tensorflow_p36/lib/python3.6/site-packages/PIL/TiffImagePlugin.py:747: UserWarning: Possibly corrupt EXIF data.  Expecting to read 317718528 bytes but only got 4956. Skipping tag 4\n",
      "  \" Skipping tag %s\" % (size, len(data), tag))\n",
      "/home/ec2-user/anaconda3/envs/tensorflow_p36/lib/python3.6/site-packages/PIL/TiffImagePlugin.py:747: UserWarning: Possibly corrupt EXIF data.  Expecting to read 131073 bytes but only got 4952. Skipping tag 0\n",
      "  \" Skipping tag %s\" % (size, len(data), tag))\n",
      "/home/ec2-user/anaconda3/envs/tensorflow_p36/lib/python3.6/site-packages/PIL/TiffImagePlugin.py:747: UserWarning: Possibly corrupt EXIF data.  Expecting to read 393216 bytes but only got 0. Skipping tag 3\n",
      "  \" Skipping tag %s\" % (size, len(data), tag))\n",
      "/home/ec2-user/anaconda3/envs/tensorflow_p36/lib/python3.6/site-packages/PIL/TiffImagePlugin.py:747: UserWarning: Possibly corrupt EXIF data.  Expecting to read 287178752 bytes but only got 0. Skipping tag 5\n",
      "  \" Skipping tag %s\" % (size, len(data), tag))\n",
      "/home/ec2-user/anaconda3/envs/tensorflow_p36/lib/python3.6/site-packages/PIL/TiffImagePlugin.py:747: UserWarning: Possibly corrupt EXIF data.  Expecting to read 287703040 bytes but only got 0. Skipping tag 5\n",
      "  \" Skipping tag %s\" % (size, len(data), tag))\n",
      "/home/ec2-user/anaconda3/envs/tensorflow_p36/lib/python3.6/site-packages/PIL/TiffImagePlugin.py:747: UserWarning: Possibly corrupt EXIF data.  Expecting to read 131072 bytes but only got 0. Skipping tag 3\n",
      "  \" Skipping tag %s\" % (size, len(data), tag))\n",
      "/home/ec2-user/anaconda3/envs/tensorflow_p36/lib/python3.6/site-packages/PIL/TiffImagePlugin.py:747: UserWarning: Possibly corrupt EXIF data.  Expecting to read 524288 bytes but only got 0. Skipping tag 4\n",
      "  \" Skipping tag %s\" % (size, len(data), tag))\n",
      "/home/ec2-user/anaconda3/envs/tensorflow_p36/lib/python3.6/site-packages/PIL/TiffImagePlugin.py:747: UserWarning: Possibly corrupt EXIF data.  Expecting to read 286654464 bytes but only got 4956. Skipping tag 4\n",
      "  \" Skipping tag %s\" % (size, len(data), tag))\n",
      "/home/ec2-user/anaconda3/envs/tensorflow_p36/lib/python3.6/site-packages/PIL/TiffImagePlugin.py:764: UserWarning: Corrupt EXIF data.  Expecting to read 12 bytes but only got 2. \n",
      "  warnings.warn(str(msg))\n"
     ]
    },
    {
     "name": "stdout",
     "output_type": "stream",
     "text": [
      "100/100 [==============================] - 27s 267ms/step - loss: 0.6891 - acc: 0.5440 - val_loss: 0.6751 - val_acc: 0.5970\n",
      "Epoch 2/30\n",
      "100/100 [==============================] - 26s 257ms/step - loss: 0.6595 - acc: 0.5970 - val_loss: 0.6474 - val_acc: 0.6380\n",
      "Epoch 3/30\n",
      "100/100 [==============================] - 26s 257ms/step - loss: 0.6195 - acc: 0.6585 - val_loss: 0.6268 - val_acc: 0.6410\n",
      "Epoch 4/30\n",
      "100/100 [==============================] - 26s 263ms/step - loss: 0.5698 - acc: 0.6990 - val_loss: 0.5867 - val_acc: 0.6930\n",
      "Epoch 5/30\n",
      "100/100 [==============================] - 26s 257ms/step - loss: 0.5359 - acc: 0.7325 - val_loss: 0.5787 - val_acc: 0.6930\n",
      "Epoch 6/30\n",
      "100/100 [==============================] - 26s 257ms/step - loss: 0.5050 - acc: 0.7515 - val_loss: 0.6731 - val_acc: 0.6380\n",
      "Epoch 7/30\n",
      "100/100 [==============================] - 26s 255ms/step - loss: 0.4657 - acc: 0.7735 - val_loss: 0.5631 - val_acc: 0.7020\n",
      "Epoch 8/30\n",
      "100/100 [==============================] - 26s 257ms/step - loss: 0.4486 - acc: 0.7860 - val_loss: 0.6306 - val_acc: 0.6700\n",
      "Epoch 9/30\n",
      "100/100 [==============================] - 26s 256ms/step - loss: 0.4175 - acc: 0.7975 - val_loss: 0.5791 - val_acc: 0.7070\n",
      "Epoch 10/30\n",
      "100/100 [==============================] - 26s 257ms/step - loss: 0.3920 - acc: 0.8250 - val_loss: 0.5604 - val_acc: 0.7270\n",
      "Epoch 11/30\n",
      "100/100 [==============================] - 26s 262ms/step - loss: 0.3641 - acc: 0.8335 - val_loss: 0.5814 - val_acc: 0.7040\n",
      "Epoch 12/30\n",
      "100/100 [==============================] - 26s 255ms/step - loss: 0.3464 - acc: 0.8495 - val_loss: 0.5772 - val_acc: 0.7220\n",
      "Epoch 13/30\n",
      "100/100 [==============================] - 26s 257ms/step - loss: 0.3194 - acc: 0.8600 - val_loss: 0.5736 - val_acc: 0.7320\n",
      "Epoch 14/30\n",
      "100/100 [==============================] - 26s 256ms/step - loss: 0.2952 - acc: 0.8745 - val_loss: 0.6075 - val_acc: 0.7160\n",
      "Epoch 15/30\n",
      "100/100 [==============================] - 26s 256ms/step - loss: 0.2723 - acc: 0.8885 - val_loss: 0.5908 - val_acc: 0.7420\n",
      "Epoch 16/30\n",
      "100/100 [==============================] - 26s 256ms/step - loss: 0.2419 - acc: 0.9055 - val_loss: 0.5929 - val_acc: 0.7480\n",
      "Epoch 17/30\n",
      "100/100 [==============================] - 26s 256ms/step - loss: 0.2211 - acc: 0.9180 - val_loss: 0.6502 - val_acc: 0.7170\n",
      "Epoch 18/30\n",
      "100/100 [==============================] - 26s 262ms/step - loss: 0.2013 - acc: 0.9240 - val_loss: 0.6585 - val_acc: 0.7080\n",
      "Epoch 19/30\n",
      "100/100 [==============================] - 26s 256ms/step - loss: 0.1762 - acc: 0.9420 - val_loss: 0.6395 - val_acc: 0.7480\n",
      "Epoch 20/30\n",
      "100/100 [==============================] - 26s 255ms/step - loss: 0.1660 - acc: 0.9405 - val_loss: 0.9175 - val_acc: 0.6720\n",
      "Epoch 21/30\n",
      "100/100 [==============================] - 26s 256ms/step - loss: 0.1380 - acc: 0.9545 - val_loss: 0.7500 - val_acc: 0.7020\n",
      "Epoch 22/30\n",
      "100/100 [==============================] - 26s 256ms/step - loss: 0.1276 - acc: 0.9615 - val_loss: 1.1671 - val_acc: 0.6600\n",
      "Epoch 23/30\n",
      "100/100 [==============================] - 26s 256ms/step - loss: 0.1048 - acc: 0.9680 - val_loss: 0.7545 - val_acc: 0.7290\n",
      "Epoch 24/30\n",
      "100/100 [==============================] - 26s 256ms/step - loss: 0.0909 - acc: 0.9750 - val_loss: 0.8083 - val_acc: 0.7340\n",
      "Epoch 25/30\n",
      "100/100 [==============================] - 26s 262ms/step - loss: 0.0793 - acc: 0.9755 - val_loss: 0.8246 - val_acc: 0.7250\n",
      "Epoch 26/30\n",
      "100/100 [==============================] - 26s 256ms/step - loss: 0.0626 - acc: 0.9835 - val_loss: 0.8551 - val_acc: 0.7190\n",
      "Epoch 27/30\n",
      "100/100 [==============================] - 26s 256ms/step - loss: 0.0612 - acc: 0.9815 - val_loss: 0.8776 - val_acc: 0.7280\n",
      "Epoch 28/30\n",
      "100/100 [==============================] - 26s 256ms/step - loss: 0.0496 - acc: 0.9880 - val_loss: 0.9252 - val_acc: 0.7250\n",
      "Epoch 29/30\n",
      "100/100 [==============================] - 26s 257ms/step - loss: 0.0443 - acc: 0.9885 - val_loss: 0.9918 - val_acc: 0.7130\n",
      "Epoch 30/30\n",
      "100/100 [==============================] - 26s 256ms/step - loss: 0.0319 - acc: 0.9935 - val_loss: 1.3711 - val_acc: 0.6910\n"
     ]
    }
   ],
   "source": [
    "history = net.fit_generator(train_generator, \n",
    "                            steps_per_epoch=100, \n",
    "                            epochs=30, \n",
    "                            validation_data=validation_generator,\n",
    "                            validation_steps=50)"
   ]
  },
  {
   "cell_type": "code",
   "execution_count": 8,
   "metadata": {},
   "outputs": [
    {
     "data": {
      "image/png": "[encoded data removed]",
      "text/plain": [
       "<Figure size 432x288 with 1 Axes>"
      ]
     },
     "metadata": {},
     "output_type": "display_data"
    },
    {
     "data": {
      "image/png": "[encoded data removed]",
      "text/plain": [
       "<Figure size 432x288 with 1 Axes>"
      ]
     },
     "metadata": {},
     "output_type": "display_data"
    }
   ],
   "source": [
    "import matplotlib.pyplot as plt\n",
    "\n",
    "def generat_plots(history):\n",
    "    acc = history.history['acc']\n",
    "    validation_acc = history.history['val_acc']\n",
    "    loss = history.history['loss']\n",
    "    validation_loss = history.history['val_loss']\n",
    "\n",
    "    # for plotting purposes we consider the first epoch to be the\n",
    "    # number 1, and not 0 as we would normally index an array\n",
    "    epochs = range(1, len(acc) + 1)\n",
    "\n",
    "    plt.plot(epochs, acc, 'bo', label='Training acc')\n",
    "    plt.plot(epochs, validation_acc, 'b', label='Validation acc')\n",
    "    plt.title('Training and validation accuracy')\n",
    "    plt.legend()\n",
    "    plt.figure()\n",
    "\n",
    "    plt.plot(epochs, loss, 'bo', label='Training loss')\n",
    "    plt.plot(epochs, validation_loss, 'b', label='Validation loss')\n",
    "    plt.title('Training and validation loss')\n",
    "    plt.legend()\n",
    "\n",
    "    plt.show()\n",
    "    \n",
    "generat_plots(history)"
   ]
  },
  {
   "cell_type": "markdown",
   "metadata": {},
   "source": [
    "There is clearly overfit. We are going to use data augmentation to address this situation\n",
    "\n",
    "# Data Augmentation\n",
    "\n",
    "Basically, data augmentation generates new samples by modifying existing ones. In the following example we are going to also use Dropout to further fight overfitting. Although the images we are using are all different, many come from the same original image, so overfitting is still a concern."
   ]
  },
  {
   "cell_type": "code",
   "execution_count": 9,
   "metadata": {},
   "outputs": [
    {
     "name": "stdout",
     "output_type": "stream",
     "text": [
      "_________________________________________________________________\n",
      "Layer (type)                 Output Shape              Param #   \n",
      "=================================================================\n",
      "conv2d_5 (Conv2D)            (None, 148, 148, 32)      896       \n",
      "_________________________________________________________________\n",
      "max_pooling2d_5 (MaxPooling2 (None, 74, 74, 32)        0         \n",
      "_________________________________________________________________\n",
      "conv2d_6 (Conv2D)            (None, 72, 72, 64)        18496     \n",
      "_________________________________________________________________\n",
      "max_pooling2d_6 (MaxPooling2 (None, 36, 36, 64)        0         \n",
      "_________________________________________________________________\n",
      "conv2d_7 (Conv2D)            (None, 34, 34, 128)       73856     \n",
      "_________________________________________________________________\n",
      "max_pooling2d_7 (MaxPooling2 (None, 17, 17, 128)       0         \n",
      "_________________________________________________________________\n",
      "conv2d_8 (Conv2D)            (None, 15, 15, 128)       147584    \n",
      "_________________________________________________________________\n",
      "max_pooling2d_8 (MaxPooling2 (None, 7, 7, 128)         0         \n",
      "_________________________________________________________________\n",
      "flatten_2 (Flatten)          (None, 6272)              0         \n",
      "_________________________________________________________________\n",
      "dropout_1 (Dropout)          (None, 6272)              0         \n",
      "_________________________________________________________________\n",
      "dense_3 (Dense)              (None, 512)               3211776   \n",
      "_________________________________________________________________\n",
      "dense_4 (Dense)              (None, 1)                 513       \n",
      "=================================================================\n",
      "Total params: 3,453,121\n",
      "Trainable params: 3,453,121\n",
      "Non-trainable params: 0\n",
      "_________________________________________________________________\n"
     ]
    }
   ],
   "source": [
    "net = models.Sequential()\n",
    "net.add(layers.Conv2D(32, (3, 3), activation='relu', input_shape=(150, 150,3)))\n",
    "net.add(layers.MaxPool2D((2, 2)))\n",
    "net.add(layers.Conv2D(64, (3, 3), activation='relu'))\n",
    "net.add(layers.MaxPool2D((2, 2)))\n",
    "net.add(layers.Conv2D(128, (3, 3), activation='relu'))\n",
    "net.add(layers.MaxPool2D((2, 2)))\n",
    "net.add(layers.Conv2D(128, (3, 3), activation='relu'))\n",
    "net.add(layers.MaxPool2D((2, 2)))\n",
    "net.add(layers.Flatten())\n",
    "net.add(layers.Dropout(0.5))\n",
    "net.add(layers.Dense(512, activation='relu'))\n",
    "net.add(layers.Dense(1, activation='sigmoid'))\n",
    "net.summary()"
   ]
  },
  {
   "cell_type": "code",
   "execution_count": 10,
   "metadata": {},
   "outputs": [
    {
     "name": "stdout",
     "output_type": "stream",
     "text": [
      "Found 2000 images belonging to 2 classes.\n",
      "Found 1000 images belonging to 2 classes.\n",
      "Found 1000 images belonging to 2 classes.\n"
     ]
    }
   ],
   "source": [
    "train_datagen = ImageDataGenerator(rescale=1./255,\n",
    "                                  rotation_range=40,\n",
    "                                  width_shift_range=0.2,\n",
    "                                  height_shift_range=0.2,\n",
    "                                  shear_range=0.2,\n",
    "                                  zoom_range=0.2,\n",
    "                                  horizontal_flip=True,\n",
    "                                  fill_mode='nearest')\n",
    "test_datagen = ImageDataGenerator(rescale=1./255)\n",
    "\n",
    "train_generator = train_datagen.flow_from_directory(train_dir,\n",
    "                                                   target_size=(150, 150),\n",
    "                                                   batch_size=32,\n",
    "                                                   class_mode='binary')\n",
    "validation_generator = test_datagen.flow_from_directory(validation_dir,\n",
    "                                                   target_size=(150, 150),\n",
    "                                                   batch_size=32,\n",
    "                                                   class_mode='binary')\n",
    "test_generator = test_datagen.flow_from_directory(test_dir,\n",
    "                                                   target_size=(150, 150),\n",
    "                                                   batch_size=32,\n",
    "                                                   class_mode='binary')"
   ]
  },
  {
   "cell_type": "code",
   "execution_count": 11,
   "metadata": {},
   "outputs": [
    {
     "name": "stdout",
     "output_type": "stream",
     "text": [
      "Epoch 1/50\n",
      " 22/100 [=====>........................] - ETA: 41s - loss: 0.6949 - acc: 0.5043"
     ]
    },
    {
     "name": "stderr",
     "output_type": "stream",
     "text": [
      "/home/ec2-user/anaconda3/envs/tensorflow_p36/lib/python3.6/site-packages/PIL/TiffImagePlugin.py:747: UserWarning: Possibly corrupt EXIF data.  Expecting to read 80000 bytes but only got 0. Skipping tag 64640\n",
      "  \" Skipping tag %s\" % (size, len(data), tag))\n",
      "/home/ec2-user/anaconda3/envs/tensorflow_p36/lib/python3.6/site-packages/PIL/TiffImagePlugin.py:747: UserWarning: Possibly corrupt EXIF data.  Expecting to read 6553600 bytes but only got 0. Skipping tag 49\n",
      "  \" Skipping tag %s\" % (size, len(data), tag))\n",
      "/home/ec2-user/anaconda3/envs/tensorflow_p36/lib/python3.6/site-packages/PIL/TiffImagePlugin.py:747: UserWarning: Possibly corrupt EXIF data.  Expecting to read 1050744 bytes but only got 4951. Skipping tag 51\n",
      "  \" Skipping tag %s\" % (size, len(data), tag))\n",
      "/home/ec2-user/anaconda3/envs/tensorflow_p36/lib/python3.6/site-packages/PIL/TiffImagePlugin.py:747: UserWarning: Possibly corrupt EXIF data.  Expecting to read 293339136 bytes but only got 0. Skipping tag 5\n",
      "  \" Skipping tag %s\" % (size, len(data), tag))\n",
      "/home/ec2-user/anaconda3/envs/tensorflow_p36/lib/python3.6/site-packages/PIL/TiffImagePlugin.py:747: UserWarning: Possibly corrupt EXIF data.  Expecting to read 293863424 bytes but only got 0. Skipping tag 5\n",
      "  \" Skipping tag %s\" % (size, len(data), tag))\n",
      "/home/ec2-user/anaconda3/envs/tensorflow_p36/lib/python3.6/site-packages/PIL/TiffImagePlugin.py:747: UserWarning: Possibly corrupt EXIF data.  Expecting to read 3368026112 bytes but only got 0. Skipping tag 7\n",
      "  \" Skipping tag %s\" % (size, len(data), tag))\n",
      "/home/ec2-user/anaconda3/envs/tensorflow_p36/lib/python3.6/site-packages/PIL/TiffImagePlugin.py:747: UserWarning: Possibly corrupt EXIF data.  Expecting to read 134479872 bytes but only got 0. Skipping tag 7\n",
      "  \" Skipping tag %s\" % (size, len(data), tag))\n",
      "/home/ec2-user/anaconda3/envs/tensorflow_p36/lib/python3.6/site-packages/PIL/TiffImagePlugin.py:747: UserWarning: Possibly corrupt EXIF data.  Expecting to read 295698432 bytes but only got 0. Skipping tag 10\n",
      "  \" Skipping tag %s\" % (size, len(data), tag))\n",
      "/home/ec2-user/anaconda3/envs/tensorflow_p36/lib/python3.6/site-packages/PIL/TiffImagePlugin.py:747: UserWarning: Possibly corrupt EXIF data.  Expecting to read 296222720 bytes but only got 0. Skipping tag 5\n",
      "  \" Skipping tag %s\" % (size, len(data), tag))\n",
      "/home/ec2-user/anaconda3/envs/tensorflow_p36/lib/python3.6/site-packages/PIL/TiffImagePlugin.py:747: UserWarning: Possibly corrupt EXIF data.  Expecting to read 3300917248 bytes but only got 0. Skipping tag 7\n",
      "  \" Skipping tag %s\" % (size, len(data), tag))\n",
      "/home/ec2-user/anaconda3/envs/tensorflow_p36/lib/python3.6/site-packages/PIL/TiffImagePlugin.py:747: UserWarning: Possibly corrupt EXIF data.  Expecting to read 65536 bytes but only got 0. Skipping tag 3\n",
      "  \" Skipping tag %s\" % (size, len(data), tag))\n",
      "/home/ec2-user/anaconda3/envs/tensorflow_p36/lib/python3.6/site-packages/PIL/TiffImagePlugin.py:747: UserWarning: Possibly corrupt EXIF data.  Expecting to read 14745600 bytes but only got 0. Skipping tag 4\n",
      "  \" Skipping tag %s\" % (size, len(data), tag))\n",
      "/home/ec2-user/anaconda3/envs/tensorflow_p36/lib/python3.6/site-packages/PIL/TiffImagePlugin.py:747: UserWarning: Possibly corrupt EXIF data.  Expecting to read 25624576 bytes but only got 0. Skipping tag 4\n",
      "  \" Skipping tag %s\" % (size, len(data), tag))\n",
      "/home/ec2-user/anaconda3/envs/tensorflow_p36/lib/python3.6/site-packages/PIL/TiffImagePlugin.py:747: UserWarning: Possibly corrupt EXIF data.  Expecting to read 317718528 bytes but only got 4956. Skipping tag 4\n",
      "  \" Skipping tag %s\" % (size, len(data), tag))\n",
      "/home/ec2-user/anaconda3/envs/tensorflow_p36/lib/python3.6/site-packages/PIL/TiffImagePlugin.py:747: UserWarning: Possibly corrupt EXIF data.  Expecting to read 131073 bytes but only got 4952. Skipping tag 0\n",
      "  \" Skipping tag %s\" % (size, len(data), tag))\n",
      "/home/ec2-user/anaconda3/envs/tensorflow_p36/lib/python3.6/site-packages/PIL/TiffImagePlugin.py:747: UserWarning: Possibly corrupt EXIF data.  Expecting to read 393216 bytes but only got 0. Skipping tag 3\n",
      "  \" Skipping tag %s\" % (size, len(data), tag))\n",
      "/home/ec2-user/anaconda3/envs/tensorflow_p36/lib/python3.6/site-packages/PIL/TiffImagePlugin.py:747: UserWarning: Possibly corrupt EXIF data.  Expecting to read 287178752 bytes but only got 0. Skipping tag 5\n",
      "  \" Skipping tag %s\" % (size, len(data), tag))\n",
      "/home/ec2-user/anaconda3/envs/tensorflow_p36/lib/python3.6/site-packages/PIL/TiffImagePlugin.py:747: UserWarning: Possibly corrupt EXIF data.  Expecting to read 287703040 bytes but only got 0. Skipping tag 5\n",
      "  \" Skipping tag %s\" % (size, len(data), tag))\n",
      "/home/ec2-user/anaconda3/envs/tensorflow_p36/lib/python3.6/site-packages/PIL/TiffImagePlugin.py:747: UserWarning: Possibly corrupt EXIF data.  Expecting to read 131072 bytes but only got 0. Skipping tag 3\n",
      "  \" Skipping tag %s\" % (size, len(data), tag))\n",
      "/home/ec2-user/anaconda3/envs/tensorflow_p36/lib/python3.6/site-packages/PIL/TiffImagePlugin.py:747: UserWarning: Possibly corrupt EXIF data.  Expecting to read 524288 bytes but only got 0. Skipping tag 4\n",
      "  \" Skipping tag %s\" % (size, len(data), tag))\n",
      "/home/ec2-user/anaconda3/envs/tensorflow_p36/lib/python3.6/site-packages/PIL/TiffImagePlugin.py:747: UserWarning: Possibly corrupt EXIF data.  Expecting to read 286654464 bytes but only got 4956. Skipping tag 4\n",
      "  \" Skipping tag %s\" % (size, len(data), tag))\n",
      "/home/ec2-user/anaconda3/envs/tensorflow_p36/lib/python3.6/site-packages/PIL/TiffImagePlugin.py:764: UserWarning: Corrupt EXIF data.  Expecting to read 12 bytes but only got 2. \n",
      "  warnings.warn(str(msg))\n"
     ]
    },
    {
     "name": "stdout",
     "output_type": "stream",
     "text": [
      " 99/100 [============================>.] - ETA: 0s - loss: 0.6906 - acc: 0.5227"
     ]
    },
    {
     "name": "stderr",
     "output_type": "stream",
     "text": [
      "/home/ec2-user/anaconda3/envs/tensorflow_p36/lib/python3.6/site-packages/PIL/TiffImagePlugin.py:747: UserWarning: Possibly corrupt EXIF data.  Expecting to read 404094976 bytes but only got 0. Skipping tag 5\n",
      "  \" Skipping tag %s\" % (size, len(data), tag))\n",
      "/home/ec2-user/anaconda3/envs/tensorflow_p36/lib/python3.6/site-packages/PIL/TiffImagePlugin.py:747: UserWarning: Possibly corrupt EXIF data.  Expecting to read 404619264 bytes but only got 0. Skipping tag 5\n",
      "  \" Skipping tag %s\" % (size, len(data), tag))\n",
      "/home/ec2-user/anaconda3/envs/tensorflow_p36/lib/python3.6/site-packages/PIL/TiffImagePlugin.py:747: UserWarning: Possibly corrupt EXIF data.  Expecting to read 425459712 bytes but only got 0. Skipping tag 4\n",
      "  \" Skipping tag %s\" % (size, len(data), tag))\n",
      "/home/ec2-user/anaconda3/envs/tensorflow_p36/lib/python3.6/site-packages/PIL/TiffImagePlugin.py:747: UserWarning: Possibly corrupt EXIF data.  Expecting to read 1385474 bytes but only got 6833. Skipping tag 513\n",
      "  \" Skipping tag %s\" % (size, len(data), tag))\n",
      "/home/ec2-user/anaconda3/envs/tensorflow_p36/lib/python3.6/site-packages/PIL/TiffImagePlugin.py:747: UserWarning: Possibly corrupt EXIF data.  Expecting to read 3846701056 bytes but only got 0. Skipping tag 2\n",
      "  \" Skipping tag %s\" % (size, len(data), tag))\n",
      "/home/ec2-user/anaconda3/envs/tensorflow_p36/lib/python3.6/site-packages/PIL/TiffImagePlugin.py:747: UserWarning: Possibly corrupt EXIF data.  Expecting to read 196867 bytes but only got 6833. Skipping tag 0\n",
      "  \" Skipping tag %s\" % (size, len(data), tag))\n",
      "/home/ec2-user/anaconda3/envs/tensorflow_p36/lib/python3.6/site-packages/PIL/TiffImagePlugin.py:764: UserWarning: Corrupt EXIF data.  Expecting to read 12 bytes but only got 8. \n",
      "  warnings.warn(str(msg))\n"
     ]
    },
    {
     "name": "stdout",
     "output_type": "stream",
     "text": [
      "100/100 [==============================] - 55s 553ms/step - loss: 0.6903 - acc: 0.5250 - val_loss: 0.6824 - val_acc: 0.5666\n",
      "Epoch 2/50\n",
      "100/100 [==============================] - 52s 515ms/step - loss: 0.6745 - acc: 0.5769 - val_loss: 0.6704 - val_acc: 0.5522\n",
      "Epoch 3/50\n",
      "100/100 [==============================] - 52s 519ms/step - loss: 0.6590 - acc: 0.6019 - val_loss: 0.6375 - val_acc: 0.6237\n",
      "Epoch 4/50\n",
      "100/100 [==============================] - 52s 515ms/step - loss: 0.6371 - acc: 0.6360 - val_loss: 0.6082 - val_acc: 0.6579\n",
      "Epoch 5/50\n",
      "100/100 [==============================] - 52s 517ms/step - loss: 0.6200 - acc: 0.6513 - val_loss: 0.6022 - val_acc: 0.6580\n",
      "Epoch 6/50\n",
      "100/100 [==============================] - 52s 517ms/step - loss: 0.6128 - acc: 0.6575 - val_loss: 0.6015 - val_acc: 0.6579\n",
      "Epoch 7/50\n",
      "100/100 [==============================] - 52s 517ms/step - loss: 0.5938 - acc: 0.6781 - val_loss: 0.5795 - val_acc: 0.6935\n",
      "Epoch 8/50\n",
      "100/100 [==============================] - 52s 518ms/step - loss: 0.5911 - acc: 0.6809 - val_loss: 0.5506 - val_acc: 0.7055\n",
      "Epoch 9/50\n",
      "100/100 [==============================] - 51s 514ms/step - loss: 0.5724 - acc: 0.7022 - val_loss: 0.5922 - val_acc: 0.6862\n",
      "Epoch 10/50\n",
      "100/100 [==============================] - 52s 518ms/step - loss: 0.5805 - acc: 0.6959 - val_loss: 0.5491 - val_acc: 0.7189\n",
      "Epoch 11/50\n",
      "100/100 [==============================] - 52s 517ms/step - loss: 0.5697 - acc: 0.7022 - val_loss: 0.5461 - val_acc: 0.7088\n",
      "Epoch 12/50\n",
      "100/100 [==============================] - 52s 516ms/step - loss: 0.5561 - acc: 0.7116 - val_loss: 0.5295 - val_acc: 0.7221\n",
      "Epoch 13/50\n",
      "100/100 [==============================] - 52s 518ms/step - loss: 0.5586 - acc: 0.7087 - val_loss: 0.5532 - val_acc: 0.7133\n",
      "Epoch 14/50\n",
      "100/100 [==============================] - 52s 516ms/step - loss: 0.5554 - acc: 0.7081 - val_loss: 0.5509 - val_acc: 0.7113\n",
      "Epoch 15/50\n",
      "100/100 [==============================] - 52s 518ms/step - loss: 0.5341 - acc: 0.7303 - val_loss: 0.5095 - val_acc: 0.7461\n",
      "Epoch 16/50\n",
      "100/100 [==============================] - 52s 515ms/step - loss: 0.5418 - acc: 0.7244 - val_loss: 0.5187 - val_acc: 0.7397\n",
      "Epoch 17/50\n",
      "100/100 [==============================] - 52s 518ms/step - loss: 0.5331 - acc: 0.7306 - val_loss: 0.5419 - val_acc: 0.7291\n",
      "Epoch 18/50\n",
      "100/100 [==============================] - 52s 517ms/step - loss: 0.5296 - acc: 0.7331 - val_loss: 0.5010 - val_acc: 0.7597\n",
      "Epoch 19/50\n",
      "100/100 [==============================] - 52s 517ms/step - loss: 0.5324 - acc: 0.7269 - val_loss: 0.4989 - val_acc: 0.7500\n",
      "Epoch 20/50\n",
      "100/100 [==============================] - 52s 517ms/step - loss: 0.5252 - acc: 0.7428 - val_loss: 0.4966 - val_acc: 0.7642\n",
      "Epoch 21/50\n",
      "100/100 [==============================] - 52s 516ms/step - loss: 0.5108 - acc: 0.7466 - val_loss: 0.5328 - val_acc: 0.7379\n",
      "Epoch 22/50\n",
      "100/100 [==============================] - 52s 516ms/step - loss: 0.5190 - acc: 0.7362 - val_loss: 0.5037 - val_acc: 0.7468\n",
      "Epoch 23/50\n",
      "100/100 [==============================] - 52s 518ms/step - loss: 0.5072 - acc: 0.7494 - val_loss: 0.5024 - val_acc: 0.7589\n",
      "Epoch 24/50\n",
      "100/100 [==============================] - 52s 515ms/step - loss: 0.5114 - acc: 0.7503 - val_loss: 0.4684 - val_acc: 0.7693\n",
      "Epoch 25/50\n",
      "100/100 [==============================] - 52s 516ms/step - loss: 0.5044 - acc: 0.7491 - val_loss: 0.5068 - val_acc: 0.7487\n",
      "Epoch 26/50\n",
      "100/100 [==============================] - 52s 516ms/step - loss: 0.4932 - acc: 0.7603 - val_loss: 0.4705 - val_acc: 0.7754\n",
      "Epoch 27/50\n",
      "100/100 [==============================] - 52s 516ms/step - loss: 0.4979 - acc: 0.7534 - val_loss: 0.4912 - val_acc: 0.7687\n",
      "Epoch 28/50\n",
      "100/100 [==============================] - 52s 517ms/step - loss: 0.5028 - acc: 0.7512 - val_loss: 0.4733 - val_acc: 0.7747\n",
      "Epoch 29/50\n",
      "100/100 [==============================] - 52s 516ms/step - loss: 0.4845 - acc: 0.7650 - val_loss: 0.5820 - val_acc: 0.6927\n",
      "Epoch 30/50\n",
      "100/100 [==============================] - 52s 520ms/step - loss: 0.4943 - acc: 0.7547 - val_loss: 0.4791 - val_acc: 0.7646\n",
      "Epoch 31/50\n",
      "100/100 [==============================] - 52s 518ms/step - loss: 0.4765 - acc: 0.7675 - val_loss: 0.4693 - val_acc: 0.7751\n",
      "Epoch 32/50\n",
      "100/100 [==============================] - 52s 521ms/step - loss: 0.4817 - acc: 0.7644 - val_loss: 0.5060 - val_acc: 0.7506\n",
      "Epoch 33/50\n",
      "100/100 [==============================] - 52s 518ms/step - loss: 0.4711 - acc: 0.7675 - val_loss: 0.4835 - val_acc: 0.7640\n",
      "Epoch 34/50\n",
      "100/100 [==============================] - 52s 518ms/step - loss: 0.4739 - acc: 0.7691 - val_loss: 0.4472 - val_acc: 0.7848\n",
      "Epoch 35/50\n",
      "100/100 [==============================] - 52s 519ms/step - loss: 0.4728 - acc: 0.7678 - val_loss: 0.5155 - val_acc: 0.7513\n",
      "Epoch 36/50\n",
      "100/100 [==============================] - 52s 519ms/step - loss: 0.4753 - acc: 0.7678 - val_loss: 0.4720 - val_acc: 0.7719\n",
      "Epoch 37/50\n",
      "100/100 [==============================] - 52s 520ms/step - loss: 0.4499 - acc: 0.7878 - val_loss: 0.4481 - val_acc: 0.8065\n",
      "Epoch 38/50\n",
      "100/100 [==============================] - 52s 517ms/step - loss: 0.4546 - acc: 0.7866 - val_loss: 0.4834 - val_acc: 0.7622\n",
      "Epoch 41/50\n",
      "100/100 [==============================] - 52s 515ms/step - loss: 0.4460 - acc: 0.7856 - val_loss: 0.4668 - val_acc: 0.7809\n",
      "Epoch 42/50\n",
      "100/100 [==============================] - 52s 520ms/step - loss: 0.4498 - acc: 0.7909 - val_loss: 0.4580 - val_acc: 0.7849\n",
      "Epoch 43/50\n",
      "100/100 [==============================] - 52s 516ms/step - loss: 0.4427 - acc: 0.7897 - val_loss: 0.5415 - val_acc: 0.7558\n",
      "Epoch 44/50\n",
      "100/100 [==============================] - 52s 519ms/step - loss: 0.4468 - acc: 0.7894 - val_loss: 0.4727 - val_acc: 0.7728\n",
      "Epoch 45/50\n",
      "100/100 [==============================] - 52s 516ms/step - loss: 0.4274 - acc: 0.8006 - val_loss: 0.4880 - val_acc: 0.7887\n",
      "Epoch 46/50\n",
      "100/100 [==============================] - 52s 518ms/step - loss: 0.4449 - acc: 0.7825 - val_loss: 0.4490 - val_acc: 0.7843\n",
      "Epoch 47/50\n",
      "100/100 [==============================] - 52s 520ms/step - loss: 0.4458 - acc: 0.7869 - val_loss: 0.4409 - val_acc: 0.8022\n",
      "Epoch 48/50\n",
      "100/100 [==============================] - 52s 516ms/step - loss: 0.4275 - acc: 0.7894 - val_loss: 0.5162 - val_acc: 0.7513\n",
      "Epoch 49/50\n",
      "100/100 [==============================] - 52s 519ms/step - loss: 0.4350 - acc: 0.7987 - val_loss: 0.4650 - val_acc: 0.7741\n",
      "Epoch 50/50\n",
      "100/100 [==============================] - 52s 517ms/step - loss: 0.4281 - acc: 0.7984 - val_loss: 0.4214 - val_acc: 0.8131\n"
     ]
    }
   ],
   "source": [
    "net.compile(loss='binary_crossentropy',\n",
    "            optimizer=optimizers.RMSprop(lr=1e-4),\n",
    "            metrics=['acc'])\n",
    "\n",
    "history_aug = net.fit_generator(train_generator, \n",
    "                            steps_per_epoch=100, \n",
    "                            epochs=50, \n",
    "                            validation_data=validation_generator,\n",
    "                            validation_steps=50)"
   ]
  },
  {
   "cell_type": "code",
   "execution_count": 12,
   "metadata": {},
   "outputs": [
    {
     "data": {
      "image/png": "[encoded data removed]",
      "text/plain": [
       "<Figure size 432x288 with 1 Axes>"
      ]
     },
     "metadata": {},
     "output_type": "display_data"
    },
    {
     "data": {
      "image/png": "[encoded data removed]",
      "text/plain": [
       "<Figure size 432x288 with 1 Axes>"
      ]
     },
     "metadata": {},
     "output_type": "display_data"
    }
   ],
   "source": [
    "generat_plots(history_aug)"
   ]
  }
 ],
 "metadata": {
  "kernelspec": {
   "display_name": "Environment (conda_tensorflow_p36)",
   "language": "python",
   "name": "conda_tensorflow_p36"
  },
  "language_info": {
   "codemirror_mode": {
    "name": "ipython",
    "version": 3
   },
   "file_extension": ".py",
   "mimetype": "text/x-python",
   "name": "python",
   "nbconvert_exporter": "python",
   "pygments_lexer": "ipython3",
   "version": "3.6.5"
  }
 },
 "nbformat": 4,
 "nbformat_minor": 2
}
