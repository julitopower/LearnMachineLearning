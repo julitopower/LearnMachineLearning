{
 "cells": [
  {
   "cell_type": "markdown",
   "metadata": {},
   "source": [
    "First we need to download the extract the dataset. The dataset will be extracted under ```/tmp/PetImages```, where there will be two directories ```Cat```and ```Dog```, each containing 12500 images."
   ]
  },
  {
   "cell_type": "code",
   "execution_count": 1,
   "metadata": {},
   "outputs": [
    {
     "name": "stdout",
     "output_type": "stream",
     "text": [
      "--2019-04-13 15:38:38--  https://download.microsoft.com/download/3/E/1/3E1C3F21-ECDB-4869-8368-6DEBA77B919F/kagglecatsanddogs_3367a.zip\n",
      "Resolving download.microsoft.com (download.microsoft.com)... 184.26.80.188, 2600:1409:3000:4a4::e59, 2600:1409:3000:48e::e59\n",
      "Connecting to download.microsoft.com (download.microsoft.com)|184.26.80.188|:443... connected.\n",
      "HTTP request sent, awaiting response... 200 OK\n",
      "Length: 824894548 (787M) [application/octet-stream]\n",
      "Saving to: ‘kagglecatsanddogs_3367a.zip’\n",
      "\n",
      "kagglecatsanddogs_3 100%[===================>] 786.68M  8.41MB/s    in 1m 41s  \n",
      "\n",
      "2019-04-13 15:40:20 (7.77 MB/s) - ‘kagglecatsanddogs_3367a.zip’ saved [824894548/824894548]\n",
      "\n"
     ]
    }
   ],
   "source": [
    "# Let's make sure Keras is installed\n",
    "import sys\n",
    "!{sys.executable} -m pip install keras > /dev/null\n",
    "import matplotlib.pyplot as plt\n",
    "import numpy as np\n",
    "!cd /tmp/ && wget https://download.microsoft.com/download/3/E/1/3E1C3F21-ECDB-4869-8368-6DEBA77B919F/kagglecatsanddogs_3367a.zip"
   ]
  },
  {
   "cell_type": "code",
   "execution_count": 61,
   "metadata": {},
   "outputs": [],
   "source": [
    "!cd /tmp/ && rm PetImages -rf && unzip -o kagglecatsanddogs_3367a.zip > /dev/null\n",
    "!cd /tmp/PetImages/Cat/ && cp 5534.jpg 666.jpg\n",
    "!cd /tmp/PetImages/Dog/ && cp 1000.jpg 11702.jpg"
   ]
  },
  {
   "cell_type": "markdown",
   "metadata": {},
   "source": [
    "For the sake of training speed, we are going to create a smaller dataset contining 1000 images of each class for the training dataset, 500 for the validation dataset and 500 for the test dataset."
   ]
  },
  {
   "cell_type": "code",
   "execution_count": 62,
   "metadata": {},
   "outputs": [
    {
     "name": "stdout",
     "output_type": "stream",
     "text": [
      "Cat Images train:  1000\n",
      "Dog Images train:  1000\n",
      "Cat Images validation:  500\n",
      "Dog Images validation:  500\n",
      "Cat Images test:  500\n",
      "Dog Images test:  500\n"
     ]
    }
   ],
   "source": [
    "import os, shutil\n",
    "\n",
    "def create_dir(dir):\n",
    "    if not os.path.exists(dir):\n",
    "        os.mkdir(dir)\n",
    "\n",
    "base_dir = os.path.join('/', 'tmp', 'small_dataset')\n",
    "create_dir(base_dir)\n",
    "\n",
    "dirs = [('train', 1000), ('validation', 500), ('test', 500)]\n",
    "idx = 0\n",
    "for d in dirs:\n",
    "    # Create directores\n",
    "    dir = os.path.join(base_dir, d[0])\n",
    "    dir_cats = os.path.join(dir, 'cats')\n",
    "    dir_dogs = os.path.join(dir, 'dogs')\n",
    "    create_dir(dir)\n",
    "    create_dir(dir_cats)\n",
    "    create_dir(dir_dogs)\n",
    "    \n",
    "    # Copy the required number of cats and dogs images\n",
    "    fnames = ['{}.jpg'.format(i) for i in range(idx, idx + d[1])]\n",
    "    for fname in fnames:\n",
    "        src = os.path.join('/', 'tmp', 'PetImages','Cat', fname)\n",
    "        dst = os.path.join(dir_cats, fname)\n",
    "        shutil.copyfile(src, dst)\n",
    "        \n",
    "    for fname in fnames:\n",
    "        src = os.path.join('/', 'tmp', 'PetImages','Dog', fname)\n",
    "        dst = os.path.join(dir_dogs, fname)\n",
    "        shutil.copyfile(src, dst)\n",
    "    idx = idx + d[1]\n",
    "    print('Cat Images {}: '.format(d[0]), len(os.listdir(dir_cats)))\n",
    "    print('Dog Images {}: '.format(d[0]), len(os.listdir(dir_dogs)))"
   ]
  },
  {
   "cell_type": "markdown",
   "metadata": {},
   "source": [
    "# Building the network\n",
    "\n",
    "We begin by defining the network structure"
   ]
  },
  {
   "cell_type": "code",
   "execution_count": 63,
   "metadata": {},
   "outputs": [
    {
     "name": "stdout",
     "output_type": "stream",
     "text": [
      "_________________________________________________________________\n",
      "Layer (type)                 Output Shape              Param #   \n",
      "=================================================================\n",
      "conv2d_22 (Conv2D)           (None, 148, 148, 32)      896       \n",
      "_________________________________________________________________\n",
      "max_pooling2d_21 (MaxPooling (None, 74, 74, 32)        0         \n",
      "_________________________________________________________________\n",
      "conv2d_23 (Conv2D)           (None, 72, 72, 64)        18496     \n",
      "_________________________________________________________________\n",
      "max_pooling2d_22 (MaxPooling (None, 36, 36, 64)        0         \n",
      "_________________________________________________________________\n",
      "conv2d_24 (Conv2D)           (None, 34, 34, 128)       73856     \n",
      "_________________________________________________________________\n",
      "max_pooling2d_23 (MaxPooling (None, 17, 17, 128)       0         \n",
      "_________________________________________________________________\n",
      "conv2d_25 (Conv2D)           (None, 15, 15, 128)       147584    \n",
      "_________________________________________________________________\n",
      "max_pooling2d_24 (MaxPooling (None, 7, 7, 128)         0         \n",
      "_________________________________________________________________\n",
      "flatten_6 (Flatten)          (None, 6272)              0         \n",
      "_________________________________________________________________\n",
      "dense_11 (Dense)             (None, 512)               3211776   \n",
      "_________________________________________________________________\n",
      "dense_12 (Dense)             (None, 1)                 513       \n",
      "=================================================================\n",
      "Total params: 3,453,121\n",
      "Trainable params: 3,453,121\n",
      "Non-trainable params: 0\n",
      "_________________________________________________________________\n"
     ]
    }
   ],
   "source": [
    "from keras import layers, models\n",
    "\n",
    "net = models.Sequential()\n",
    "net.add(layers.Conv2D(32, (3, 3), activation='relu', input_shape=(150, 150,3)))\n",
    "net.add(layers.MaxPool2D((2, 2)))\n",
    "net.add(layers.Conv2D(64, (3, 3), activation='relu'))\n",
    "net.add(layers.MaxPool2D((2, 2)))\n",
    "net.add(layers.Conv2D(128, (3, 3), activation='relu'))\n",
    "net.add(layers.MaxPool2D((2, 2)))\n",
    "net.add(layers.Conv2D(128, (3, 3), activation='relu'))\n",
    "net.add(layers.MaxPool2D((2, 2)))\n",
    "net.add(layers.Flatten())\n",
    "net.add(layers.Dense(512, activation='relu'))\n",
    "net.add(layers.Dense(1, activation='sigmoid'))\n",
    "net.summary()"
   ]
  },
  {
   "cell_type": "markdown",
   "metadata": {},
   "source": [
    "and finally compile the network, for which we need to define a loss function and an optimizer"
   ]
  },
  {
   "cell_type": "code",
   "execution_count": 64,
   "metadata": {},
   "outputs": [],
   "source": [
    "from keras import optimizers\n",
    "\n",
    "net.compile(loss='binary_crossentropy',\n",
    "            optimizer=optimizers.RMSprop(lr=1e-4),\n",
    "            metrics=['acc'])"
   ]
  },
  {
   "cell_type": "markdown",
   "metadata": {},
   "source": [
    "Before we can train our model, we need to pre-process the data. In this case we want to normalize the values in the range $[0, 1]$, and resize the images to $(150, 150)$ pixels"
   ]
  },
  {
   "cell_type": "code",
   "execution_count": 65,
   "metadata": {},
   "outputs": [
    {
     "name": "stdout",
     "output_type": "stream",
     "text": [
      "Found 2000 images belonging to 2 classes.\n",
      "Found 1000 images belonging to 2 classes.\n",
      "Found 1000 images belonging to 2 classes.\n"
     ]
    }
   ],
   "source": [
    "from keras.preprocessing.image import ImageDataGenerator\n",
    "\n",
    "train_dir = os.path.join(base_dir, 'train')\n",
    "validation_dir = os.path.join(base_dir, 'validation')\n",
    "test_dir = os.path.join(base_dir, 'test')\n",
    "\n",
    "train_datagen = ImageDataGenerator(rescale=1./255)\n",
    "test_datagen = ImageDataGenerator(rescale=1./255)\n",
    "train_generator = train_datagen.flow_from_directory(train_dir,\n",
    "                                                   target_size=(150, 150),\n",
    "                                                   batch_size=20,\n",
    "                                                   class_mode='binary')\n",
    "validation_generator = test_datagen.flow_from_directory(validation_dir,\n",
    "                                                   target_size=(150, 150),\n",
    "                                                   batch_size=20,\n",
    "                                                   class_mode='binary')\n",
    "validation_generator = test_datagen.flow_from_directory(test_dir,\n",
    "                                                   target_size=(150, 150),\n",
    "                                                   batch_size=20,\n",
    "                                                   class_mode='binary')"
   ]
  },
  {
   "cell_type": "markdown",
   "metadata": {},
   "source": [
    "# Training\n",
    "\n",
    "Finally we are ready to train our model"
   ]
  },
  {
   "cell_type": "code",
   "execution_count": 66,
   "metadata": {},
   "outputs": [
    {
     "name": "stdout",
     "output_type": "stream",
     "text": [
      "Epoch 1/30\n",
      "  2/100 [..............................] - ETA: 2:40 - loss: 0.7395 - acc: 0.4750"
     ]
    },
    {
     "name": "stderr",
     "output_type": "stream",
     "text": [
      "/home/ec2-user/anaconda3/envs/tensorflow_p36/lib/python3.6/site-packages/PIL/TiffImagePlugin.py:747: UserWarning: Possibly corrupt EXIF data.  Expecting to read 80000 bytes but only got 0. Skipping tag 64640\n",
      "  \" Skipping tag %s\" % (size, len(data), tag))\n",
      "/home/ec2-user/anaconda3/envs/tensorflow_p36/lib/python3.6/site-packages/PIL/TiffImagePlugin.py:747: UserWarning: Possibly corrupt EXIF data.  Expecting to read 6553600 bytes but only got 0. Skipping tag 49\n",
      "  \" Skipping tag %s\" % (size, len(data), tag))\n",
      "/home/ec2-user/anaconda3/envs/tensorflow_p36/lib/python3.6/site-packages/PIL/TiffImagePlugin.py:747: UserWarning: Possibly corrupt EXIF data.  Expecting to read 1050744 bytes but only got 4951. Skipping tag 51\n",
      "  \" Skipping tag %s\" % (size, len(data), tag))\n",
      "/home/ec2-user/anaconda3/envs/tensorflow_p36/lib/python3.6/site-packages/PIL/TiffImagePlugin.py:747: UserWarning: Possibly corrupt EXIF data.  Expecting to read 293339136 bytes but only got 0. Skipping tag 5\n",
      "  \" Skipping tag %s\" % (size, len(data), tag))\n",
      "/home/ec2-user/anaconda3/envs/tensorflow_p36/lib/python3.6/site-packages/PIL/TiffImagePlugin.py:747: UserWarning: Possibly corrupt EXIF data.  Expecting to read 293863424 bytes but only got 0. Skipping tag 5\n",
      "  \" Skipping tag %s\" % (size, len(data), tag))\n",
      "/home/ec2-user/anaconda3/envs/tensorflow_p36/lib/python3.6/site-packages/PIL/TiffImagePlugin.py:747: UserWarning: Possibly corrupt EXIF data.  Expecting to read 3368026112 bytes but only got 0. Skipping tag 7\n",
      "  \" Skipping tag %s\" % (size, len(data), tag))\n",
      "/home/ec2-user/anaconda3/envs/tensorflow_p36/lib/python3.6/site-packages/PIL/TiffImagePlugin.py:747: UserWarning: Possibly corrupt EXIF data.  Expecting to read 134479872 bytes but only got 0. Skipping tag 7\n",
      "  \" Skipping tag %s\" % (size, len(data), tag))\n",
      "/home/ec2-user/anaconda3/envs/tensorflow_p36/lib/python3.6/site-packages/PIL/TiffImagePlugin.py:747: UserWarning: Possibly corrupt EXIF data.  Expecting to read 295698432 bytes but only got 0. Skipping tag 10\n",
      "  \" Skipping tag %s\" % (size, len(data), tag))\n",
      "/home/ec2-user/anaconda3/envs/tensorflow_p36/lib/python3.6/site-packages/PIL/TiffImagePlugin.py:747: UserWarning: Possibly corrupt EXIF data.  Expecting to read 296222720 bytes but only got 0. Skipping tag 5\n",
      "  \" Skipping tag %s\" % (size, len(data), tag))\n",
      "/home/ec2-user/anaconda3/envs/tensorflow_p36/lib/python3.6/site-packages/PIL/TiffImagePlugin.py:747: UserWarning: Possibly corrupt EXIF data.  Expecting to read 3300917248 bytes but only got 0. Skipping tag 7\n",
      "  \" Skipping tag %s\" % (size, len(data), tag))\n",
      "/home/ec2-user/anaconda3/envs/tensorflow_p36/lib/python3.6/site-packages/PIL/TiffImagePlugin.py:747: UserWarning: Possibly corrupt EXIF data.  Expecting to read 65536 bytes but only got 0. Skipping tag 3\n",
      "  \" Skipping tag %s\" % (size, len(data), tag))\n",
      "/home/ec2-user/anaconda3/envs/tensorflow_p36/lib/python3.6/site-packages/PIL/TiffImagePlugin.py:747: UserWarning: Possibly corrupt EXIF data.  Expecting to read 14745600 bytes but only got 0. Skipping tag 4\n",
      "  \" Skipping tag %s\" % (size, len(data), tag))\n",
      "/home/ec2-user/anaconda3/envs/tensorflow_p36/lib/python3.6/site-packages/PIL/TiffImagePlugin.py:747: UserWarning: Possibly corrupt EXIF data.  Expecting to read 25624576 bytes but only got 0. Skipping tag 4\n",
      "  \" Skipping tag %s\" % (size, len(data), tag))\n",
      "/home/ec2-user/anaconda3/envs/tensorflow_p36/lib/python3.6/site-packages/PIL/TiffImagePlugin.py:747: UserWarning: Possibly corrupt EXIF data.  Expecting to read 317718528 bytes but only got 4956. Skipping tag 4\n",
      "  \" Skipping tag %s\" % (size, len(data), tag))\n",
      "/home/ec2-user/anaconda3/envs/tensorflow_p36/lib/python3.6/site-packages/PIL/TiffImagePlugin.py:747: UserWarning: Possibly corrupt EXIF data.  Expecting to read 131073 bytes but only got 4952. Skipping tag 0\n",
      "  \" Skipping tag %s\" % (size, len(data), tag))\n",
      "/home/ec2-user/anaconda3/envs/tensorflow_p36/lib/python3.6/site-packages/PIL/TiffImagePlugin.py:747: UserWarning: Possibly corrupt EXIF data.  Expecting to read 393216 bytes but only got 0. Skipping tag 3\n",
      "  \" Skipping tag %s\" % (size, len(data), tag))\n",
      "/home/ec2-user/anaconda3/envs/tensorflow_p36/lib/python3.6/site-packages/PIL/TiffImagePlugin.py:747: UserWarning: Possibly corrupt EXIF data.  Expecting to read 287178752 bytes but only got 0. Skipping tag 5\n",
      "  \" Skipping tag %s\" % (size, len(data), tag))\n",
      "/home/ec2-user/anaconda3/envs/tensorflow_p36/lib/python3.6/site-packages/PIL/TiffImagePlugin.py:747: UserWarning: Possibly corrupt EXIF data.  Expecting to read 287703040 bytes but only got 0. Skipping tag 5\n",
      "  \" Skipping tag %s\" % (size, len(data), tag))\n",
      "/home/ec2-user/anaconda3/envs/tensorflow_p36/lib/python3.6/site-packages/PIL/TiffImagePlugin.py:747: UserWarning: Possibly corrupt EXIF data.  Expecting to read 131072 bytes but only got 0. Skipping tag 3\n",
      "  \" Skipping tag %s\" % (size, len(data), tag))\n",
      "/home/ec2-user/anaconda3/envs/tensorflow_p36/lib/python3.6/site-packages/PIL/TiffImagePlugin.py:747: UserWarning: Possibly corrupt EXIF data.  Expecting to read 524288 bytes but only got 0. Skipping tag 4\n",
      "  \" Skipping tag %s\" % (size, len(data), tag))\n",
      "/home/ec2-user/anaconda3/envs/tensorflow_p36/lib/python3.6/site-packages/PIL/TiffImagePlugin.py:747: UserWarning: Possibly corrupt EXIF data.  Expecting to read 286654464 bytes but only got 4956. Skipping tag 4\n",
      "  \" Skipping tag %s\" % (size, len(data), tag))\n",
      "/home/ec2-user/anaconda3/envs/tensorflow_p36/lib/python3.6/site-packages/PIL/TiffImagePlugin.py:764: UserWarning: Corrupt EXIF data.  Expecting to read 12 bytes but only got 2. \n",
      "  warnings.warn(str(msg))\n"
     ]
    },
    {
     "name": "stdout",
     "output_type": "stream",
     "text": [
      "100/100 [==============================] - 51s 507ms/step - loss: 0.6915 - acc: 0.5295 - val_loss: 0.6860 - val_acc: 0.5150\n",
      "Epoch 2/30\n",
      "100/100 [==============================] - 49s 493ms/step - loss: 0.6578 - acc: 0.6080 - val_loss: 0.6500 - val_acc: 0.6250\n",
      "Epoch 3/30\n",
      "100/100 [==============================] - 48s 478ms/step - loss: 0.6168 - acc: 0.6640 - val_loss: 0.6188 - val_acc: 0.6740\n",
      "Epoch 4/30\n",
      "100/100 [==============================] - 48s 477ms/step - loss: 0.5783 - acc: 0.6945 - val_loss: 0.6276 - val_acc: 0.6350\n",
      "Epoch 5/30\n",
      "100/100 [==============================] - 49s 495ms/step - loss: 0.5344 - acc: 0.7330 - val_loss: 0.5794 - val_acc: 0.7030\n",
      "Epoch 6/30\n",
      "100/100 [==============================] - 48s 478ms/step - loss: 0.4921 - acc: 0.7690 - val_loss: 0.5733 - val_acc: 0.7020\n",
      "Epoch 7/30\n",
      "100/100 [==============================] - 48s 478ms/step - loss: 0.4712 - acc: 0.7780 - val_loss: 0.5623 - val_acc: 0.7230\n",
      "Epoch 8/30\n",
      "100/100 [==============================] - 48s 477ms/step - loss: 0.4420 - acc: 0.7935 - val_loss: 0.5590 - val_acc: 0.7280\n",
      "Epoch 9/30\n",
      "100/100 [==============================] - 50s 498ms/step - loss: 0.4130 - acc: 0.8110 - val_loss: 0.5612 - val_acc: 0.7250\n",
      "Epoch 10/30\n",
      "100/100 [==============================] - 48s 478ms/step - loss: 0.3841 - acc: 0.8270 - val_loss: 0.5708 - val_acc: 0.7320\n",
      "Epoch 11/30\n",
      "100/100 [==============================] - 48s 478ms/step - loss: 0.3632 - acc: 0.8360 - val_loss: 0.5774 - val_acc: 0.7190\n",
      "Epoch 12/30\n",
      "100/100 [==============================] - 48s 478ms/step - loss: 0.3259 - acc: 0.8565 - val_loss: 0.6172 - val_acc: 0.7180\n",
      "Epoch 13/30\n",
      "100/100 [==============================] - 50s 497ms/step - loss: 0.3105 - acc: 0.8710 - val_loss: 0.6581 - val_acc: 0.7040\n",
      "Epoch 14/30\n",
      "100/100 [==============================] - 48s 478ms/step - loss: 0.2908 - acc: 0.8785 - val_loss: 0.5958 - val_acc: 0.7290\n",
      "Epoch 15/30\n",
      "100/100 [==============================] - 48s 478ms/step - loss: 0.2593 - acc: 0.8985 - val_loss: 0.6384 - val_acc: 0.7160\n",
      "Epoch 16/30\n",
      "100/100 [==============================] - 49s 486ms/step - loss: 0.2350 - acc: 0.9140 - val_loss: 0.6423 - val_acc: 0.7210\n",
      "Epoch 17/30\n",
      "100/100 [==============================] - 48s 484ms/step - loss: 0.2099 - acc: 0.9165 - val_loss: 0.6784 - val_acc: 0.7180\n",
      "Epoch 18/30\n",
      "100/100 [==============================] - 48s 477ms/step - loss: 0.1870 - acc: 0.9330 - val_loss: 0.6795 - val_acc: 0.7330\n",
      "Epoch 19/30\n",
      "100/100 [==============================] - 48s 478ms/step - loss: 0.1712 - acc: 0.9370 - val_loss: 0.7323 - val_acc: 0.7120\n",
      "Epoch 20/30\n",
      "100/100 [==============================] - 50s 496ms/step - loss: 0.1470 - acc: 0.9530 - val_loss: 0.7066 - val_acc: 0.7250\n",
      "Epoch 21/30\n",
      "100/100 [==============================] - 48s 478ms/step - loss: 0.1222 - acc: 0.9590 - val_loss: 0.7282 - val_acc: 0.7300\n",
      "Epoch 22/30\n",
      "100/100 [==============================] - 48s 478ms/step - loss: 0.1078 - acc: 0.9665 - val_loss: 0.7409 - val_acc: 0.7290\n",
      "Epoch 23/30\n",
      "100/100 [==============================] - 48s 477ms/step - loss: 0.0899 - acc: 0.9725 - val_loss: 1.2313 - val_acc: 0.6610\n",
      "Epoch 24/30\n",
      "100/100 [==============================] - 50s 497ms/step - loss: 0.0798 - acc: 0.9770 - val_loss: 0.8512 - val_acc: 0.7240\n",
      "Epoch 25/30\n",
      "100/100 [==============================] - 48s 477ms/step - loss: 0.0683 - acc: 0.9795 - val_loss: 0.9476 - val_acc: 0.7050\n",
      "Epoch 26/30\n",
      "100/100 [==============================] - 48s 478ms/step - loss: 0.0634 - acc: 0.9840 - val_loss: 0.9060 - val_acc: 0.7270\n",
      "Epoch 27/30\n",
      "100/100 [==============================] - 48s 477ms/step - loss: 0.0438 - acc: 0.9910 - val_loss: 1.0439 - val_acc: 0.7240\n",
      "Epoch 28/30\n",
      "100/100 [==============================] - 50s 498ms/step - loss: 0.0382 - acc: 0.9905 - val_loss: 0.9995 - val_acc: 0.7260\n",
      "Epoch 29/30\n",
      "100/100 [==============================] - 48s 477ms/step - loss: 0.0316 - acc: 0.9935 - val_loss: 1.1159 - val_acc: 0.7110\n",
      "Epoch 30/30\n",
      "100/100 [==============================] - 48s 478ms/step - loss: 0.0347 - acc: 0.9870 - val_loss: 1.0758 - val_acc: 0.7170\n"
     ]
    }
   ],
   "source": [
    "history = net.fit_generator(train_generator, \n",
    "                            steps_per_epoch=100, \n",
    "                            epochs=30, \n",
    "                            validation_data=validation_generator,\n",
    "                            validation_steps=50)"
   ]
  },
  {
   "cell_type": "code",
   "execution_count": 74,
   "metadata": {},
   "outputs": [
    {
     "data": {
      "image/png": "[encoded data removed]",
      "text/plain": [
       "<Figure size 432x288 with 1 Axes>"
      ]
     },
     "metadata": {},
     "output_type": "display_data"
    },
    {
     "data": {
      "image/png": "[encoded data removed]",
      "text/plain": [
       "<Figure size 432x288 with 1 Axes>"
      ]
     },
     "metadata": {},
     "output_type": "display_data"
    }
   ],
   "source": [
    "import matplotlib.pyplot as plt\n",
    "\n",
    "def generat_plots(history):\n",
    "    acc = history.history['acc']\n",
    "    validation_acc = history.history['val_acc']\n",
    "    loss = history.history['loss']\n",
    "    validation_loss = history.history['val_loss']\n",
    "\n",
    "    # for plotting purposes we consider the first epoch to be the\n",
    "    # number 1, and not 0 as we would normally index an array\n",
    "    epochs = range(1, len(acc) + 1)\n",
    "\n",
    "    plt.plot(epochs, acc, 'bo', label='Training acc')\n",
    "    plt.plot(epochs, validation_acc, 'b', label='Validation acc')\n",
    "    plt.title('Training and validation accuracy')\n",
    "    plt.legend()\n",
    "    plt.figure()\n",
    "\n",
    "    plt.plot(epochs, loss, 'bo', label='Training loss')\n",
    "    plt.plot(epochs, validation_loss, 'b', label='Validation loss')\n",
    "    plt.title('Training and validation loss')\n",
    "    plt.legend()\n",
    "\n",
    "    plt.show()\n",
    "    \n",
    "generat_plots(history)"
   ]
  },
  {
   "cell_type": "markdown",
   "metadata": {},
   "source": [
    "There is clearly overfit. We are going to use data augmentation to address this situation\n",
    "\n",
    "# Data Augmentation\n",
    "\n",
    "Basically, data augmentation generates new samples by modifying existing ones. In the following example we are going to also use Dropout to further fight overfitting. Although the images we are using are all different, many come from the same original image, so overfitting is still a concern."
   ]
  },
  {
   "cell_type": "code",
   "execution_count": 70,
   "metadata": {},
   "outputs": [
    {
     "name": "stdout",
     "output_type": "stream",
     "text": [
      "WARNING:tensorflow:From /home/ec2-user/anaconda3/envs/tensorflow_p36/lib/python3.6/site-packages/keras/backend/tensorflow_backend.py:3445: calling dropout (from tensorflow.python.ops.nn_ops) with keep_prob is deprecated and will be removed in a future version.\n",
      "Instructions for updating:\n",
      "Please use `rate` instead of `keep_prob`. Rate should be set to `rate = 1 - keep_prob`.\n",
      "_________________________________________________________________\n",
      "Layer (type)                 Output Shape              Param #   \n",
      "=================================================================\n",
      "conv2d_26 (Conv2D)           (None, 148, 148, 32)      896       \n",
      "_________________________________________________________________\n",
      "max_pooling2d_25 (MaxPooling (None, 74, 74, 32)        0         \n",
      "_________________________________________________________________\n",
      "conv2d_27 (Conv2D)           (None, 72, 72, 64)        18496     \n",
      "_________________________________________________________________\n",
      "max_pooling2d_26 (MaxPooling (None, 36, 36, 64)        0         \n",
      "_________________________________________________________________\n",
      "conv2d_28 (Conv2D)           (None, 34, 34, 128)       73856     \n",
      "_________________________________________________________________\n",
      "max_pooling2d_27 (MaxPooling (None, 17, 17, 128)       0         \n",
      "_________________________________________________________________\n",
      "conv2d_29 (Conv2D)           (None, 15, 15, 128)       147584    \n",
      "_________________________________________________________________\n",
      "max_pooling2d_28 (MaxPooling (None, 7, 7, 128)         0         \n",
      "_________________________________________________________________\n",
      "flatten_7 (Flatten)          (None, 6272)              0         \n",
      "_________________________________________________________________\n",
      "dropout_1 (Dropout)          (None, 6272)              0         \n",
      "_________________________________________________________________\n",
      "dense_13 (Dense)             (None, 512)               3211776   \n",
      "_________________________________________________________________\n",
      "dense_14 (Dense)             (None, 1)                 513       \n",
      "=================================================================\n",
      "Total params: 3,453,121\n",
      "Trainable params: 3,453,121\n",
      "Non-trainable params: 0\n",
      "_________________________________________________________________\n"
     ]
    }
   ],
   "source": [
    "net = models.Sequential()\n",
    "net.add(layers.Conv2D(32, (3, 3), activation='relu', input_shape=(150, 150,3)))\n",
    "net.add(layers.MaxPool2D((2, 2)))\n",
    "net.add(layers.Conv2D(64, (3, 3), activation='relu'))\n",
    "net.add(layers.MaxPool2D((2, 2)))\n",
    "net.add(layers.Conv2D(128, (3, 3), activation='relu'))\n",
    "net.add(layers.MaxPool2D((2, 2)))\n",
    "net.add(layers.Conv2D(128, (3, 3), activation='relu'))\n",
    "net.add(layers.MaxPool2D((2, 2)))\n",
    "net.add(layers.Flatten())\n",
    "net.add(layers.Dropout(0.5))\n",
    "net.add(layers.Dense(512, activation='relu'))\n",
    "net.add(layers.Dense(1, activation='sigmoid'))\n",
    "net.summary()"
   ]
  },
  {
   "cell_type": "code",
   "execution_count": 79,
   "metadata": {},
   "outputs": [
    {
     "name": "stdout",
     "output_type": "stream",
     "text": [
      "Found 2000 images belonging to 2 classes.\n",
      "Found 1000 images belonging to 2 classes.\n",
      "Found 1000 images belonging to 2 classes.\n"
     ]
    }
   ],
   "source": [
    "train_datagen = ImageDataGenerator(rescale=1./255,\n",
    "                                  rotation_range=40,\n",
    "                                  width_shift_range=0.2,\n",
    "                                  height_shift_range=0.2,\n",
    "                                  shear_range=0.2,\n",
    "                                  zoom_range=0.2,\n",
    "                                  horizontal_flip=True,\n",
    "                                  fill_mode='nearest')\n",
    "test_datagen = ImageDataGenerator(rescale=1./255)\n",
    "\n",
    "train_generator = train_datagen.flow_from_directory(train_dir,\n",
    "                                                   target_size=(150, 150),\n",
    "                                                   batch_size=32,\n",
    "                                                   class_mode='binary')\n",
    "validation_generator = test_datagen.flow_from_directory(validation_dir,\n",
    "                                                   target_size=(150, 150),\n",
    "                                                   batch_size=32,\n",
    "                                                   class_mode='binary')\n",
    "validation_generator = test_datagen.flow_from_directory(test_dir,\n",
    "                                                   target_size=(150, 150),\n",
    "                                                   batch_size=32,\n",
    "                                                   class_mode='binary')"
   ]
  },
  {
   "cell_type": "code",
   "execution_count": null,
   "metadata": {},
   "outputs": [
    {
     "name": "stdout",
     "output_type": "stream",
     "text": [
      "Epoch 1/100\n",
      " 34/100 [=========>....................] - ETA: 54s - loss: 0.6843 - acc: 0.5441"
     ]
    },
    {
     "name": "stderr",
     "output_type": "stream",
     "text": [
      "/home/ec2-user/anaconda3/envs/tensorflow_p36/lib/python3.6/site-packages/PIL/TiffImagePlugin.py:747: UserWarning: Possibly corrupt EXIF data.  Expecting to read 80000 bytes but only got 0. Skipping tag 64640\n",
      "  \" Skipping tag %s\" % (size, len(data), tag))\n",
      "/home/ec2-user/anaconda3/envs/tensorflow_p36/lib/python3.6/site-packages/PIL/TiffImagePlugin.py:747: UserWarning: Possibly corrupt EXIF data.  Expecting to read 6553600 bytes but only got 0. Skipping tag 49\n",
      "  \" Skipping tag %s\" % (size, len(data), tag))\n",
      "/home/ec2-user/anaconda3/envs/tensorflow_p36/lib/python3.6/site-packages/PIL/TiffImagePlugin.py:747: UserWarning: Possibly corrupt EXIF data.  Expecting to read 1050744 bytes but only got 4951. Skipping tag 51\n",
      "  \" Skipping tag %s\" % (size, len(data), tag))\n",
      "/home/ec2-user/anaconda3/envs/tensorflow_p36/lib/python3.6/site-packages/PIL/TiffImagePlugin.py:747: UserWarning: Possibly corrupt EXIF data.  Expecting to read 293339136 bytes but only got 0. Skipping tag 5\n",
      "  \" Skipping tag %s\" % (size, len(data), tag))\n",
      "/home/ec2-user/anaconda3/envs/tensorflow_p36/lib/python3.6/site-packages/PIL/TiffImagePlugin.py:747: UserWarning: Possibly corrupt EXIF data.  Expecting to read 293863424 bytes but only got 0. Skipping tag 5\n",
      "  \" Skipping tag %s\" % (size, len(data), tag))\n",
      "/home/ec2-user/anaconda3/envs/tensorflow_p36/lib/python3.6/site-packages/PIL/TiffImagePlugin.py:747: UserWarning: Possibly corrupt EXIF data.  Expecting to read 3368026112 bytes but only got 0. Skipping tag 7\n",
      "  \" Skipping tag %s\" % (size, len(data), tag))\n",
      "/home/ec2-user/anaconda3/envs/tensorflow_p36/lib/python3.6/site-packages/PIL/TiffImagePlugin.py:747: UserWarning: Possibly corrupt EXIF data.  Expecting to read 134479872 bytes but only got 0. Skipping tag 7\n",
      "  \" Skipping tag %s\" % (size, len(data), tag))\n",
      "/home/ec2-user/anaconda3/envs/tensorflow_p36/lib/python3.6/site-packages/PIL/TiffImagePlugin.py:747: UserWarning: Possibly corrupt EXIF data.  Expecting to read 295698432 bytes but only got 0. Skipping tag 10\n",
      "  \" Skipping tag %s\" % (size, len(data), tag))\n",
      "/home/ec2-user/anaconda3/envs/tensorflow_p36/lib/python3.6/site-packages/PIL/TiffImagePlugin.py:747: UserWarning: Possibly corrupt EXIF data.  Expecting to read 296222720 bytes but only got 0. Skipping tag 5\n",
      "  \" Skipping tag %s\" % (size, len(data), tag))\n",
      "/home/ec2-user/anaconda3/envs/tensorflow_p36/lib/python3.6/site-packages/PIL/TiffImagePlugin.py:747: UserWarning: Possibly corrupt EXIF data.  Expecting to read 3300917248 bytes but only got 0. Skipping tag 7\n",
      "  \" Skipping tag %s\" % (size, len(data), tag))\n",
      "/home/ec2-user/anaconda3/envs/tensorflow_p36/lib/python3.6/site-packages/PIL/TiffImagePlugin.py:747: UserWarning: Possibly corrupt EXIF data.  Expecting to read 65536 bytes but only got 0. Skipping tag 3\n",
      "  \" Skipping tag %s\" % (size, len(data), tag))\n",
      "/home/ec2-user/anaconda3/envs/tensorflow_p36/lib/python3.6/site-packages/PIL/TiffImagePlugin.py:747: UserWarning: Possibly corrupt EXIF data.  Expecting to read 14745600 bytes but only got 0. Skipping tag 4\n",
      "  \" Skipping tag %s\" % (size, len(data), tag))\n",
      "/home/ec2-user/anaconda3/envs/tensorflow_p36/lib/python3.6/site-packages/PIL/TiffImagePlugin.py:747: UserWarning: Possibly corrupt EXIF data.  Expecting to read 25624576 bytes but only got 0. Skipping tag 4\n",
      "  \" Skipping tag %s\" % (size, len(data), tag))\n",
      "/home/ec2-user/anaconda3/envs/tensorflow_p36/lib/python3.6/site-packages/PIL/TiffImagePlugin.py:747: UserWarning: Possibly corrupt EXIF data.  Expecting to read 317718528 bytes but only got 4956. Skipping tag 4\n",
      "  \" Skipping tag %s\" % (size, len(data), tag))\n",
      "/home/ec2-user/anaconda3/envs/tensorflow_p36/lib/python3.6/site-packages/PIL/TiffImagePlugin.py:747: UserWarning: Possibly corrupt EXIF data.  Expecting to read 131073 bytes but only got 4952. Skipping tag 0\n",
      "  \" Skipping tag %s\" % (size, len(data), tag))\n",
      "/home/ec2-user/anaconda3/envs/tensorflow_p36/lib/python3.6/site-packages/PIL/TiffImagePlugin.py:747: UserWarning: Possibly corrupt EXIF data.  Expecting to read 393216 bytes but only got 0. Skipping tag 3\n",
      "  \" Skipping tag %s\" % (size, len(data), tag))\n",
      "/home/ec2-user/anaconda3/envs/tensorflow_p36/lib/python3.6/site-packages/PIL/TiffImagePlugin.py:747: UserWarning: Possibly corrupt EXIF data.  Expecting to read 287178752 bytes but only got 0. Skipping tag 5\n",
      "  \" Skipping tag %s\" % (size, len(data), tag))\n",
      "/home/ec2-user/anaconda3/envs/tensorflow_p36/lib/python3.6/site-packages/PIL/TiffImagePlugin.py:747: UserWarning: Possibly corrupt EXIF data.  Expecting to read 287703040 bytes but only got 0. Skipping tag 5\n",
      "  \" Skipping tag %s\" % (size, len(data), tag))\n",
      "/home/ec2-user/anaconda3/envs/tensorflow_p36/lib/python3.6/site-packages/PIL/TiffImagePlugin.py:747: UserWarning: Possibly corrupt EXIF data.  Expecting to read 131072 bytes but only got 0. Skipping tag 3\n",
      "  \" Skipping tag %s\" % (size, len(data), tag))\n",
      "/home/ec2-user/anaconda3/envs/tensorflow_p36/lib/python3.6/site-packages/PIL/TiffImagePlugin.py:747: UserWarning: Possibly corrupt EXIF data.  Expecting to read 524288 bytes but only got 0. Skipping tag 4\n",
      "  \" Skipping tag %s\" % (size, len(data), tag))\n",
      "/home/ec2-user/anaconda3/envs/tensorflow_p36/lib/python3.6/site-packages/PIL/TiffImagePlugin.py:747: UserWarning: Possibly corrupt EXIF data.  Expecting to read 286654464 bytes but only got 4956. Skipping tag 4\n",
      "  \" Skipping tag %s\" % (size, len(data), tag))\n",
      "/home/ec2-user/anaconda3/envs/tensorflow_p36/lib/python3.6/site-packages/PIL/TiffImagePlugin.py:764: UserWarning: Corrupt EXIF data.  Expecting to read 12 bytes but only got 2. \n",
      "  warnings.warn(str(msg))\n"
     ]
    },
    {
     "name": "stdout",
     "output_type": "stream",
     "text": [
      "100/100 [==============================] - 93s 925ms/step - loss: 0.6712 - acc: 0.5841 - val_loss: 0.6589 - val_acc: 0.6034\n",
      "Epoch 2/100\n",
      "100/100 [==============================] - 87s 871ms/step - loss: 0.6602 - acc: 0.6066 - val_loss: 0.7528 - val_acc: 0.5387\n",
      "Epoch 3/100\n",
      "100/100 [==============================] - 87s 873ms/step - loss: 0.6541 - acc: 0.6106 - val_loss: 0.6270 - val_acc: 0.6415\n",
      "Epoch 4/100\n",
      "100/100 [==============================] - 87s 874ms/step - loss: 0.6366 - acc: 0.6306 - val_loss: 0.6124 - val_acc: 0.6894\n",
      "Epoch 5/100\n",
      "100/100 [==============================] - 88s 878ms/step - loss: 0.6205 - acc: 0.6581 - val_loss: 0.6162 - val_acc: 0.6491\n",
      "Epoch 6/100\n",
      "100/100 [==============================] - 88s 879ms/step - loss: 0.6121 - acc: 0.6566 - val_loss: 0.5923 - val_acc: 0.6959\n",
      "Epoch 7/100\n",
      "100/100 [==============================] - 87s 872ms/step - loss: 0.5915 - acc: 0.6881 - val_loss: 0.6568 - val_acc: 0.6358\n",
      "Epoch 8/100\n",
      "100/100 [==============================] - 88s 877ms/step - loss: 0.5945 - acc: 0.6822 - val_loss: 0.6163 - val_acc: 0.6630\n",
      "Epoch 9/100\n",
      "100/100 [==============================] - 87s 872ms/step - loss: 0.5874 - acc: 0.6938 - val_loss: 0.5796 - val_acc: 0.6997\n",
      "Epoch 10/100\n",
      "100/100 [==============================] - 87s 873ms/step - loss: 0.5822 - acc: 0.6953 - val_loss: 0.5685 - val_acc: 0.7113\n",
      "Epoch 11/100\n",
      "100/100 [==============================] - 88s 876ms/step - loss: 0.5675 - acc: 0.6978 - val_loss: 0.5757 - val_acc: 0.6875\n",
      "Epoch 12/100\n",
      "100/100 [==============================] - 87s 870ms/step - loss: 0.5639 - acc: 0.7112 - val_loss: 0.7591 - val_acc: 0.6117\n",
      "Epoch 13/100\n",
      "100/100 [==============================] - 88s 878ms/step - loss: 0.5632 - acc: 0.7087 - val_loss: 0.5682 - val_acc: 0.7023\n",
      "Epoch 14/100\n",
      "100/100 [==============================] - 87s 870ms/step - loss: 0.5624 - acc: 0.7081 - val_loss: 0.5550 - val_acc: 0.7367\n",
      "Epoch 15/100\n",
      "100/100 [==============================] - 88s 878ms/step - loss: 0.5422 - acc: 0.7256 - val_loss: 0.5803 - val_acc: 0.7088\n",
      "Epoch 16/100\n",
      "100/100 [==============================] - 87s 869ms/step - loss: 0.5413 - acc: 0.7178 - val_loss: 0.6116 - val_acc: 0.6997\n",
      "Epoch 17/100\n",
      " 14/100 [===>..........................] - ETA: 1:01 - loss: 0.5244 - acc: 0.7545"
     ]
    }
   ],
   "source": [
    "net.compile(loss='binary_crossentropy',\n",
    "            optimizer=optimizers.RMSprop(lr=1e-4),\n",
    "            metrics=['acc'])\n",
    "\n",
    "history_aug = net.fit_generator(train_generator, \n",
    "                            steps_per_epoch=100, \n",
    "                            epochs=100, \n",
    "                            validation_data=validation_generator,\n",
    "                            validation_steps=50)\n",
    "generat_plots(history_aug)"
   ]
  }
 ],
 "metadata": {
  "kernelspec": {
   "display_name": "Environment (conda_tensorflow_p36)",
   "language": "python",
   "name": "conda_tensorflow_p36"
  },
  "language_info": {
   "codemirror_mode": {
    "name": "ipython",
    "version": 3
   },
   "file_extension": ".py",
   "mimetype": "text/x-python",
   "name": "python",
   "nbconvert_exporter": "python",
   "pygments_lexer": "ipython3",
   "version": "3.6.5"
  }
 },
 "nbformat": 4,
 "nbformat_minor": 2
}
