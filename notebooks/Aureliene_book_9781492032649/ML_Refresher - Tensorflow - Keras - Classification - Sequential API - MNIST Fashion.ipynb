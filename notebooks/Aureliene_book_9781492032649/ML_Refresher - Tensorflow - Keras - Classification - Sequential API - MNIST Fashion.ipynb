{
 "cells": [
  {
   "cell_type": "code",
   "execution_count": 1,
   "metadata": {},
   "outputs": [],
   "source": [
    "from sklearn.model_selection import train_test_split\n",
    "\n",
    "import tensorflow as tf\n",
    "from tensorflow import keras\n",
    "\n",
    "import utils"
   ]
  },
  {
   "cell_type": "code",
   "execution_count": 2,
   "metadata": {},
   "outputs": [
    {
     "data": {
      "text/plain": [
       "'2.3.0'"
      ]
     },
     "execution_count": 2,
     "metadata": {},
     "output_type": "execute_result"
    }
   ],
   "source": [
    "tf.__version__"
   ]
  },
  {
   "cell_type": "code",
   "execution_count": 3,
   "metadata": {},
   "outputs": [
    {
     "data": {
      "text/plain": [
       "'2.4.0'"
      ]
     },
     "execution_count": 3,
     "metadata": {},
     "output_type": "execute_result"
    }
   ],
   "source": [
    "keras.__version__"
   ]
  },
  {
   "cell_type": "code",
   "execution_count": 4,
   "metadata": {},
   "outputs": [
    {
     "name": "stdout",
     "output_type": "stream",
     "text": [
      "(60000, 28, 28) uint8\n"
     ]
    }
   ],
   "source": [
    "# load a dataset. Keras offers a way to access some public datasets\n",
    "fashion_mnist = keras.datasets.fashion_mnist\n",
    "(X_train_full, y_train_full), (X_test, y_test) = fashion_mnist.load_data()\n",
    "print(X_train_full.shape, X_train_full.dtype)"
   ]
  },
  {
   "cell_type": "code",
   "execution_count": 5,
   "metadata": {},
   "outputs": [],
   "source": [
    "# Generate validation dataset, and scale features in the range 0-1\n",
    "X_train, X_valid, y_train, y_valid = train_test_split(X_train_full, y_train_full, test_size=0.1)\n",
    "X_train = X_train / 255.0\n",
    "X_valid = X_valid / 255.0\n",
    "X_test = X_test / 255.0"
   ]
  },
  {
   "cell_type": "code",
   "execution_count": 6,
   "metadata": {},
   "outputs": [],
   "source": [
    "# Somewhat we are  supposed to know the name of the class associated with each index\n",
    "class_names = [\"T-shirt/top\", \"Trouser\", \"Pullover\", \"Dress\", \"Coat\",\n",
    "               \"Sandal\", \"Shirt\", \"Sneaker\", \"Bag\", \"Ankle boot\"]"
   ]
  },
  {
   "cell_type": "code",
   "execution_count": 7,
   "metadata": {},
   "outputs": [
    {
     "name": "stdout",
     "output_type": "stream",
     "text": [
      "Model: \"sequential\"\n",
      "_________________________________________________________________\n",
      "Layer (type)                 Output Shape              Param #   \n",
      "=================================================================\n",
      "flatten (Flatten)            (None, 784)               0         \n",
      "_________________________________________________________________\n",
      "dense (Dense)                (None, 300)               235500    \n",
      "_________________________________________________________________\n",
      "dense_1 (Dense)              (None, 100)               30100     \n",
      "_________________________________________________________________\n",
      "dense_2 (Dense)              (None, 10)                1010      \n",
      "=================================================================\n",
      "Total params: 266,610\n",
      "Trainable params: 266,610\n",
      "Non-trainable params: 0\n",
      "_________________________________________________________________\n",
      "None\n",
      "[<tensorflow.python.keras.layers.core.Flatten object at 0x1386aea60>, <tensorflow.python.keras.layers.core.Dense object at 0x1386d7520>, <tensorflow.python.keras.layers.core.Dense object at 0x1386d7a00>, <tensorflow.python.keras.layers.core.Dense object at 0x1386d7df0>]\n"
     ]
    }
   ],
   "source": [
    "def architecture():\n",
    "    model = keras.models.Sequential()\n",
    "    model.add(keras.layers.Flatten(input_shape=[28, 28]))\n",
    "    model.add(keras.layers.Dense(300, activation='relu'))\n",
    "    model.add(keras.layers.Dense(100, activation='relu'))\n",
    "    model.add(keras.layers.Dense(10, activation='softmax'))\n",
    "    return model\n",
    "\n",
    "def inspect(model):\n",
    "    print(model.summary())\n",
    "    print(model.layers)\n",
    "model = architecture()\n",
    "inspect(model)"
   ]
  },
  {
   "cell_type": "code",
   "execution_count": 8,
   "metadata": {},
   "outputs": [
    {
     "name": "stdout",
     "output_type": "stream",
     "text": [
      "Model: \"sequential\"\n",
      "_________________________________________________________________\n",
      "Layer (type)                 Output Shape              Param #   \n",
      "=================================================================\n",
      "flatten (Flatten)            (None, 784)               0         \n",
      "_________________________________________________________________\n",
      "dense (Dense)                (None, 300)               235500    \n",
      "_________________________________________________________________\n",
      "dense_1 (Dense)              (None, 100)               30100     \n",
      "_________________________________________________________________\n",
      "dense_2 (Dense)              (None, 10)                1010      \n",
      "=================================================================\n",
      "Total params: 266,610\n",
      "Trainable params: 266,610\n",
      "Non-trainable params: 0\n",
      "_________________________________________________________________\n"
     ]
    }
   ],
   "source": [
    "model.summary()\n",
    "model.compile(loss=keras.losses.sparse_categorical_crossentropy,\n",
    "              optimizer=keras.optimizers.SGD(lr=0.002),\n",
    "              metrics=[keras.metrics.sparse_categorical_accuracy])"
   ]
  },
  {
   "cell_type": "code",
   "execution_count": 9,
   "metadata": {},
   "outputs": [
    {
     "name": "stdout",
     "output_type": "stream",
     "text": [
      "Epoch 1/30\n",
      "1688/1688 [==============================] - 15s 9ms/step - loss: 1.1330 - sparse_categorical_accuracy: 0.6604 - val_loss: 0.7790 - val_sparse_categorical_accuracy: 0.7468\n",
      "Epoch 2/30\n",
      "1688/1688 [==============================] - 12s 7ms/step - loss: 0.6845 - sparse_categorical_accuracy: 0.7776 - val_loss: 0.6392 - val_sparse_categorical_accuracy: 0.7880\n",
      "Epoch 3/30\n",
      "1688/1688 [==============================] - 9s 5ms/step - loss: 0.5894 - sparse_categorical_accuracy: 0.8069 - val_loss: 0.5754 - val_sparse_categorical_accuracy: 0.8057\n",
      "Epoch 4/30\n",
      "1688/1688 [==============================] - 9s 5ms/step - loss: 0.5410 - sparse_categorical_accuracy: 0.8204 - val_loss: 0.5383 - val_sparse_categorical_accuracy: 0.8123\n",
      "Epoch 5/30\n",
      "1688/1688 [==============================] - 14s 8ms/step - loss: 0.5101 - sparse_categorical_accuracy: 0.8280 - val_loss: 0.5138 - val_sparse_categorical_accuracy: 0.8223sparse_categorical_accuracy: 0. - ETA: 1s - loss: 0.5121 - sp\n",
      "Epoch 6/30\n",
      "1688/1688 [==============================] - 18s 11ms/step - loss: 0.4887 - sparse_categorical_accuracy: 0.8329 - val_loss: 0.4984 - val_sparse_categorical_accuracy: 0.8312.4880 - spars\n",
      "Epoch 7/30\n",
      "1688/1688 [==============================] - 10s 6ms/step - loss: 0.4730 - sparse_categorical_accuracy: 0.8380 - val_loss: 0.4864 - val_sparse_categorical_accuracy: 0.8293\n",
      "Epoch 8/30\n",
      "1688/1688 [==============================] - 8s 5ms/step - loss: 0.4602 - sparse_categorical_accuracy: 0.8418 - val_loss: 0.4745 - val_sparse_categorical_accuracy: 0.8373\n",
      "Epoch 9/30\n",
      "1688/1688 [==============================] - 7s 4ms/step - loss: 0.4493 - sparse_categorical_accuracy: 0.8452 - val_loss: 0.4682 - val_sparse_categorical_accuracy: 0.8377\n",
      "Epoch 10/30\n",
      "1688/1688 [==============================] - 7s 4ms/step - loss: 0.4405 - sparse_categorical_accuracy: 0.8476 - val_loss: 0.4638 - val_sparse_categorical_accuracy: 0.8377\n",
      "Epoch 11/30\n",
      "1688/1688 [==============================] - 9s 5ms/step - loss: 0.4332 - sparse_categorical_accuracy: 0.8500 - val_loss: 0.4553 - val_sparse_categorical_accuracy: 0.8380\n",
      "Epoch 12/30\n",
      "1688/1688 [==============================] - 11s 6ms/step - loss: 0.4252 - sparse_categorical_accuracy: 0.8520 - val_loss: 0.4545 - val_sparse_categorical_accuracy: 0.8402\n",
      "Epoch 13/30\n",
      "1688/1688 [==============================] - 9s 5ms/step - loss: 0.4198 - sparse_categorical_accuracy: 0.8544 - val_loss: 0.4388 - val_sparse_categorical_accuracy: 0.8467\n",
      "Epoch 14/30\n",
      "1688/1688 [==============================] - 10s 6ms/step - loss: 0.4132 - sparse_categorical_accuracy: 0.8569 - val_loss: 0.4476 - val_sparse_categorical_accuracy: 0.8398\n",
      "Epoch 15/30\n",
      "1688/1688 [==============================] - 14s 8ms/step - loss: 0.4081 - sparse_categorical_accuracy: 0.8586 - val_loss: 0.4291 - val_sparse_categorical_accuracy: 0.8507\n",
      "Epoch 16/30\n",
      "1688/1688 [==============================] - 10s 6ms/step - loss: 0.4027 - sparse_categorical_accuracy: 0.8619 - val_loss: 0.4275 - val_sparse_categorical_accuracy: 0.8510\n",
      "Epoch 17/30\n",
      "1688/1688 [==============================] - 8s 5ms/step - loss: 0.3982 - sparse_categorical_accuracy: 0.8614 - val_loss: 0.4393 - val_sparse_categorical_accuracy: 0.8418\n",
      "Epoch 18/30\n",
      "1688/1688 [==============================] - 5s 3ms/step - loss: 0.3928 - sparse_categorical_accuracy: 0.8640 - val_loss: 0.4248 - val_sparse_categorical_accuracy: 0.8492\n",
      "Epoch 19/30\n",
      "1688/1688 [==============================] - 7s 4ms/step - loss: 0.3891 - sparse_categorical_accuracy: 0.8655 - val_loss: 0.4258 - val_sparse_categorical_accuracy: 0.8502\n",
      "Epoch 20/30\n",
      "1688/1688 [==============================] - 6s 4ms/step - loss: 0.3850 - sparse_categorical_accuracy: 0.8661 - val_loss: 0.4144 - val_sparse_categorical_accuracy: 0.8530\n",
      "Epoch 21/30\n",
      "1688/1688 [==============================] - 8s 5ms/step - loss: 0.3810 - sparse_categorical_accuracy: 0.8686 - val_loss: 0.4172 - val_sparse_categorical_accuracy: 0.8505\n",
      "Epoch 22/30\n",
      "1688/1688 [==============================] - 9s 5ms/step - loss: 0.3774 - sparse_categorical_accuracy: 0.8692 - val_loss: 0.4077 - val_sparse_categorical_accuracy: 0.8528\n",
      "Epoch 23/30\n",
      "1688/1688 [==============================] - 9s 5ms/step - loss: 0.3740 - sparse_categorical_accuracy: 0.8708 - val_loss: 0.4047 - val_sparse_categorical_accuracy: 0.8558\n",
      "Epoch 24/30\n",
      "1688/1688 [==============================] - 7s 4ms/step - loss: 0.3708 - sparse_categorical_accuracy: 0.8721 - val_loss: 0.4116 - val_sparse_categorical_accuracy: 0.8545\n",
      "Epoch 25/30\n",
      "1688/1688 [==============================] - 8s 5ms/step - loss: 0.3668 - sparse_categorical_accuracy: 0.8726 - val_loss: 0.4052 - val_sparse_categorical_accuracy: 0.8557\n",
      "Epoch 26/30\n",
      "1688/1688 [==============================] - 7s 4ms/step - loss: 0.3642 - sparse_categorical_accuracy: 0.8738 - val_loss: 0.4001 - val_sparse_categorical_accuracy: 0.8558\n",
      "Epoch 27/30\n",
      "1688/1688 [==============================] - 6s 4ms/step - loss: 0.3607 - sparse_categorical_accuracy: 0.8740 - val_loss: 0.3992 - val_sparse_categorical_accuracy: 0.8542\n",
      "Epoch 28/30\n",
      "1688/1688 [==============================] - 7s 4ms/step - loss: 0.3580 - sparse_categorical_accuracy: 0.8752 - val_loss: 0.3939 - val_sparse_categorical_accuracy: 0.8567\n",
      "Epoch 29/30\n",
      "1688/1688 [==============================] - 6s 4ms/step - loss: 0.3552 - sparse_categorical_accuracy: 0.8771 - val_loss: 0.3907 - val_sparse_categorical_accuracy: 0.8592\n",
      "Epoch 30/30\n",
      "1688/1688 [==============================] - 6s 4ms/step - loss: 0.3520 - sparse_categorical_accuracy: 0.8776 - val_loss: 0.4056 - val_sparse_categorical_accuracy: 0.8560\n"
     ]
    }
   ],
   "source": [
    "history = model.fit(X_train, y_train, epochs=30,\n",
    "                    validation_data=(X_valid, y_valid))"
   ]
  },
  {
   "cell_type": "code",
   "execution_count": 10,
   "metadata": {},
   "outputs": [
    {
     "data": {
      "image/png": "[encoded data removed]",
      "text/plain": [
       "<Figure size 576x360 with 1 Axes>"
      ]
     },
     "metadata": {
      "needs_background": "light"
     },
     "output_type": "display_data"
    }
   ],
   "source": [
    "# plot the history\n",
    "utils.print_history(history)"
   ]
  },
  {
   "cell_type": "code",
   "execution_count": 11,
   "metadata": {},
   "outputs": [
    {
     "name": "stdout",
     "output_type": "stream",
     "text": [
      "313/313 [==============================] - 0s 2ms/step - loss: 0.4136 - sparse_categorical_accuracy: 0.8542\n"
     ]
    },
    {
     "data": {
      "text/plain": [
       "[0.4135756492614746, 0.854200005531311]"
      ]
     },
     "execution_count": 11,
     "metadata": {},
     "output_type": "execute_result"
    }
   ],
   "source": [
    "model.evaluate(X_test, y_test)"
   ]
  },
  {
   "cell_type": "code",
   "execution_count": 12,
   "metadata": {},
   "outputs": [
    {
     "name": "stdout",
     "output_type": "stream",
     "text": [
      "9\n"
     ]
    }
   ],
   "source": [
    "# Use the model to produce inferences\n",
    "pred = model.predict(X_test[0].reshape(1, 28, 28))\n",
    "print(pred.round(2)[0].argmax())"
   ]
  }
 ],
 "metadata": {
  "kernelspec": {
   "display_name": "Python 3",
   "language": "python",
   "name": "python3"
  },
  "language_info": {
   "codemirror_mode": {
    "name": "ipython",
    "version": 3
   },
   "file_extension": ".py",
   "mimetype": "text/x-python",
   "name": "python",
   "nbconvert_exporter": "python",
   "pygments_lexer": "ipython3",
   "version": "3.8.0"
  }
 },
 "nbformat": 4,
 "nbformat_minor": 4
}
