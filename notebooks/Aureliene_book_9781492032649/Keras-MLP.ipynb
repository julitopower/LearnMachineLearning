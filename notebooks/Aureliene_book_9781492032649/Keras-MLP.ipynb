{
 "cells": [
  {
   "cell_type": "code",
   "execution_count": 1,
   "metadata": {},
   "outputs": [
    {
     "name": "stdout",
     "output_type": "stream",
     "text": [
      "\u001b[33mYou are using pip version 10.0.1, however version 19.3.1 is available.\r\n",
      "You should consider upgrading via the 'pip install --upgrade pip' command.\u001b[0m\r\n"
     ]
    }
   ],
   "source": [
    "! python3 -m pip install -U tensorflow==2.0.0a0 > /dev/null"
   ]
  },
  {
   "cell_type": "markdown",
   "metadata": {},
   "source": [
    "# Perceptron using SKLearn\n",
    "\n",
    "Single layer perceptron is a linear classifier. I can't solve the XOR problem. Stacking multiple single layer Perceptrons can solve the XOR problem"
   ]
  },
  {
   "cell_type": "code",
   "execution_count": 2,
   "metadata": {},
   "outputs": [
    {
     "name": "stdout",
     "output_type": "stream",
     "text": [
      "150\n",
      "150\n"
     ]
    },
    {
     "name": "stderr",
     "output_type": "stream",
     "text": [
      "/home/ec2-user/anaconda3/envs/mxnet_p36/lib/python3.6/site-packages/sklearn/linear_model/stochastic_gradient.py:166: FutureWarning: max_iter and tol parameters have been added in Perceptron in 0.19. If both are left unset, they default to max_iter=5 and tol=None. If tol is not None, max_iter defaults to max_iter=1000. From 0.21, default max_iter will be 1000, and default tol will be 1e-3.\n",
      "  FutureWarning)\n"
     ]
    }
   ],
   "source": [
    "import numpy as np\n",
    "from sklearn.datasets import load_iris\n",
    "from sklearn.linear_model import Perceptron\n",
    "\n",
    "iris = load_iris()\n",
    "X = iris.data[:, (2, 3)]\n",
    "y = (iris.target == 0).astype(np.int) # 0 is setosa\n",
    "\n",
    "perceptron_classifier = Perceptron()\n",
    "perceptron_classifier.fit(X, y)\n",
    "y_pred = perceptron_classifier.predict(X)\n",
    "\n",
    "# How many predictions are correct?\n",
    "print((y == y_pred).sum())\n",
    "# How many datapoints are in the dataset\n",
    "print(len(y))"
   ]
  },
  {
   "cell_type": "markdown",
   "metadata": {},
   "source": [
    "# Multilayer Perceptron\n",
    "\n",
    "\n",
    "MLPs became computatinally feasable with the introduction of the [backpropagatino](https://scholar.google.com/scholar?q=Learning+Internal+Representations+by+Error+Propagation+author%3Arumelhart) algorithm, which is still in use. Using backpropagation the gradients of the error with respect to each of the parameters of the MLP are calculated, and then gradienct descent can be applied to learn the parameters iteratively. See [this article](https://towardsdatascience.com/batch-mini-batch-stochastic-gradient-descent-7a62ecba642a) for a simple explanation of Gradient Descent, and Stochastic Gradient Descent.\n",
    "\n",
    "## Regression\n",
    "\n",
    "In general, when building MLPs for regression, we don't use activation functions in the output layer. The loss function to use during training is typically the **mean squared error**, but if you have a lot of outliers in the training set, you may prefer to use the **mean absolute error instead**. \n",
    "\n",
    "## Classification\n",
    "\n",
    "For binary classification or multiple binary labels we use a single output neuron with Logistic activation function. For Multiclass classification (single prediction of mutually exclusive classes), we generally use softmax. In all cases cross entropy is used as the loss function.\n",
    "\n",
    "# Implementing MLPs using Keras\n",
    "\n",
    "Keras is a high-level Deep Learning API that allows you to easily build, train, evaluate, and execute all sorts of neural networks. Checkout [https://keras.io](https://keras.io) for more information. Let's start with an image classification example:"
   ]
  },
  {
   "cell_type": "code",
   "execution_count": 3,
   "metadata": {},
   "outputs": [
    {
     "data": {
      "text/plain": [
       "'2.0.0-alpha0'"
      ]
     },
     "execution_count": 3,
     "metadata": {},
     "output_type": "execute_result"
    }
   ],
   "source": [
    "import tensorflow as tf\n",
    "from tensorflow import keras\n",
    "tf.__version__"
   ]
  },
  {
   "cell_type": "code",
   "execution_count": 4,
   "metadata": {},
   "outputs": [
    {
     "name": "stdout",
     "output_type": "stream",
     "text": [
      "Full train dataset shape (60000, 28, 28)\n",
      "Train dataset dtype uint8\n"
     ]
    }
   ],
   "source": [
    "# This dataset contains greyscale images 28 x 28 of clothing items\n",
    "fashion_mnist = keras.datasets.fashion_mnist\n",
    "# Only train/test datasets\n",
    "(X_train_full, y_train_full), (X_test, y_test) = fashion_mnist.load_data()\n",
    "\n",
    "print(\"Full train dataset shape\", X_train_full.shape)\n",
    "print(\"Train dataset dtype\", X_train_full.dtype)\n",
    "\n",
    "# Lets split train_full into train and validation. Use 5000 samples for validation \n",
    "# and 55000 for training. We also scale pixel greyscale values to [0,1]\n",
    "X_valid, X_train = X_train_full[:5000] / 255.0, X_train_full[5000:] / 255.0\n",
    "y_valid, y_train = y_train_full[:5000], y_train_full[5000:]\n",
    "\n",
    "# Define the name of each of the possible target values\n",
    "class_names = [\"T-shirt/top\", \"Trouser\", \"Pullover\", \"Dress\", \"Coat\",\n",
    "               \"Sandal\", \"Shirt\", \"Sneaker\", \"Bag\", \"Ankle boot\"]"
   ]
  },
  {
   "cell_type": "code",
   "execution_count": 5,
   "metadata": {},
   "outputs": [
    {
     "name": "stdout",
     "output_type": "stream",
     "text": [
      "Model: \"sequential\"\n",
      "_________________________________________________________________\n",
      "Layer (type)                 Output Shape              Param #   \n",
      "=================================================================\n",
      "flatten (Flatten)            (None, 784)               0         \n",
      "_________________________________________________________________\n",
      "dense (Dense)                (None, 300)               235500    \n",
      "_________________________________________________________________\n",
      "dense_1 (Dense)              (None, 100)               30100     \n",
      "_________________________________________________________________\n",
      "dense_2 (Dense)              (None, 10)                1010      \n",
      "=================================================================\n",
      "Total params: 266,610\n",
      "Trainable params: 266,610\n",
      "Non-trainable params: 0\n",
      "_________________________________________________________________\n",
      "dense\n",
      "[[-0.0493251   0.00388484  0.00234877 ...  0.0709056  -0.06652811\n",
      "  -0.01987828]\n",
      " [ 0.04684436 -0.03799895  0.05325265 ...  0.00579631 -0.01013488\n",
      "  -0.02527119]\n",
      " [ 0.06237094 -0.02509777  0.03026149 ... -0.0131924  -0.05770172\n",
      "  -0.03522777]\n",
      " ...\n",
      " [-0.03960497 -0.00609214 -0.02775767 ... -0.04691407  0.02622572\n",
      "   0.0028015 ]\n",
      " [ 0.05337529  0.06323363  0.05314149 ...  0.023155    0.06305777\n",
      "  -0.0739015 ]\n",
      " [-0.05148604  0.06263538 -0.01628207 ... -0.03646952 -0.04383039\n",
      "  -0.05645498]] [0. 0. 0. 0. 0. 0. 0. 0. 0. 0. 0. 0. 0. 0. 0. 0. 0. 0. 0. 0. 0. 0. 0. 0.\n",
      " 0. 0. 0. 0. 0. 0. 0. 0. 0. 0. 0. 0. 0. 0. 0. 0. 0. 0. 0. 0. 0. 0. 0. 0.\n",
      " 0. 0. 0. 0. 0. 0. 0. 0. 0. 0. 0. 0. 0. 0. 0. 0. 0. 0. 0. 0. 0. 0. 0. 0.\n",
      " 0. 0. 0. 0. 0. 0. 0. 0. 0. 0. 0. 0. 0. 0. 0. 0. 0. 0. 0. 0. 0. 0. 0. 0.\n",
      " 0. 0. 0. 0. 0. 0. 0. 0. 0. 0. 0. 0. 0. 0. 0. 0. 0. 0. 0. 0. 0. 0. 0. 0.\n",
      " 0. 0. 0. 0. 0. 0. 0. 0. 0. 0. 0. 0. 0. 0. 0. 0. 0. 0. 0. 0. 0. 0. 0. 0.\n",
      " 0. 0. 0. 0. 0. 0. 0. 0. 0. 0. 0. 0. 0. 0. 0. 0. 0. 0. 0. 0. 0. 0. 0. 0.\n",
      " 0. 0. 0. 0. 0. 0. 0. 0. 0. 0. 0. 0. 0. 0. 0. 0. 0. 0. 0. 0. 0. 0. 0. 0.\n",
      " 0. 0. 0. 0. 0. 0. 0. 0. 0. 0. 0. 0. 0. 0. 0. 0. 0. 0. 0. 0. 0. 0. 0. 0.\n",
      " 0. 0. 0. 0. 0. 0. 0. 0. 0. 0. 0. 0. 0. 0. 0. 0. 0. 0. 0. 0. 0. 0. 0. 0.\n",
      " 0. 0. 0. 0. 0. 0. 0. 0. 0. 0. 0. 0. 0. 0. 0. 0. 0. 0. 0. 0. 0. 0. 0. 0.\n",
      " 0. 0. 0. 0. 0. 0. 0. 0. 0. 0. 0. 0. 0. 0. 0. 0. 0. 0. 0. 0. 0. 0. 0. 0.\n",
      " 0. 0. 0. 0. 0. 0. 0. 0. 0. 0. 0. 0.]\n",
      "Train on 55000 samples, validate on 5000 samples\n",
      "Epoch 1/30\n",
      "55000/55000 [==============================] - 3s 61us/sample - loss: 1.5775 - accuracy: 0.5528 - val_loss: 1.1266 - val_accuracy: 0.6940\n",
      "Epoch 2/30\n",
      "55000/55000 [==============================] - 3s 55us/sample - loss: 0.9677 - accuracy: 0.7198 - val_loss: 0.8386 - val_accuracy: 0.7504\n",
      "Epoch 3/30\n",
      "55000/55000 [==============================] - 3s 55us/sample - loss: 0.7897 - accuracy: 0.7590 - val_loss: 0.7275 - val_accuracy: 0.7782\n",
      "Epoch 4/30\n",
      "55000/55000 [==============================] - 3s 55us/sample - loss: 0.7064 - accuracy: 0.7805 - val_loss: 0.6668 - val_accuracy: 0.7924\n",
      "Epoch 5/30\n",
      "55000/55000 [==============================] - 3s 55us/sample - loss: 0.6550 - accuracy: 0.7938 - val_loss: 0.6249 - val_accuracy: 0.8016\n",
      "Epoch 6/30\n",
      "55000/55000 [==============================] - 3s 55us/sample - loss: 0.6185 - accuracy: 0.8035 - val_loss: 0.5943 - val_accuracy: 0.8130\n",
      "Epoch 7/30\n",
      "55000/55000 [==============================] - 3s 54us/sample - loss: 0.5912 - accuracy: 0.8094 - val_loss: 0.5704 - val_accuracy: 0.8190\n",
      "Epoch 8/30\n",
      "55000/55000 [==============================] - 3s 56us/sample - loss: 0.5703 - accuracy: 0.8141 - val_loss: 0.5549 - val_accuracy: 0.8240\n",
      "Epoch 9/30\n",
      "55000/55000 [==============================] - 3s 55us/sample - loss: 0.5533 - accuracy: 0.8178 - val_loss: 0.5381 - val_accuracy: 0.8264\n",
      "Epoch 10/30\n",
      "55000/55000 [==============================] - 3s 55us/sample - loss: 0.5389 - accuracy: 0.8208 - val_loss: 0.5285 - val_accuracy: 0.8262\n",
      "Epoch 11/30\n",
      "55000/55000 [==============================] - 3s 56us/sample - loss: 0.5271 - accuracy: 0.8243 - val_loss: 0.5144 - val_accuracy: 0.8300\n",
      "Epoch 12/30\n",
      "55000/55000 [==============================] - 3s 56us/sample - loss: 0.5171 - accuracy: 0.8269 - val_loss: 0.5056 - val_accuracy: 0.8368\n",
      "Epoch 13/30\n",
      "55000/55000 [==============================] - 3s 55us/sample - loss: 0.5082 - accuracy: 0.8303 - val_loss: 0.4960 - val_accuracy: 0.8384\n",
      "Epoch 14/30\n",
      "55000/55000 [==============================] - 3s 55us/sample - loss: 0.5002 - accuracy: 0.8314 - val_loss: 0.4894 - val_accuracy: 0.8414\n",
      "Epoch 15/30\n",
      "55000/55000 [==============================] - 3s 55us/sample - loss: 0.4932 - accuracy: 0.8330 - val_loss: 0.4826 - val_accuracy: 0.8422\n",
      "Epoch 16/30\n",
      "55000/55000 [==============================] - 3s 55us/sample - loss: 0.4868 - accuracy: 0.8349 - val_loss: 0.4781 - val_accuracy: 0.8416\n",
      "Epoch 17/30\n",
      "55000/55000 [==============================] - 3s 55us/sample - loss: 0.4809 - accuracy: 0.8362 - val_loss: 0.4740 - val_accuracy: 0.8442\n",
      "Epoch 18/30\n",
      "55000/55000 [==============================] - 3s 56us/sample - loss: 0.4758 - accuracy: 0.8381 - val_loss: 0.4679 - val_accuracy: 0.8458\n",
      "Epoch 19/30\n",
      "55000/55000 [==============================] - 3s 55us/sample - loss: 0.4707 - accuracy: 0.8395 - val_loss: 0.4636 - val_accuracy: 0.8458\n",
      "Epoch 20/30\n",
      "55000/55000 [==============================] - 3s 56us/sample - loss: 0.4660 - accuracy: 0.8408 - val_loss: 0.4598 - val_accuracy: 0.8486\n",
      "Epoch 21/30\n",
      "55000/55000 [==============================] - 3s 56us/sample - loss: 0.4618 - accuracy: 0.8420 - val_loss: 0.4552 - val_accuracy: 0.8472\n",
      "Epoch 22/30\n",
      "55000/55000 [==============================] - 3s 55us/sample - loss: 0.4582 - accuracy: 0.8421 - val_loss: 0.4520 - val_accuracy: 0.8494\n",
      "Epoch 23/30\n",
      "55000/55000 [==============================] - 3s 55us/sample - loss: 0.4543 - accuracy: 0.8436 - val_loss: 0.4508 - val_accuracy: 0.8494\n",
      "Epoch 24/30\n",
      "55000/55000 [==============================] - 3s 55us/sample - loss: 0.4509 - accuracy: 0.8444 - val_loss: 0.4456 - val_accuracy: 0.8528\n",
      "Epoch 25/30\n",
      "55000/55000 [==============================] - 3s 54us/sample - loss: 0.4475 - accuracy: 0.8462 - val_loss: 0.4428 - val_accuracy: 0.8528\n",
      "Epoch 26/30\n",
      "55000/55000 [==============================] - 3s 55us/sample - loss: 0.4444 - accuracy: 0.8470 - val_loss: 0.4397 - val_accuracy: 0.8524\n",
      "Epoch 27/30\n",
      "55000/55000 [==============================] - 3s 55us/sample - loss: 0.4412 - accuracy: 0.8472 - val_loss: 0.4380 - val_accuracy: 0.8534\n",
      "Epoch 28/30\n",
      "55000/55000 [==============================] - 3s 55us/sample - loss: 0.4382 - accuracy: 0.8493 - val_loss: 0.4340 - val_accuracy: 0.8524\n",
      "Epoch 29/30\n",
      "55000/55000 [==============================] - 3s 55us/sample - loss: 0.4357 - accuracy: 0.8496 - val_loss: 0.4317 - val_accuracy: 0.8530\n",
      "Epoch 30/30\n",
      "55000/55000 [==============================] - 3s 55us/sample - loss: 0.4331 - accuracy: 0.8505 - val_loss: 0.4287 - val_accuracy: 0.8546\n"
     ]
    }
   ],
   "source": [
    "model = keras.Sequential()\n",
    "model.add(keras.layers.Flatten(input_shape=[28,28]))\n",
    "model.add(keras.layers.Dense(300, activation=\"relu\"))\n",
    "model.add(keras.layers.Dense(100, activation=\"relu\"))\n",
    "model.add(keras.layers.Dense(10, activation=\"softmax\"))\n",
    "\n",
    "# Get a summary of the network\n",
    "model.summary()\n",
    "# Access an individual layer\n",
    "input_layer = model.layers[1]\n",
    "print(input_layer.name)\n",
    "\n",
    "# Get layer parameters. For Dense layers this include weights and bias\n",
    "w, b = input_layer.get_weights()\n",
    "print(w, b)\n",
    "\n",
    "# Now let's define the learning parameters\n",
    "model.compile(loss=\"sparse_categorical_crossentropy\",\n",
    "             optimizer=keras.optimizers.SGD(learning_rate=0.001),\n",
    "             metrics=[\"accuracy\"])\n",
    "\n",
    "# And train\n",
    "history = model.fit(X_train, y_train, batch_size=50,\n",
    "                    epochs=30, validation_data=(X_valid, y_valid))\n",
    "\n",
    "# Finally save the model\n",
    "model.save(\"dense_classification_mlp.h5\")"
   ]
  },
  {
   "cell_type": "code",
   "execution_count": 6,
   "metadata": {},
   "outputs": [
    {
     "data": {
      "text/plain": [
       "<Figure size 1000x500 with 1 Axes>"
      ]
     },
     "metadata": {},
     "output_type": "display_data"
    }
   ],
   "source": [
    "# Let's plot the history\n",
    "import pandas as pd\n",
    "import matplotlib.pyplot as plt\n",
    "\n",
    "def draw_history(history):\n",
    "    pd.DataFrame(history.history).plot(figsize=(10, 5))\n",
    "    plt.grid(True)\n",
    "    plt.gca().set_ylim(0, 1)\n",
    "    plt.show()\n",
    "    \n",
    "draw_history(history)"
   ]
  },
  {
   "cell_type": "code",
   "execution_count": 7,
   "metadata": {},
   "outputs": [
    {
     "name": "stdout",
     "output_type": "stream",
     "text": [
      "10000/10000 [==============================] - 0s 43us/sample - loss: 76.2348 - accuracy: 0.8059\n",
      "[[0. 0. 0. 0. 0. 0. 0. 0. 0. 1.]\n",
      " [0. 0. 1. 0. 0. 0. 0. 0. 0. 0.]\n",
      " [0. 1. 0. 0. 0. 0. 0. 0. 0. 0.]\n",
      " [0. 1. 0. 0. 0. 0. 0. 0. 0. 0.]\n",
      " [0. 0. 0. 0. 0. 0. 1. 0. 0. 0.]\n",
      " [0. 1. 0. 0. 0. 0. 0. 0. 0. 0.]\n",
      " [0. 0. 0. 0. 1. 0. 0. 0. 0. 0.]\n",
      " [0. 0. 0. 0. 1. 0. 0. 0. 0. 0.]\n",
      " [0. 0. 0. 0. 0. 0. 0. 1. 0. 0.]\n",
      " [0. 0. 0. 0. 0. 0. 0. 1. 0. 0.]]\n"
     ]
    },
    {
     "data": {
      "text/plain": [
       "array(['Ankle boot', 'Pullover', 'Trouser', 'Trouser', 'Shirt', 'Trouser',\n",
       "       'Coat', 'Coat', 'Sneaker', 'Sneaker'], dtype='<U11')"
      ]
     },
     "execution_count": 7,
     "metadata": {},
     "output_type": "execute_result"
    }
   ],
   "source": [
    "# Let's see how the model perform on the test dataset\n",
    "model.evaluate(X_test, y_test)\n",
    "\n",
    "# We can finally use the model to obtain predictinos\n",
    "y_proba = model.predict(X_test[:10])\n",
    "print(y_proba.round(2))\n",
    "\n",
    "# We can ask Keras to retrieve the highest probability class for us\n",
    "y_pred = model.predict_classes(X_test[:10])\n",
    "np.array(class_names)[y_pred]"
   ]
  },
  {
   "cell_type": "markdown",
   "metadata": {},
   "source": [
    "Let's build a Regression example:"
   ]
  },
  {
   "cell_type": "code",
   "execution_count": 8,
   "metadata": {},
   "outputs": [
    {
     "name": "stdout",
     "output_type": "stream",
     "text": [
      "Train on 11610 samples, validate on 3870 samples\n",
      "Epoch 1/20\n",
      "11610/11610 [==============================] - 1s 49us/sample - loss: 2.4734 - val_loss: 1.1512\n",
      "Epoch 2/20\n",
      "11610/11610 [==============================] - 0s 37us/sample - loss: 0.9516 - val_loss: 0.8019\n",
      "Epoch 3/20\n",
      "11610/11610 [==============================] - 0s 37us/sample - loss: 0.7822 - val_loss: 0.7365\n",
      "Epoch 4/20\n",
      "11610/11610 [==============================] - 0s 36us/sample - loss: 0.7155 - val_loss: 0.6838\n",
      "Epoch 5/20\n",
      "11610/11610 [==============================] - 0s 37us/sample - loss: 0.6703 - val_loss: 0.6486\n",
      "Epoch 6/20\n",
      "11610/11610 [==============================] - 0s 36us/sample - loss: 0.6366 - val_loss: 0.6170\n",
      "Epoch 7/20\n",
      "11610/11610 [==============================] - 0s 36us/sample - loss: 0.6089 - val_loss: 0.5957\n",
      "Epoch 8/20\n",
      "11610/11610 [==============================] - 0s 36us/sample - loss: 0.5880 - val_loss: 0.5751\n",
      "Epoch 9/20\n",
      "11610/11610 [==============================] - 0s 37us/sample - loss: 0.5705 - val_loss: 0.5617\n",
      "Epoch 10/20\n",
      "11610/11610 [==============================] - 0s 36us/sample - loss: 0.5570 - val_loss: 0.5485\n",
      "Epoch 11/20\n",
      "11610/11610 [==============================] - 0s 36us/sample - loss: 0.5459 - val_loss: 0.5398\n",
      "Epoch 12/20\n",
      "11610/11610 [==============================] - 0s 36us/sample - loss: 0.5362 - val_loss: 0.5311\n",
      "Epoch 13/20\n",
      "11610/11610 [==============================] - 0s 36us/sample - loss: 0.5281 - val_loss: 0.5242\n",
      "Epoch 14/20\n",
      "11610/11610 [==============================] - 0s 37us/sample - loss: 0.5216 - val_loss: 0.5180\n",
      "Epoch 15/20\n",
      "11610/11610 [==============================] - 0s 37us/sample - loss: 0.5157 - val_loss: 0.5119\n",
      "Epoch 16/20\n",
      "11610/11610 [==============================] - 0s 36us/sample - loss: 0.5103 - val_loss: 0.5075\n",
      "Epoch 17/20\n",
      "11610/11610 [==============================] - 0s 36us/sample - loss: 0.5053 - val_loss: 0.5047\n",
      "Epoch 18/20\n",
      "11610/11610 [==============================] - 0s 36us/sample - loss: 0.5021 - val_loss: 0.4997\n",
      "Epoch 19/20\n",
      "11610/11610 [==============================] - 0s 36us/sample - loss: 0.4978 - val_loss: 0.4967\n",
      "Epoch 20/20\n",
      "11610/11610 [==============================] - 0s 36us/sample - loss: 0.4943 - val_loss: 0.4949\n"
     ]
    }
   ],
   "source": [
    "from sklearn.datasets import fetch_california_housing\n",
    "from sklearn.model_selection import train_test_split\n",
    "from sklearn.preprocessing import StandardScaler\n",
    "\n",
    "housing = fetch_california_housing()\n",
    "\n",
    "# Partition the full dataset into train/test\n",
    "X_train_full, X_test, y_train_full, y_test = train_test_split(\n",
    "    housing.data, housing.target)\n",
    "# Partition the train dataset into train/validation\n",
    "X_train, X_valid, y_train, y_valid = train_test_split(\n",
    "    X_train_full, y_train_full)\n",
    "\n",
    "# Preprocess the training data using the StandardScaler\n",
    "scaler = StandardScaler()\n",
    "X_train = scaler.fit_transform(X_train)\n",
    "X_valid = scaler.transform(X_valid)\n",
    "X_test = scaler.transform(X_test)\n",
    "\n",
    "# define the network\n",
    "model = keras.Sequential([\n",
    "    keras.layers.Dense(30, activation=\"relu\", input_shape=X_train.shape[1:]),\n",
    "    keras.layers.Dense(1)\n",
    "])\n",
    "model.compile(optimizer=\"sgd\", loss=\"mean_squared_error\")\n",
    "history = model.fit(X_train, y_train, epochs=20,\n",
    "                   validation_data=(X_valid, y_valid))"
   ]
  },
  {
   "cell_type": "code",
   "execution_count": 9,
   "metadata": {},
   "outputs": [
    {
     "name": "stdout",
     "output_type": "stream",
     "text": [
      "5160/5160 [==============================] - 0s 16us/sample - loss: 0.5079\n",
      "[[1.9112434]\n",
      " [1.7182374]\n",
      " [2.2232888]]\n",
      "[-0.22075653]\n",
      "[0.27223742]\n",
      "[0.22328877]\n"
     ]
    }
   ],
   "source": [
    "# Let's evaluate the model on the test dataset, and perform som inference\n",
    "mse_test = model.evaluate(X_test, y_test)\n",
    "X_new = X_test[:3]\n",
    "y_pred = model.predict(X_new)\n",
    "print(y_pred)\n",
    "for i in range(3):\n",
    "    print(y_pred[i] - y_test[i])"
   ]
  },
  {
   "cell_type": "markdown",
   "metadata": {},
   "source": [
    "# Keras Functional API\n",
    "\n",
    "The [Keras functional API](https://keras.io/getting-started/functional-api-guide/) is the way to go for defining complex models, such as multi-output models, directed acyclic graphs, or models with shared layers.\n",
    "\n",
    "Let's define a model that feeds the inputs through a deep path, and directly to the output:"
   ]
  },
  {
   "cell_type": "code",
   "execution_count": 10,
   "metadata": {},
   "outputs": [
    {
     "name": "stdout",
     "output_type": "stream",
     "text": [
      "Train on 11610 samples, validate on 3870 samples\n",
      "Epoch 1/20\n",
      "11610/11610 [==============================] - 1s 52us/sample - loss: 2.7158 - val_loss: 0.8716\n",
      "Epoch 2/20\n",
      "11610/11610 [==============================] - 0s 39us/sample - loss: 0.7414 - val_loss: 0.6474\n",
      "Epoch 3/20\n",
      "11610/11610 [==============================] - 0s 39us/sample - loss: 0.6328 - val_loss: 0.5835\n",
      "Epoch 4/20\n",
      "11610/11610 [==============================] - 0s 39us/sample - loss: 0.5836 - val_loss: 0.5636\n",
      "Epoch 5/20\n",
      "11610/11610 [==============================] - 0s 39us/sample - loss: 0.5654 - val_loss: 0.5460\n",
      "Epoch 6/20\n",
      "11610/11610 [==============================] - 0s 39us/sample - loss: 0.5478 - val_loss: 0.5331\n",
      "Epoch 7/20\n",
      "11610/11610 [==============================] - 0s 39us/sample - loss: 0.5347 - val_loss: 0.5214\n",
      "Epoch 8/20\n",
      "11610/11610 [==============================] - 0s 39us/sample - loss: 0.5250 - val_loss: 0.5139\n",
      "Epoch 9/20\n",
      "11610/11610 [==============================] - 0s 39us/sample - loss: 0.5181 - val_loss: 0.5060\n",
      "Epoch 10/20\n",
      "11610/11610 [==============================] - 0s 39us/sample - loss: 0.5111 - val_loss: 0.5024\n",
      "Epoch 11/20\n",
      "11610/11610 [==============================] - 0s 39us/sample - loss: 0.5064 - val_loss: 0.4963\n",
      "Epoch 12/20\n",
      "11610/11610 [==============================] - 0s 39us/sample - loss: 0.5001 - val_loss: 0.4938\n",
      "Epoch 13/20\n",
      "11610/11610 [==============================] - 0s 39us/sample - loss: 0.4966 - val_loss: 0.4872\n",
      "Epoch 14/20\n",
      "11610/11610 [==============================] - 0s 40us/sample - loss: 0.4908 - val_loss: 0.4833\n",
      "Epoch 15/20\n",
      "11610/11610 [==============================] - 0s 39us/sample - loss: 0.4881 - val_loss: 0.4809\n",
      "Epoch 16/20\n",
      "11610/11610 [==============================] - 0s 38us/sample - loss: 0.4831 - val_loss: 0.4843\n",
      "Epoch 17/20\n",
      "11610/11610 [==============================] - 0s 39us/sample - loss: 0.4808 - val_loss: 0.4788\n",
      "Epoch 18/20\n",
      "11610/11610 [==============================] - 0s 39us/sample - loss: 0.4772 - val_loss: 0.4694\n",
      "Epoch 19/20\n",
      "11610/11610 [==============================] - 0s 39us/sample - loss: 0.4747 - val_loss: 0.4679\n",
      "Epoch 20/20\n",
      "11610/11610 [==============================] - 0s 39us/sample - loss: 0.4731 - val_loss: 0.4662\n"
     ]
    },
    {
     "data": {
      "image/png": "[encoded data removed]",
      "text/plain": [
       "<Figure size 720x360 with 1 Axes>"
      ]
     },
     "metadata": {},
     "output_type": "display_data"
    }
   ],
   "source": [
    "# Shape is [rows, cols], and we only need the columns to define the input\n",
    "in_0 = keras.layers.Input(shape=X_train.shape[1:])\n",
    "h1 = keras.layers.Dense(30, activation=\"relu\")(in_0)\n",
    "h2 = keras.layers.Dense(30, activation=\"relu\")(h1)\n",
    "concat = keras.layers.Concatenate()([in_0, h2])\n",
    "output = keras.layers.Dense(1)(concat)\n",
    "model = keras.Model(inputs=[in_0], outputs=[output])\n",
    "\n",
    "model.compile(optimizer=\"sgd\", loss=\"mean_squared_error\")\n",
    "history = model.fit(X_train, y_train, epochs=20,\n",
    "                   validation_data=(X_valid, y_valid))\n",
    "draw_history(history)"
   ]
  },
  {
   "cell_type": "markdown",
   "metadata": {},
   "source": [
    "Using the functional API a model can have multiple inputs and outputs. For instance, we may use multiple inputs when we want to send a certain range of the input throught the dense path, while sending the rest directly to the output. Rages can overlap. The following code defines such network:"
   ]
  },
  {
   "cell_type": "code",
   "execution_count": 11,
   "metadata": {},
   "outputs": [
    {
     "name": "stdout",
     "output_type": "stream",
     "text": [
      "Train on 11610 samples, validate on 3870 samples\n",
      "Epoch 1/20\n",
      "11610/11610 [==============================] - 1s 54us/sample - loss: 2.3931 - val_loss: 1.1909\n",
      "Epoch 2/20\n",
      "11610/11610 [==============================] - 0s 40us/sample - loss: 0.9164 - val_loss: 0.7851\n",
      "Epoch 3/20\n",
      "11610/11610 [==============================] - 0s 40us/sample - loss: 0.7374 - val_loss: 0.6912\n",
      "Epoch 4/20\n",
      "11610/11610 [==============================] - 0s 40us/sample - loss: 0.6744 - val_loss: 0.6417\n",
      "Epoch 5/20\n",
      "11610/11610 [==============================] - 0s 40us/sample - loss: 0.6350 - val_loss: 0.6073\n",
      "Epoch 6/20\n",
      "11610/11610 [==============================] - 0s 40us/sample - loss: 0.6048 - val_loss: 0.5795\n",
      "Epoch 7/20\n",
      "11610/11610 [==============================] - 0s 40us/sample - loss: 0.5803 - val_loss: 0.5602\n",
      "Epoch 8/20\n",
      "11610/11610 [==============================] - 0s 40us/sample - loss: 0.5616 - val_loss: 0.5427\n",
      "Epoch 9/20\n",
      "11610/11610 [==============================] - 0s 40us/sample - loss: 0.5460 - val_loss: 0.5291\n",
      "Epoch 10/20\n",
      "11610/11610 [==============================] - 0s 40us/sample - loss: 0.5346 - val_loss: 0.5179\n",
      "Epoch 11/20\n",
      "11610/11610 [==============================] - 0s 40us/sample - loss: 0.5245 - val_loss: 0.5115\n",
      "Epoch 12/20\n",
      "11610/11610 [==============================] - 0s 40us/sample - loss: 0.5168 - val_loss: 0.5039\n",
      "Epoch 13/20\n",
      "11610/11610 [==============================] - 0s 40us/sample - loss: 0.5107 - val_loss: 0.4983\n",
      "Epoch 14/20\n",
      "11610/11610 [==============================] - 0s 40us/sample - loss: 0.5058 - val_loss: 0.4945\n",
      "Epoch 15/20\n",
      "11610/11610 [==============================] - 0s 40us/sample - loss: 0.5010 - val_loss: 0.4901\n",
      "Epoch 16/20\n",
      "11610/11610 [==============================] - 0s 40us/sample - loss: 0.4973 - val_loss: 0.4878\n",
      "Epoch 17/20\n",
      "11610/11610 [==============================] - 0s 40us/sample - loss: 0.4930 - val_loss: 0.4849\n",
      "Epoch 18/20\n",
      "11610/11610 [==============================] - 0s 40us/sample - loss: 0.4905 - val_loss: 0.4810\n",
      "Epoch 19/20\n",
      "11610/11610 [==============================] - 0s 40us/sample - loss: 0.4866 - val_loss: 0.4792\n",
      "Epoch 20/20\n",
      "11610/11610 [==============================] - 0s 41us/sample - loss: 0.4834 - val_loss: 0.4790\n",
      "5160/5160 [==============================] - 0s 20us/sample - loss: 0.4894\n"
     ]
    },
    {
     "data": {
      "image/png": "[encoded data removed]",
      "text/plain": [
       "<Figure size 720x360 with 1 Axes>"
      ]
     },
     "metadata": {},
     "output_type": "display_data"
    }
   ],
   "source": [
    "input_A = keras.layers.Input(shape=[5], name=\"wide_input\")\n",
    "input_B = keras.layers.Input(shape=[6], name=\"deep_input\")\n",
    "\n",
    "hidden1 = keras.layers.Dense(30, activation=\"relu\")(input_B)\n",
    "hidden2 = keras.layers.Dense(30, activation=\"relu\")(hidden1)\n",
    "concat = keras.layers.concatenate([input_A, hidden2])\n",
    "output = keras.layers.Dense(1, name=\"output\")(concat)\n",
    "model = keras.Model(inputs=[input_A, input_B], outputs=[output])\n",
    "\n",
    "# in order to call this model, we have to pass multiple inputs\n",
    "model.compile(loss=\"mse\", optimizer=keras.optimizers.SGD(lr=1e-3))\n",
    "\n",
    "X_train_A, X_train_B = X_train[:, :5], X_train[:, 2:]\n",
    "X_valid_A, X_valid_B = X_valid[:, :5], X_valid[:, 2:]\n",
    "X_test_A, X_test_B = X_test[:, :5], X_test[:, 2:]\n",
    "X_new_A, X_new_B = X_test_A[:3], X_test_B[:3]\n",
    "\n",
    "history = model.fit((X_train_A, X_train_B), y_train, epochs=20,\n",
    "                    validation_data=((X_valid_A, X_valid_B), y_valid))\n",
    "mse_test = model.evaluate((X_test_A, X_test_B), y_test)\n",
    "y_pred = model.predict((X_new_A, X_new_B))\n",
    "draw_history(history)"
   ]
  },
  {
   "cell_type": "markdown",
   "metadata": {},
   "source": [
    "**Multiple outputs are also possible**. One of the multiple uses of multiple outputs is **regularization**; we may want to add auxiliary outputs in the architecture to ensure that parts of the network learn something useful, not only the _final_ output. \n",
    "\n",
    "Each output needs it own loss function, so we must pass a list of loss functions when compiling the network. To train the network we need to pass labels for each output as well. When we evaluate we obtain the total loss and the individual losses. A network with multiple outputs will predict multiple values.\n",
    "\n",
    "# Callbacks\n",
    "\n",
    "The ```fit()``` method accept **callbacks** that will be called at different times, for example at the end of each epoch, or at the end of the training. Callbacks can be used to saved model checkpoints:"
   ]
  },
  {
   "cell_type": "code",
   "execution_count": 12,
   "metadata": {},
   "outputs": [
    {
     "name": "stdout",
     "output_type": "stream",
     "text": [
      "Train on 55000 samples, validate on 5000 samples\n",
      "Epoch 1/10\n",
      "55000/55000 [==============================] - 5s 86us/sample - loss: 1.4289 - accuracy: 0.6050 - val_loss: 0.9850 - val_accuracy: 0.7038\n",
      "Epoch 2/10\n",
      "55000/55000 [==============================] - 5s 82us/sample - loss: 0.8681 - accuracy: 0.7275 - val_loss: 0.7620 - val_accuracy: 0.7580\n",
      "Epoch 3/10\n",
      "55000/55000 [==============================] - 4s 82us/sample - loss: 0.7254 - accuracy: 0.7685 - val_loss: 0.6677 - val_accuracy: 0.7842\n",
      "Epoch 4/10\n",
      "55000/55000 [==============================] - 4s 82us/sample - loss: 0.6533 - accuracy: 0.7885 - val_loss: 0.6142 - val_accuracy: 0.7990\n",
      "Epoch 5/10\n",
      "55000/55000 [==============================] - 5s 82us/sample - loss: 0.6074 - accuracy: 0.8029 - val_loss: 0.5749 - val_accuracy: 0.8150\n",
      "Epoch 6/10\n",
      "55000/55000 [==============================] - 5s 83us/sample - loss: 0.5750 - accuracy: 0.8111 - val_loss: 0.5488 - val_accuracy: 0.8186\n",
      "Epoch 7/10\n",
      "55000/55000 [==============================] - 5s 87us/sample - loss: 0.5508 - accuracy: 0.8176 - val_loss: 0.5346 - val_accuracy: 0.8240\n",
      "Epoch 8/10\n",
      "55000/55000 [==============================] - 4s 81us/sample - loss: 0.5321 - accuracy: 0.8226 - val_loss: 0.5110 - val_accuracy: 0.8336\n",
      "Epoch 9/10\n",
      "55000/55000 [==============================] - 5s 82us/sample - loss: 0.5168 - accuracy: 0.8269 - val_loss: 0.5017 - val_accuracy: 0.8378\n",
      "Epoch 10/10\n",
      "55000/55000 [==============================] - 4s 82us/sample - loss: 0.5041 - accuracy: 0.8310 - val_loss: 0.4887 - val_accuracy: 0.8358\n"
     ]
    }
   ],
   "source": [
    "# Only train/test datasets\n",
    "(X_train_full, y_train_full), (X_test, y_test) = fashion_mnist.load_data()\n",
    "# Lets split train_full into train and validation. Use 5000 samples for validation \n",
    "# and 55000 for training. We also scale pixel greyscale values to [0,1]\n",
    "X_valid, X_train = X_train_full[:5000] / 255.0, X_train_full[5000:] / 255.0\n",
    "y_valid, y_train = y_train_full[:5000], y_train_full[5000:]\n",
    "\n",
    "model = keras.Sequential()\n",
    "model.add(keras.layers.Flatten(input_shape=[28,28]))\n",
    "model.add(keras.layers.Dense(300, activation=\"relu\"))\n",
    "model.add(keras.layers.Dense(100, activation=\"relu\"))\n",
    "model.add(keras.layers.Dense(10, activation=\"softmax\"))\n",
    "\n",
    "# Now let's define the learning parameters\n",
    "model.compile(loss=\"sparse_categorical_crossentropy\",\n",
    "             optimizer=keras.optimizers.SGD(learning_rate=0.001),\n",
    "             metrics=[\"accuracy\"])\n",
    "\n",
    "checkpoint_cb = keras.callbacks.ModelCheckpoint(\"model_checkpoint.h5\",\n",
    "                                               save_best_only=True)\n",
    "history = model.fit(X_train, y_train, epochs=10,\n",
    "                   validation_data=(X_valid, y_valid),\n",
    "                   callbacks=[checkpoint_cb])"
   ]
  },
  {
   "cell_type": "markdown",
   "metadata": {},
   "source": [
    "Keras provides many callbacks, and we can create our own ones by implementing ```keras.callbacks.Callback```. The base class defines many lifecycle event handlers that we can override:"
   ]
  },
  {
   "cell_type": "code",
   "execution_count": 13,
   "metadata": {},
   "outputs": [],
   "source": [
    "class PrintUsefullDataCallback(keras.callbacks.Callback):\n",
    "    def on_epoch_end(self, epoch, logs):\n",
    "        print(\"\\nval/train: {:.2f}\".format(logs[\"val_loss\"] / logs[\"loss\"]))"
   ]
  },
  {
   "cell_type": "markdown",
   "metadata": {},
   "source": [
    "# Tensorboard\n",
    "\n",
    "In SageMaker if tensorboard is started as:\n",
    "```\n",
    "/home/ec2-user/anaconda3/envs/tensorflow_p27/bin/tensorboard --port=6006 --logdir /tmp/\n",
    "```\n",
    "\n",
    "You can connect to it using the following URL (with your own notebook prefix):\n",
    "\n",
    "```\n",
    "https://mlclassic-benchmark.notebook.us-west-2.sagemaker.aws/proxy/6006/\n",
    "```"
   ]
  }
 ],
 "metadata": {
  "kernelspec": {
   "display_name": "conda_mxnet_p36",
   "language": "python",
   "name": "conda_mxnet_p36"
  },
  "language_info": {
   "codemirror_mode": {
    "name": "ipython",
    "version": 3
   },
   "file_extension": ".py",
   "mimetype": "text/x-python",
   "name": "python",
   "nbconvert_exporter": "python",
   "pygments_lexer": "ipython3",
   "version": "3.6.5"
  }
 },
 "nbformat": 4,
 "nbformat_minor": 2
}
