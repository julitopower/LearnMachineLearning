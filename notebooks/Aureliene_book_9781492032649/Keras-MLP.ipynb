{
 "cells": [
  {
   "cell_type": "code",
   "execution_count": 29,
   "metadata": {},
   "outputs": [
    {
     "name": "stdout",
     "output_type": "stream",
     "text": [
      "\u001b[33mYou are using pip version 10.0.1, however version 19.3.1 is available.\r\n",
      "You should consider upgrading via the 'pip install --upgrade pip' command.\u001b[0m\r\n"
     ]
    }
   ],
   "source": [
    "! python3 -m pip install -U tensorflow==2.0.0a0 > /dev/null"
   ]
  },
  {
   "cell_type": "markdown",
   "metadata": {},
   "source": [
    "# Perceptron using SKLearn\n",
    "\n",
    "Single layer perceptron is a linear classifier. I can't solve the XOR problem. Stacking multiple single layer Perceptrons can solve the XOR problem"
   ]
  },
  {
   "cell_type": "code",
   "execution_count": 2,
   "metadata": {},
   "outputs": [
    {
     "name": "stdout",
     "output_type": "stream",
     "text": [
      "150\n",
      "150\n"
     ]
    },
    {
     "name": "stderr",
     "output_type": "stream",
     "text": [
      "/home/ec2-user/anaconda3/envs/mxnet_p36/lib/python3.6/site-packages/sklearn/linear_model/stochastic_gradient.py:166: FutureWarning: max_iter and tol parameters have been added in Perceptron in 0.19. If both are left unset, they default to max_iter=5 and tol=None. If tol is not None, max_iter defaults to max_iter=1000. From 0.21, default max_iter will be 1000, and default tol will be 1e-3.\n",
      "  FutureWarning)\n"
     ]
    }
   ],
   "source": [
    "import numpy as np\n",
    "from sklearn.datasets import load_iris\n",
    "from sklearn.linear_model import Perceptron\n",
    "\n",
    "iris = load_iris()\n",
    "X = iris.data[:, (2, 3)]\n",
    "y = (iris.target == 0).astype(np.int) # 0 is setosa\n",
    "\n",
    "perceptron_classifier = Perceptron()\n",
    "perceptron_classifier.fit(X, y)\n",
    "y_pred = perceptron_classifier.predict(X)\n",
    "\n",
    "# How many predictions are correct?\n",
    "print((y == y_pred).sum())\n",
    "# How many datapoints are in the dataset\n",
    "print(len(y))"
   ]
  },
  {
   "cell_type": "markdown",
   "metadata": {},
   "source": [
    "# Multilayer Perceptron\n",
    "\n",
    "\n",
    "MLPs became computatinally feasable with the introduction of the [backpropagatino](https://scholar.google.com/scholar?q=Learning+Internal+Representations+by+Error+Propagation+author%3Arumelhart) algorithm, which is still in use. Using backpropagation the gradients of the error with respect to each of the parameters of the MLP are calculated, and then gradienct descent can be applied to learn the parameters iteratively. See [this article](https://towardsdatascience.com/batch-mini-batch-stochastic-gradient-descent-7a62ecba642a) for a simple explanation of Gradient Descent, and Stochastic Gradient Descent.\n",
    "\n",
    "## Regression\n",
    "\n",
    "In general, when building MLPs for regression, we don't use activation functions in the output layer. The loss function to use during training is typically the **mean squared error**, but if you have a lot of outliers in the training set, you may prefer to use the **mean absolute error instead**. \n",
    "\n",
    "## Classification\n",
    "\n",
    "For binary classification or multiple binary labels we use a single output neuron with Logistic activation function. For Multiclass classification (single prediction of mutually exclusive classes), we generally use softmax. In all cases cross entropy is used as the loss function.\n",
    "\n",
    "# Implementing MLPs using Keras\n",
    "\n",
    "Keras is a high-level Deep Learning API that allows you to easily build, train, evaluate, and execute all sorts of neural networks. Checkout [https://keras.io](https://keras.io) for more information. Let's start with an image classification example:"
   ]
  },
  {
   "cell_type": "code",
   "execution_count": 3,
   "metadata": {},
   "outputs": [
    {
     "data": {
      "text/plain": [
       "'2.0.0-alpha0'"
      ]
     },
     "execution_count": 3,
     "metadata": {},
     "output_type": "execute_result"
    }
   ],
   "source": [
    "import tensorflow as tf\n",
    "from tensorflow import keras\n",
    "tf.__version__"
   ]
  },
  {
   "cell_type": "code",
   "execution_count": 4,
   "metadata": {},
   "outputs": [
    {
     "name": "stdout",
     "output_type": "stream",
     "text": [
      "Full train dataset shape (60000, 28, 28)\n",
      "Train dataset dtype uint8\n"
     ]
    }
   ],
   "source": [
    "# This dataset contains greyscale images 28 x 28 of clothing items\n",
    "fashion_mnist = keras.datasets.fashion_mnist\n",
    "# Only train/test datasets\n",
    "(X_train_full, y_train_full), (X_test, y_test) = fashion_mnist.load_data()\n",
    "\n",
    "print(\"Full train dataset shape\", X_train_full.shape)\n",
    "print(\"Train dataset dtype\", X_train_full.dtype)\n",
    "\n",
    "# Lets split train_full into train and validation. Use 5000 samples for validation \n",
    "# and 55000 for training. We also scale pixel greyscale values to [0,1]\n",
    "X_valid, X_train = X_train_full[:5000] / 255.0, X_train_full[5000:] / 255.0\n",
    "y_valid, y_train = y_train_full[:5000], y_train_full[5000:]\n",
    "\n",
    "# Define the name of each of the possible target values\n",
    "class_names = [\"T-shirt/top\", \"Trouser\", \"Pullover\", \"Dress\", \"Coat\",\n",
    "               \"Sandal\", \"Shirt\", \"Sneaker\", \"Bag\", \"Ankle boot\"]"
   ]
  },
  {
   "cell_type": "code",
   "execution_count": 5,
   "metadata": {},
   "outputs": [
    {
     "name": "stdout",
     "output_type": "stream",
     "text": [
      "Model: \"sequential\"\n",
      "_________________________________________________________________\n",
      "Layer (type)                 Output Shape              Param #   \n",
      "=================================================================\n",
      "flatten (Flatten)            (None, 784)               0         \n",
      "_________________________________________________________________\n",
      "dense (Dense)                (None, 300)               235500    \n",
      "_________________________________________________________________\n",
      "dense_1 (Dense)              (None, 100)               30100     \n",
      "_________________________________________________________________\n",
      "dense_2 (Dense)              (None, 10)                1010      \n",
      "=================================================================\n",
      "Total params: 266,610\n",
      "Trainable params: 266,610\n",
      "Non-trainable params: 0\n",
      "_________________________________________________________________\n",
      "dense\n",
      "[[-0.03903364 -0.07402228 -0.00594018 ... -0.05199974  0.00261908\n",
      "   0.0348765 ]\n",
      " [-0.06242717  0.06480186  0.06234729 ...  0.07346286  0.0386812\n",
      "   0.04554992]\n",
      " [ 0.05093072  0.03205443 -0.06086833 ... -0.06708864  0.00808131\n",
      "   0.02835153]\n",
      " ...\n",
      " [ 0.00614246  0.04779873  0.01183901 ...  0.06120992 -0.00986209\n",
      "   0.07036309]\n",
      " [ 0.00162312 -0.05553089 -0.02999563 ...  0.01127038  0.04998226\n",
      "  -0.0103684 ]\n",
      " [ 0.02583642 -0.00805075 -0.0664228  ... -0.01757277  0.0257593\n",
      "   0.04387183]] [0. 0. 0. 0. 0. 0. 0. 0. 0. 0. 0. 0. 0. 0. 0. 0. 0. 0. 0. 0. 0. 0. 0. 0.\n",
      " 0. 0. 0. 0. 0. 0. 0. 0. 0. 0. 0. 0. 0. 0. 0. 0. 0. 0. 0. 0. 0. 0. 0. 0.\n",
      " 0. 0. 0. 0. 0. 0. 0. 0. 0. 0. 0. 0. 0. 0. 0. 0. 0. 0. 0. 0. 0. 0. 0. 0.\n",
      " 0. 0. 0. 0. 0. 0. 0. 0. 0. 0. 0. 0. 0. 0. 0. 0. 0. 0. 0. 0. 0. 0. 0. 0.\n",
      " 0. 0. 0. 0. 0. 0. 0. 0. 0. 0. 0. 0. 0. 0. 0. 0. 0. 0. 0. 0. 0. 0. 0. 0.\n",
      " 0. 0. 0. 0. 0. 0. 0. 0. 0. 0. 0. 0. 0. 0. 0. 0. 0. 0. 0. 0. 0. 0. 0. 0.\n",
      " 0. 0. 0. 0. 0. 0. 0. 0. 0. 0. 0. 0. 0. 0. 0. 0. 0. 0. 0. 0. 0. 0. 0. 0.\n",
      " 0. 0. 0. 0. 0. 0. 0. 0. 0. 0. 0. 0. 0. 0. 0. 0. 0. 0. 0. 0. 0. 0. 0. 0.\n",
      " 0. 0. 0. 0. 0. 0. 0. 0. 0. 0. 0. 0. 0. 0. 0. 0. 0. 0. 0. 0. 0. 0. 0. 0.\n",
      " 0. 0. 0. 0. 0. 0. 0. 0. 0. 0. 0. 0. 0. 0. 0. 0. 0. 0. 0. 0. 0. 0. 0. 0.\n",
      " 0. 0. 0. 0. 0. 0. 0. 0. 0. 0. 0. 0. 0. 0. 0. 0. 0. 0. 0. 0. 0. 0. 0. 0.\n",
      " 0. 0. 0. 0. 0. 0. 0. 0. 0. 0. 0. 0. 0. 0. 0. 0. 0. 0. 0. 0. 0. 0. 0. 0.\n",
      " 0. 0. 0. 0. 0. 0. 0. 0. 0. 0. 0. 0.]\n",
      "Train on 55000 samples, validate on 5000 samples\n",
      "Epoch 1/30\n",
      "55000/55000 [==============================] - 3s 63us/sample - loss: 1.7415 - accuracy: 0.5412 - val_loss: 1.2457 - val_accuracy: 0.6910\n",
      "Epoch 2/30\n",
      "55000/55000 [==============================] - 3s 58us/sample - loss: 1.0451 - accuracy: 0.7120 - val_loss: 0.8925 - val_accuracy: 0.7344\n",
      "Epoch 3/30\n",
      "55000/55000 [==============================] - 3s 57us/sample - loss: 0.8349 - accuracy: 0.7448 - val_loss: 0.7658 - val_accuracy: 0.7656\n",
      "Epoch 4/30\n",
      "55000/55000 [==============================] - 3s 59us/sample - loss: 0.7424 - accuracy: 0.7676 - val_loss: 0.6973 - val_accuracy: 0.7808\n",
      "Epoch 5/30\n",
      "55000/55000 [==============================] - 3s 58us/sample - loss: 0.6862 - accuracy: 0.7827 - val_loss: 0.6528 - val_accuracy: 0.7928\n",
      "Epoch 6/30\n",
      "55000/55000 [==============================] - 3s 58us/sample - loss: 0.6463 - accuracy: 0.7928 - val_loss: 0.6183 - val_accuracy: 0.8026\n",
      "Epoch 7/30\n",
      "55000/55000 [==============================] - 3s 57us/sample - loss: 0.6161 - accuracy: 0.8018 - val_loss: 0.5907 - val_accuracy: 0.8118\n",
      "Epoch 8/30\n",
      "55000/55000 [==============================] - 3s 58us/sample - loss: 0.5917 - accuracy: 0.8074 - val_loss: 0.5695 - val_accuracy: 0.8162\n",
      "Epoch 9/30\n",
      "55000/55000 [==============================] - 3s 57us/sample - loss: 0.5720 - accuracy: 0.8127 - val_loss: 0.5518 - val_accuracy: 0.8238\n",
      "Epoch 10/30\n",
      "55000/55000 [==============================] - 3s 57us/sample - loss: 0.5553 - accuracy: 0.8174 - val_loss: 0.5368 - val_accuracy: 0.8268\n",
      "Epoch 11/30\n",
      "55000/55000 [==============================] - 3s 58us/sample - loss: 0.5414 - accuracy: 0.8209 - val_loss: 0.5251 - val_accuracy: 0.8298\n",
      "Epoch 12/30\n",
      "55000/55000 [==============================] - 3s 57us/sample - loss: 0.5294 - accuracy: 0.8242 - val_loss: 0.5129 - val_accuracy: 0.8336\n",
      "Epoch 13/30\n",
      "55000/55000 [==============================] - 3s 57us/sample - loss: 0.5191 - accuracy: 0.8261 - val_loss: 0.5049 - val_accuracy: 0.8334\n",
      "Epoch 14/30\n",
      "55000/55000 [==============================] - 3s 57us/sample - loss: 0.5098 - accuracy: 0.8293 - val_loss: 0.4965 - val_accuracy: 0.8368\n",
      "Epoch 15/30\n",
      "55000/55000 [==============================] - 3s 57us/sample - loss: 0.5016 - accuracy: 0.8314 - val_loss: 0.4905 - val_accuracy: 0.8394\n",
      "Epoch 16/30\n",
      "55000/55000 [==============================] - 3s 57us/sample - loss: 0.4944 - accuracy: 0.8325 - val_loss: 0.4816 - val_accuracy: 0.8432\n",
      "Epoch 17/30\n",
      "55000/55000 [==============================] - 3s 57us/sample - loss: 0.4881 - accuracy: 0.8339 - val_loss: 0.4775 - val_accuracy: 0.8448\n",
      "Epoch 18/30\n",
      "55000/55000 [==============================] - 3s 58us/sample - loss: 0.4821 - accuracy: 0.8358 - val_loss: 0.4723 - val_accuracy: 0.8456\n",
      "Epoch 19/30\n",
      "55000/55000 [==============================] - 3s 58us/sample - loss: 0.4762 - accuracy: 0.8377 - val_loss: 0.4681 - val_accuracy: 0.8470\n",
      "Epoch 20/30\n",
      "55000/55000 [==============================] - 3s 57us/sample - loss: 0.4711 - accuracy: 0.8392 - val_loss: 0.4609 - val_accuracy: 0.8482\n",
      "Epoch 21/30\n",
      "55000/55000 [==============================] - 3s 58us/sample - loss: 0.4665 - accuracy: 0.8406 - val_loss: 0.4578 - val_accuracy: 0.8500\n",
      "Epoch 22/30\n",
      "55000/55000 [==============================] - 3s 57us/sample - loss: 0.4622 - accuracy: 0.8405 - val_loss: 0.4532 - val_accuracy: 0.8512\n",
      "Epoch 23/30\n",
      "55000/55000 [==============================] - 3s 58us/sample - loss: 0.4580 - accuracy: 0.8418 - val_loss: 0.4503 - val_accuracy: 0.8520\n",
      "Epoch 24/30\n",
      "55000/55000 [==============================] - 3s 58us/sample - loss: 0.4540 - accuracy: 0.8430 - val_loss: 0.4467 - val_accuracy: 0.8540\n",
      "Epoch 25/30\n",
      "55000/55000 [==============================] - 3s 58us/sample - loss: 0.4504 - accuracy: 0.8443 - val_loss: 0.4441 - val_accuracy: 0.8542\n",
      "Epoch 26/30\n",
      "55000/55000 [==============================] - 3s 58us/sample - loss: 0.4471 - accuracy: 0.8457 - val_loss: 0.4415 - val_accuracy: 0.8564\n",
      "Epoch 27/30\n",
      "55000/55000 [==============================] - 3s 57us/sample - loss: 0.4436 - accuracy: 0.8465 - val_loss: 0.4392 - val_accuracy: 0.8562\n",
      "Epoch 28/30\n",
      "55000/55000 [==============================] - 3s 58us/sample - loss: 0.4408 - accuracy: 0.8468 - val_loss: 0.4344 - val_accuracy: 0.8566\n",
      "Epoch 29/30\n",
      "55000/55000 [==============================] - 3s 57us/sample - loss: 0.4375 - accuracy: 0.8484 - val_loss: 0.4323 - val_accuracy: 0.8584\n",
      "Epoch 30/30\n",
      "55000/55000 [==============================] - 3s 58us/sample - loss: 0.4347 - accuracy: 0.8494 - val_loss: 0.4306 - val_accuracy: 0.8572\n"
     ]
    }
   ],
   "source": [
    "model = keras.Sequential()\n",
    "model.add(keras.layers.Flatten(input_shape=[28,28]))\n",
    "model.add(keras.layers.Dense(300, activation=\"relu\"))\n",
    "model.add(keras.layers.Dense(100, activation=\"relu\"))\n",
    "model.add(keras.layers.Dense(10, activation=\"softmax\"))\n",
    "\n",
    "# Get a summary of the network\n",
    "model.summary()\n",
    "# Access an individual layer\n",
    "input_layer = model.layers[1]\n",
    "print(input_layer.name)\n",
    "\n",
    "# Get layer parameters. For Dense layers this include weights and bias\n",
    "w, b = input_layer.get_weights()\n",
    "print(w, b)\n",
    "\n",
    "# Now let's define the learning parameters\n",
    "model.compile(loss=\"sparse_categorical_crossentropy\",\n",
    "             optimizer=keras.optimizers.SGD(learning_rate=0.001),\n",
    "             metrics=[\"accuracy\"])\n",
    "\n",
    "# And train\n",
    "history = model.fit(X_train, y_train, batch_size=50,\n",
    "                    epochs=30, validation_data=(X_valid, y_valid))"
   ]
  },
  {
   "cell_type": "code",
   "execution_count": 8,
   "metadata": {},
   "outputs": [
    {
     "data": {
      "image/png": "[encoded data removed]",
      "text/plain": [
       "<Figure size 1152x720 with 1 Axes>"
      ]
     },
     "metadata": {},
     "output_type": "display_data"
    }
   ],
   "source": [
    "# Let's plot the history\n",
    "import pandas as pd\n",
    "import matplotlib.pyplot as plt\n",
    "\n",
    "pd.DataFrame(history.history).plot(figsize=(16, 10))\n",
    "plt.grid(True)\n",
    "plt.gca().set_ylim(0, 1)\n",
    "plt.show()"
   ]
  },
  {
   "cell_type": "code",
   "execution_count": 16,
   "metadata": {},
   "outputs": [
    {
     "name": "stdout",
     "output_type": "stream",
     "text": [
      "10000/10000 [==============================] - 0s 44us/sample - loss: 70.7862 - accuracy: 0.8168\n",
      "[[0. 0. 0. 0. 0. 0. 0. 0. 0. 1.]\n",
      " [0. 0. 1. 0. 0. 0. 0. 0. 0. 0.]\n",
      " [0. 1. 0. 0. 0. 0. 0. 0. 0. 0.]\n",
      " [0. 1. 0. 0. 0. 0. 0. 0. 0. 0.]\n",
      " [0. 0. 0. 0. 0. 0. 1. 0. 0. 0.]\n",
      " [0. 1. 0. 0. 0. 0. 0. 0. 0. 0.]\n",
      " [0. 0. 0. 0. 1. 0. 0. 0. 0. 0.]\n",
      " [0. 0. 0. 0. 0. 0. 1. 0. 0. 0.]\n",
      " [0. 0. 0. 0. 0. 1. 0. 0. 0. 0.]\n",
      " [0. 0. 0. 0. 0. 0. 0. 1. 0. 0.]]\n"
     ]
    },
    {
     "data": {
      "text/plain": [
       "array(['Ankle boot', 'Pullover', 'Trouser', 'Trouser', 'Shirt', 'Trouser',\n",
       "       'Coat', 'Shirt', 'Sandal', 'Sneaker'], dtype='<U11')"
      ]
     },
     "execution_count": 16,
     "metadata": {},
     "output_type": "execute_result"
    }
   ],
   "source": [
    "# Let's see how the model perform on the test dataset\n",
    "model.evaluate(X_test, y_test)\n",
    "\n",
    "# We can finally use the model to obtain predictinos\n",
    "y_proba = model.predict(X_test[:10])\n",
    "print(y_proba.round(2))\n",
    "\n",
    "# We can ask Keras to retrieve the highest probability class for us\n",
    "y_pred = model.predict_classes(X_test[:10])\n",
    "np.array(class_names)[y_pred]"
   ]
  },
  {
   "cell_type": "markdown",
   "metadata": {},
   "source": [
    "Let's build a Regression example:"
   ]
  },
  {
   "cell_type": "code",
   "execution_count": 23,
   "metadata": {},
   "outputs": [
    {
     "name": "stdout",
     "output_type": "stream",
     "text": [
      "Train on 11610 samples, validate on 3870 samples\n",
      "Epoch 1/20\n",
      "11610/11610 [==============================] - 1s 48us/sample - loss: 2.6178 - val_loss: 1.5728\n",
      "Epoch 2/20\n",
      "11610/11610 [==============================] - 0s 37us/sample - loss: 0.9073 - val_loss: 0.8027\n",
      "Epoch 3/20\n",
      "11610/11610 [==============================] - 0s 38us/sample - loss: 0.7275 - val_loss: 0.7108\n",
      "Epoch 4/20\n",
      "11610/11610 [==============================] - 0s 38us/sample - loss: 0.6761 - val_loss: 0.6608\n",
      "Epoch 5/20\n",
      "11610/11610 [==============================] - 0s 37us/sample - loss: 0.6419 - val_loss: 0.6286\n",
      "Epoch 6/20\n",
      "11610/11610 [==============================] - 0s 38us/sample - loss: 0.6127 - val_loss: 0.6020\n",
      "Epoch 7/20\n",
      "11610/11610 [==============================] - 0s 38us/sample - loss: 0.5886 - val_loss: 0.5779\n",
      "Epoch 8/20\n",
      "11610/11610 [==============================] - 0s 38us/sample - loss: 0.5669 - val_loss: 0.5593\n",
      "Epoch 9/20\n",
      "11610/11610 [==============================] - 0s 37us/sample - loss: 0.5491 - val_loss: 0.5389\n",
      "Epoch 10/20\n",
      "11610/11610 [==============================] - 0s 38us/sample - loss: 0.5334 - val_loss: 0.5284\n",
      "Epoch 11/20\n",
      "11610/11610 [==============================] - 0s 38us/sample - loss: 0.5199 - val_loss: 0.5184\n",
      "Epoch 12/20\n",
      "11610/11610 [==============================] - 0s 38us/sample - loss: 0.5100 - val_loss: 0.5111\n",
      "Epoch 13/20\n",
      "11610/11610 [==============================] - 0s 38us/sample - loss: 0.4992 - val_loss: 0.4949\n",
      "Epoch 14/20\n",
      "11610/11610 [==============================] - 0s 38us/sample - loss: 0.4911 - val_loss: 0.4883\n",
      "Epoch 15/20\n",
      "11610/11610 [==============================] - 0s 38us/sample - loss: 0.4843 - val_loss: 0.4815\n",
      "Epoch 16/20\n",
      "11610/11610 [==============================] - 0s 37us/sample - loss: 0.4779 - val_loss: 0.4717\n",
      "Epoch 17/20\n",
      "11610/11610 [==============================] - 0s 38us/sample - loss: 0.4721 - val_loss: 0.4648\n",
      "Epoch 18/20\n",
      "11610/11610 [==============================] - 0s 38us/sample - loss: 0.4668 - val_loss: 0.4599\n",
      "Epoch 19/20\n",
      "11610/11610 [==============================] - 0s 38us/sample - loss: 0.4609 - val_loss: 0.4561\n",
      "Epoch 20/20\n",
      "11610/11610 [==============================] - 0s 38us/sample - loss: 0.4572 - val_loss: 0.4555\n",
      "5160/5160 [==============================] - 0s 18us/sample - loss: 0.4412\n",
      "[[ 0.78408759 -1.05891241  0.49308759 ... -0.00591241 -0.48591241\n",
      "   0.67808759]\n",
      " [ 1.51494938 -0.32805062  1.22394938 ...  0.72494938  0.24494938\n",
      "   1.40894938]\n",
      " [ 0.57340913 -1.26959087  0.28240913 ... -0.21659087 -0.69659087\n",
      "   0.46740913]]\n"
     ]
    }
   ],
   "source": [
    "from sklearn.datasets import fetch_california_housing\n",
    "from sklearn.model_selection import train_test_split\n",
    "from sklearn.preprocessing import StandardScaler\n",
    "\n",
    "housing = fetch_california_housing()\n",
    "\n",
    "# Partition the full dataset into train/test\n",
    "X_train_full, X_test, y_train_full, y_test = train_test_split(\n",
    "    housing.data, housing.target)\n",
    "# Partition the train dataset into train/validation\n",
    "X_train, X_valid, y_train, y_valid = train_test_split(\n",
    "    X_train_full, y_train_full)\n",
    "\n",
    "# Preprocess the training data using the StandardScaler\n",
    "scaler = StandardScaler()\n",
    "X_train = scaler.fit_transform(X_train)\n",
    "X_valid = scaler.transform(X_valid)\n",
    "X_test = scaler.transform(X_test)\n",
    "\n",
    "# define the network\n",
    "model = keras.Sequential([\n",
    "    keras.layers.Dense(30, activation=\"relu\", input_shape=X_train.shape[1:]),\n",
    "    keras.layers.Dense(1)\n",
    "])\n",
    "model.compile(optimizer=\"sgd\", loss=\"mean_squared_error\")\n",
    "history = model.fit(X_train, y_train, epochs=20,\n",
    "                   validation_data=(X_valid, y_valid))"
   ]
  },
  {
   "cell_type": "code",
   "execution_count": 28,
   "metadata": {},
   "outputs": [
    {
     "name": "stdout",
     "output_type": "stream",
     "text": [
      "5160/5160 [==============================] - 0s 19us/sample - loss: 0.4412\n",
      "[[1.8030876]\n",
      " [2.5339494]\n",
      " [1.5924091]]\n",
      "[-0.02891243]\n",
      "[0.46494937]\n",
      "[-0.53959084]\n"
     ]
    }
   ],
   "source": [
    "# Let's evaluate the model on the test dataset, and perform som inference\n",
    "mse_test = model.evaluate(X_test, y_test)\n",
    "X_new = X_test[:3]\n",
    "y_pred = model.predict(X_new)\n",
    "print(y_pred)\n",
    "for i in range(3):\n",
    "    print(y_pred[i] - y_test[i])"
   ]
  }
 ],
 "metadata": {
  "kernelspec": {
   "display_name": "conda_mxnet_p36",
   "language": "python",
   "name": "conda_mxnet_p36"
  },
  "language_info": {
   "codemirror_mode": {
    "name": "ipython",
    "version": 3
   },
   "file_extension": ".py",
   "mimetype": "text/x-python",
   "name": "python",
   "nbconvert_exporter": "python",
   "pygments_lexer": "ipython3",
   "version": "3.6.5"
  }
 },
 "nbformat": 4,
 "nbformat_minor": 2
}
