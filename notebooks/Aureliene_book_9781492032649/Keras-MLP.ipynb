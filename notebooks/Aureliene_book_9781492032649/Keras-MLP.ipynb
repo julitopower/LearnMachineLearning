{
 "cells": [
  {
   "cell_type": "code",
   "execution_count": 1,
   "metadata": {},
   "outputs": [
    {
     "name": "stdout",
     "output_type": "stream",
     "text": [
      "Requirement already up-to-date: scikit-learn in /usr/local/lib/python3.6/site-packages (0.22.1)\n",
      "Requirement already up-to-date: pandas in /usr/local/lib/python3.6/site-packages (0.25.3)\n",
      "Requirement already up-to-date: matplotlib in /usr/local/lib/python3.6/site-packages (3.1.2)\n",
      "Requirement already up-to-date: tensorflow==2.0.0a0 in /usr/local/lib/python3.6/site-packages (2.0.0a0)\n",
      "Requirement already satisfied, skipping upgrade: numpy>=1.11.0 in /root/.local/lib/python3.6/site-packages (from scikit-learn) (1.16.1)\n",
      "Requirement already satisfied, skipping upgrade: scipy>=0.17.0 in /usr/local/lib/python3.6/site-packages (from scikit-learn) (1.4.1)\n",
      "Requirement already satisfied, skipping upgrade: joblib>=0.11 in /usr/local/lib/python3.6/site-packages (from scikit-learn) (0.14.1)\n",
      "Requirement already satisfied, skipping upgrade: pytz>=2017.2 in /usr/local/lib/python3.6/site-packages (from pandas) (2019.3)\n",
      "Requirement already satisfied, skipping upgrade: python-dateutil>=2.6.1 in /usr/local/lib/python3.6/site-packages (from pandas) (2.8.1)\n",
      "Requirement already satisfied, skipping upgrade: cycler>=0.10 in /usr/local/lib/python3.6/site-packages (from matplotlib) (0.10.0)\n",
      "Requirement already satisfied, skipping upgrade: pyparsing!=2.0.4,!=2.1.2,!=2.1.6,>=2.0.1 in /usr/local/lib/python3.6/site-packages (from matplotlib) (2.4.6)\n",
      "Requirement already satisfied, skipping upgrade: kiwisolver>=1.0.1 in /usr/local/lib/python3.6/site-packages (from matplotlib) (1.1.0)\n",
      "Requirement already satisfied, skipping upgrade: six>=1.10.0 in /usr/local/lib/python3.6/site-packages (from tensorflow==2.0.0a0) (1.14.0)\n",
      "Requirement already satisfied, skipping upgrade: termcolor>=1.1.0 in /usr/local/lib/python3.6/site-packages (from tensorflow==2.0.0a0) (1.1.0)\n",
      "Requirement already satisfied, skipping upgrade: absl-py>=0.7.0 in /usr/local/lib/python3.6/site-packages (from tensorflow==2.0.0a0) (0.9.0)\n",
      "Requirement already satisfied, skipping upgrade: keras-preprocessing>=1.0.5 in /usr/local/lib/python3.6/site-packages (from tensorflow==2.0.0a0) (1.1.0)\n",
      "Requirement already satisfied, skipping upgrade: protobuf>=3.6.1 in /usr/local/lib/python3.6/site-packages (from tensorflow==2.0.0a0) (3.11.2)\n",
      "Requirement already satisfied, skipping upgrade: tf-estimator-nightly<1.14.0.dev2019030116,>=1.14.0.dev2019030115 in /usr/local/lib/python3.6/site-packages (from tensorflow==2.0.0a0) (1.14.0.dev2019030115)\n",
      "Requirement already satisfied, skipping upgrade: tb-nightly<1.14.0a20190302,>=1.14.0a20190301 in /usr/local/lib/python3.6/site-packages (from tensorflow==2.0.0a0) (1.14.0a20190301)\n",
      "Requirement already satisfied, skipping upgrade: wheel>=0.26 in /usr/local/lib/python3.6/site-packages (from tensorflow==2.0.0a0) (0.32.3)\n",
      "Requirement already satisfied, skipping upgrade: gast>=0.2.0 in /usr/local/lib/python3.6/site-packages (from tensorflow==2.0.0a0) (0.3.2)\n",
      "Requirement already satisfied, skipping upgrade: google-pasta>=0.1.2 in /usr/local/lib/python3.6/site-packages (from tensorflow==2.0.0a0) (0.1.8)\n",
      "Requirement already satisfied, skipping upgrade: grpcio>=1.8.6 in /usr/local/lib/python3.6/site-packages (from tensorflow==2.0.0a0) (1.26.0)\n",
      "Requirement already satisfied, skipping upgrade: keras-applications>=1.0.6 in /usr/local/lib/python3.6/site-packages (from tensorflow==2.0.0a0) (1.0.8)\n",
      "Requirement already satisfied, skipping upgrade: astor>=0.6.0 in /usr/local/lib/python3.6/site-packages (from tensorflow==2.0.0a0) (0.8.1)\n",
      "Requirement already satisfied, skipping upgrade: setuptools in /usr/local/lib/python3.6/site-packages (from kiwisolver>=1.0.1->matplotlib) (40.8.0)\n",
      "Requirement already satisfied, skipping upgrade: werkzeug>=0.11.15 in /usr/local/lib/python3.6/site-packages (from tb-nightly<1.14.0a20190302,>=1.14.0a20190301->tensorflow==2.0.0a0) (0.16.0)\n",
      "Requirement already satisfied, skipping upgrade: markdown>=2.6.8 in /usr/local/lib/python3.6/site-packages (from tb-nightly<1.14.0a20190302,>=1.14.0a20190301->tensorflow==2.0.0a0) (3.1.1)\n",
      "Requirement already satisfied, skipping upgrade: h5py in /usr/local/lib/python3.6/site-packages (from keras-applications>=1.0.6->tensorflow==2.0.0a0) (2.10.0)\n",
      "\u001b[33mYou are using pip version 19.0.1, however version 19.3.1 is available.\n",
      "You should consider upgrading via the 'pip install --upgrade pip' command.\u001b[0m\n"
     ]
    }
   ],
   "source": [
    "! python3 -m pip install -U  scikit-learn pandas matplotlib tensorflow==2.0.0a0\n",
    "from utils import *"
   ]
  },
  {
   "cell_type": "markdown",
   "metadata": {},
   "source": [
    "# Perceptron using SKLearn\n",
    "\n",
    "Single layer perceptron is a linear classifier. I can't solve the XOR problem. Stacking multiple single layer Perceptrons can solve the XOR problem"
   ]
  },
  {
   "cell_type": "code",
   "execution_count": 2,
   "metadata": {},
   "outputs": [
    {
     "name": "stdout",
     "output_type": "stream",
     "text": [
      "150\n",
      "150\n"
     ]
    }
   ],
   "source": [
    "import numpy as np\n",
    "from sklearn.datasets import load_iris\n",
    "from sklearn.linear_model import Perceptron\n",
    "\n",
    "iris = load_iris()\n",
    "X = iris.data[:, (2, 3)]\n",
    "y = (iris.target == 0).astype(np.int) # 0 is setosa\n",
    "\n",
    "perceptron_classifier = Perceptron()\n",
    "perceptron_classifier.fit(X, y)\n",
    "y_pred = perceptron_classifier.predict(X)\n",
    "\n",
    "# How many predictions are correct?\n",
    "print((y == y_pred).sum())\n",
    "# How many datapoints are in the dataset\n",
    "print(len(y))"
   ]
  },
  {
   "cell_type": "markdown",
   "metadata": {},
   "source": [
    "# Multilayer Perceptron\n",
    "\n",
    "\n",
    "MLPs became computatinally feasable with the introduction of the [backpropagatino](https://scholar.google.com/scholar?q=Learning+Internal+Representations+by+Error+Propagation+author%3Arumelhart) algorithm, which is still in use. Using backpropagation the gradients of the error with respect to each of the parameters of the MLP are calculated, and then gradienct descent can be applied to learn the parameters iteratively. See [this article](https://towardsdatascience.com/batch-mini-batch-stochastic-gradient-descent-7a62ecba642a) for a simple explanation of Gradient Descent, and Stochastic Gradient Descent.\n",
    "\n",
    "## Regression\n",
    "\n",
    "In general, when building MLPs for regression, we don't use activation functions in the output layer. The loss function to use during training is typically the **mean squared error**, but if you have a lot of outliers in the training set, you may prefer to use the **mean absolute error instead**. \n",
    "\n",
    "## Classification\n",
    "\n",
    "For binary classification or multiple binary labels we use a single output neuron with Logistic activation function. For Multiclass classification (single prediction of mutually exclusive classes), we generally use softmax. In all cases cross entropy is used as the loss function.\n",
    "\n",
    "# Implementing MLPs using Keras\n",
    "\n",
    "Keras is a high-level Deep Learning API that allows you to easily build, train, evaluate, and execute all sorts of neural networks. Checkout [https://keras.io](https://keras.io) for more information. Let's start with an image classification example:"
   ]
  },
  {
   "cell_type": "code",
   "execution_count": 3,
   "metadata": {},
   "outputs": [
    {
     "data": {
      "text/plain": [
       "'2.0.0-alpha0'"
      ]
     },
     "execution_count": 3,
     "metadata": {},
     "output_type": "execute_result"
    }
   ],
   "source": [
    "import tensorflow as tf\n",
    "from tensorflow import keras\n",
    "tf.__version__"
   ]
  },
  {
   "cell_type": "code",
   "execution_count": 4,
   "metadata": {},
   "outputs": [
    {
     "name": "stdout",
     "output_type": "stream",
     "text": [
      "Full train dataset shape (60000, 28, 28)\n",
      "Train dataset dtype uint8\n"
     ]
    }
   ],
   "source": [
    "# This dataset contains greyscale images 28 x 28 of clothing items\n",
    "fashion_mnist = keras.datasets.fashion_mnist\n",
    "# Only train/test datasets\n",
    "(X_train_full, y_train_full), (X_test, y_test) = fashion_mnist.load_data()\n",
    "\n",
    "print(\"Full train dataset shape\", X_train_full.shape)\n",
    "print(\"Train dataset dtype\", X_train_full.dtype)\n",
    "\n",
    "# Lets split train_full into train and validation. Use 5000 samples for validation \n",
    "# and 55000 for training. We also scale pixel greyscale values to [0,1]\n",
    "X_valid, X_train = X_train_full[:5000] / 255.0, X_train_full[5000:] / 255.0\n",
    "y_valid, y_train = y_train_full[:5000], y_train_full[5000:]\n",
    "\n",
    "# Define the name of each of the possible target values\n",
    "class_names = [\"T-shirt/top\", \"Trouser\", \"Pullover\", \"Dress\", \"Coat\",\n",
    "               \"Sandal\", \"Shirt\", \"Sneaker\", \"Bag\", \"Ankle boot\"]"
   ]
  },
  {
   "cell_type": "code",
   "execution_count": 5,
   "metadata": {},
   "outputs": [
    {
     "name": "stdout",
     "output_type": "stream",
     "text": [
      "Model: \"sequential\"\n",
      "_________________________________________________________________\n",
      "Layer (type)                 Output Shape              Param #   \n",
      "=================================================================\n",
      "flatten (Flatten)            (None, 784)               0         \n",
      "_________________________________________________________________\n",
      "dense (Dense)                (None, 300)               235500    \n",
      "_________________________________________________________________\n",
      "dense_1 (Dense)              (None, 100)               30100     \n",
      "_________________________________________________________________\n",
      "dense_2 (Dense)              (None, 10)                1010      \n",
      "=================================================================\n",
      "Total params: 266,610\n",
      "Trainable params: 266,610\n",
      "Non-trainable params: 0\n",
      "_________________________________________________________________\n",
      "dense\n",
      "[[ 0.03225948 -0.02407339 -0.07397797 ... -0.02468309  0.01454573\n",
      "  -0.03169198]\n",
      " [ 0.00790473  0.06659658 -0.05260443 ...  0.0496165   0.0256023\n",
      "   0.0050638 ]\n",
      " [ 0.03364874  0.0265207  -0.06923455 ... -0.06613447  0.01822999\n",
      "   0.07018298]\n",
      " ...\n",
      " [ 0.06901667  0.00899804  0.00206174 ...  0.05677196  0.03904437\n",
      "   0.03191113]\n",
      " [-0.03574834  0.02787546 -0.06610996 ...  0.04729311  0.05241881\n",
      "   0.06018569]\n",
      " [-0.03942917 -0.01859177  0.02008042 ... -0.04129926 -0.05594297\n",
      "  -0.06792491]] [0. 0. 0. 0. 0. 0. 0. 0. 0. 0. 0. 0. 0. 0. 0. 0. 0. 0. 0. 0. 0. 0. 0. 0.\n",
      " 0. 0. 0. 0. 0. 0. 0. 0. 0. 0. 0. 0. 0. 0. 0. 0. 0. 0. 0. 0. 0. 0. 0. 0.\n",
      " 0. 0. 0. 0. 0. 0. 0. 0. 0. 0. 0. 0. 0. 0. 0. 0. 0. 0. 0. 0. 0. 0. 0. 0.\n",
      " 0. 0. 0. 0. 0. 0. 0. 0. 0. 0. 0. 0. 0. 0. 0. 0. 0. 0. 0. 0. 0. 0. 0. 0.\n",
      " 0. 0. 0. 0. 0. 0. 0. 0. 0. 0. 0. 0. 0. 0. 0. 0. 0. 0. 0. 0. 0. 0. 0. 0.\n",
      " 0. 0. 0. 0. 0. 0. 0. 0. 0. 0. 0. 0. 0. 0. 0. 0. 0. 0. 0. 0. 0. 0. 0. 0.\n",
      " 0. 0. 0. 0. 0. 0. 0. 0. 0. 0. 0. 0. 0. 0. 0. 0. 0. 0. 0. 0. 0. 0. 0. 0.\n",
      " 0. 0. 0. 0. 0. 0. 0. 0. 0. 0. 0. 0. 0. 0. 0. 0. 0. 0. 0. 0. 0. 0. 0. 0.\n",
      " 0. 0. 0. 0. 0. 0. 0. 0. 0. 0. 0. 0. 0. 0. 0. 0. 0. 0. 0. 0. 0. 0. 0. 0.\n",
      " 0. 0. 0. 0. 0. 0. 0. 0. 0. 0. 0. 0. 0. 0. 0. 0. 0. 0. 0. 0. 0. 0. 0. 0.\n",
      " 0. 0. 0. 0. 0. 0. 0. 0. 0. 0. 0. 0. 0. 0. 0. 0. 0. 0. 0. 0. 0. 0. 0. 0.\n",
      " 0. 0. 0. 0. 0. 0. 0. 0. 0. 0. 0. 0. 0. 0. 0. 0. 0. 0. 0. 0. 0. 0. 0. 0.\n",
      " 0. 0. 0. 0. 0. 0. 0. 0. 0. 0. 0. 0.]\n",
      "Train on 55000 samples, validate on 5000 samples\n",
      "Epoch 1/30\n",
      "55000/55000 [==============================] - 8s 150us/sample - loss: 1.6717 - accuracy: 0.5482 - val_loss: 1.2304 - val_accuracy: 0.6708\n",
      "Epoch 2/30\n",
      "55000/55000 [==============================] - 8s 141us/sample - loss: 1.0483 - accuracy: 0.6919 - val_loss: 0.9032 - val_accuracy: 0.7212\n",
      "Epoch 3/30\n",
      "55000/55000 [==============================] - 8s 143us/sample - loss: 0.8432 - accuracy: 0.7369 - val_loss: 0.7739 - val_accuracy: 0.7564\n",
      "Epoch 4/30\n",
      "55000/55000 [==============================] - 7s 125us/sample - loss: 0.7464 - accuracy: 0.7643 - val_loss: 0.7024 - val_accuracy: 0.7746\n",
      "Epoch 5/30\n",
      "55000/55000 [==============================] - 7s 127us/sample - loss: 0.6867 - accuracy: 0.7795 - val_loss: 0.6548 - val_accuracy: 0.7892\n",
      "Epoch 6/30\n",
      "55000/55000 [==============================] - 7s 134us/sample - loss: 0.6449 - accuracy: 0.7917 - val_loss: 0.6192 - val_accuracy: 0.7980\n",
      "Epoch 7/30\n",
      "55000/55000 [==============================] - 9s 161us/sample - loss: 0.6139 - accuracy: 0.8003 - val_loss: 0.5917 - val_accuracy: 0.8084\n",
      "Epoch 8/30\n",
      "55000/55000 [==============================] - 8s 150us/sample - loss: 0.5896 - accuracy: 0.8071 - val_loss: 0.5705 - val_accuracy: 0.8124\n",
      "Epoch 9/30\n",
      "55000/55000 [==============================] - 8s 154us/sample - loss: 0.5702 - accuracy: 0.8120 - val_loss: 0.5549 - val_accuracy: 0.8182\n",
      "Epoch 10/30\n",
      "55000/55000 [==============================] - 8s 151us/sample - loss: 0.5542 - accuracy: 0.8155 - val_loss: 0.5415 - val_accuracy: 0.8224\n",
      "Epoch 11/30\n",
      "55000/55000 [==============================] - 8s 144us/sample - loss: 0.5409 - accuracy: 0.8198 - val_loss: 0.5276 - val_accuracy: 0.8256\n",
      "Epoch 12/30\n",
      "55000/55000 [==============================] - 8s 147us/sample - loss: 0.5292 - accuracy: 0.8230 - val_loss: 0.5161 - val_accuracy: 0.8314\n",
      "Epoch 13/30\n",
      "55000/55000 [==============================] - 8s 145us/sample - loss: 0.5193 - accuracy: 0.8252 - val_loss: 0.5093 - val_accuracy: 0.8328\n",
      "Epoch 14/30\n",
      "55000/55000 [==============================] - 8s 153us/sample - loss: 0.5101 - accuracy: 0.8293 - val_loss: 0.4986 - val_accuracy: 0.8342\n",
      "Epoch 15/30\n",
      "55000/55000 [==============================] - 7s 133us/sample - loss: 0.5024 - accuracy: 0.8311 - val_loss: 0.4918 - val_accuracy: 0.8362\n",
      "Epoch 16/30\n",
      "55000/55000 [==============================] - 8s 138us/sample - loss: 0.4952 - accuracy: 0.8328 - val_loss: 0.4857 - val_accuracy: 0.8382\n",
      "Epoch 17/30\n",
      "55000/55000 [==============================] - 9s 155us/sample - loss: 0.4886 - accuracy: 0.8337 - val_loss: 0.4783 - val_accuracy: 0.8424\n",
      "Epoch 18/30\n",
      "55000/55000 [==============================] - 8s 144us/sample - loss: 0.4826 - accuracy: 0.8355 - val_loss: 0.4739 - val_accuracy: 0.8404\n",
      "Epoch 19/30\n",
      "55000/55000 [==============================] - 8s 146us/sample - loss: 0.4772 - accuracy: 0.8375 - val_loss: 0.4712 - val_accuracy: 0.8410\n",
      "Epoch 20/30\n",
      "55000/55000 [==============================] - 9s 155us/sample - loss: 0.4725 - accuracy: 0.8380 - val_loss: 0.4635 - val_accuracy: 0.8460\n",
      "Epoch 21/30\n",
      "55000/55000 [==============================] - 9s 163us/sample - loss: 0.4676 - accuracy: 0.8399 - val_loss: 0.4592 - val_accuracy: 0.8474\n",
      "Epoch 22/30\n",
      "55000/55000 [==============================] - 7s 135us/sample - loss: 0.4628 - accuracy: 0.8408 - val_loss: 0.4554 - val_accuracy: 0.8486\n",
      "Epoch 23/30\n",
      "55000/55000 [==============================] - 7s 123us/sample - loss: 0.4590 - accuracy: 0.8426 - val_loss: 0.4525 - val_accuracy: 0.8482\n",
      "Epoch 24/30\n",
      "55000/55000 [==============================] - 10s 183us/sample - loss: 0.4550 - accuracy: 0.8436 - val_loss: 0.4465 - val_accuracy: 0.8506\n",
      "Epoch 25/30\n",
      "55000/55000 [==============================] - 14s 253us/sample - loss: 0.4513 - accuracy: 0.8448 - val_loss: 0.4464 - val_accuracy: 0.8506\n",
      "Epoch 26/30\n",
      "55000/55000 [==============================] - 10s 177us/sample - loss: 0.4475 - accuracy: 0.8457 - val_loss: 0.4410 - val_accuracy: 0.8536\n",
      "Epoch 27/30\n",
      "55000/55000 [==============================] - 8s 137us/sample - loss: 0.4444 - accuracy: 0.8469 - val_loss: 0.4399 - val_accuracy: 0.8530\n",
      "Epoch 28/30\n",
      "55000/55000 [==============================] - 8s 141us/sample - loss: 0.4411 - accuracy: 0.8483 - val_loss: 0.4373 - val_accuracy: 0.8538\n",
      "Epoch 29/30\n",
      "55000/55000 [==============================] - 7s 131us/sample - loss: 0.4383 - accuracy: 0.8494 - val_loss: 0.4338 - val_accuracy: 0.8558\n",
      "Epoch 30/30\n",
      "55000/55000 [==============================] - 8s 142us/sample - loss: 0.4351 - accuracy: 0.8501 - val_loss: 0.4307 - val_accuracy: 0.8558\n"
     ]
    }
   ],
   "source": [
    "model = keras.Sequential()\n",
    "model.add(keras.layers.Flatten(input_shape=[28,28]))\n",
    "model.add(keras.layers.Dense(300, activation=\"relu\"))\n",
    "model.add(keras.layers.Dense(100, activation=\"relu\"))\n",
    "model.add(keras.layers.Dense(10, activation=\"softmax\"))\n",
    "\n",
    "# Get a summary of the network\n",
    "model.summary()\n",
    "# Access an individual layer\n",
    "input_layer = model.layers[1]\n",
    "print(input_layer.name)\n",
    "\n",
    "# Get layer parameters. For Dense layers this include weights and bias\n",
    "w, b = input_layer.get_weights()\n",
    "print(w, b)\n",
    "\n",
    "# Now let's define the learning parameters\n",
    "model.compile(loss=\"sparse_categorical_crossentropy\",\n",
    "             optimizer=keras.optimizers.SGD(learning_rate=0.001),\n",
    "             metrics=[\"accuracy\"])\n",
    "\n",
    "# And train\n",
    "history = model.fit(X_train, y_train, batch_size=50,\n",
    "                    epochs=30, \n",
    "                    validation_data=(X_valid, y_valid),\n",
    "                    callbacks=[keras.callbacks.TensorBoard(get_run_logidr())])\n",
    "\n",
    "# Finally save the model\n",
    "model.save(\"dense_classification_mlp.h5\")"
   ]
  },
  {
   "cell_type": "code",
   "execution_count": 6,
   "metadata": {},
   "outputs": [
    {
     "data": {
      "image/png": "[encoded data removed]",
      "text/plain": [
       "<Figure size 720x360 with 1 Axes>"
      ]
     },
     "metadata": {
      "needs_background": "light"
     },
     "output_type": "display_data"
    }
   ],
   "source": [
    "draw_history(history)"
   ]
  },
  {
   "cell_type": "code",
   "execution_count": 7,
   "metadata": {},
   "outputs": [
    {
     "name": "stdout",
     "output_type": "stream",
     "text": [
      "10000/10000 [==============================] - 1s 142us/sample - loss: 74.5418 - accuracy: 0.8053\n",
      "[[0. 0. 0. 0. 0. 0. 0. 0. 0. 1.]\n",
      " [0. 0. 1. 0. 0. 0. 0. 0. 0. 0.]\n",
      " [0. 1. 0. 0. 0. 0. 0. 0. 0. 0.]\n",
      " [0. 1. 0. 0. 0. 0. 0. 0. 0. 0.]\n",
      " [0. 0. 0. 0. 0. 0. 1. 0. 0. 0.]\n",
      " [0. 1. 0. 0. 0. 0. 0. 0. 0. 0.]\n",
      " [0. 0. 0. 0. 1. 0. 0. 0. 0. 0.]\n",
      " [0. 0. 0. 0. 1. 0. 0. 0. 0. 0.]\n",
      " [0. 0. 0. 0. 0. 0. 0. 1. 0. 0.]\n",
      " [0. 0. 0. 0. 0. 0. 0. 1. 0. 0.]]\n"
     ]
    },
    {
     "data": {
      "text/plain": [
       "array(['Ankle boot', 'Pullover', 'Trouser', 'Trouser', 'Shirt', 'Trouser',\n",
       "       'Coat', 'Coat', 'Sneaker', 'Sneaker'], dtype='<U11')"
      ]
     },
     "execution_count": 7,
     "metadata": {},
     "output_type": "execute_result"
    }
   ],
   "source": [
    "# Let's see how the model perform on the test dataset\n",
    "model.evaluate(X_test, y_test)\n",
    "\n",
    "# We can finally use the model to obtain predictinos\n",
    "y_proba = model.predict(X_test[:10])\n",
    "print(y_proba.round(2))\n",
    "\n",
    "# We can ask Keras to retrieve the highest probability class for us\n",
    "y_pred = model.predict_classes(X_test[:10])\n",
    "np.array(class_names)[y_pred]"
   ]
  },
  {
   "cell_type": "markdown",
   "metadata": {},
   "source": [
    "Let's build a Regression example:"
   ]
  },
  {
   "cell_type": "code",
   "execution_count": 8,
   "metadata": {},
   "outputs": [
    {
     "name": "stderr",
     "output_type": "stream",
     "text": [
      "Downloading Cal. housing from https://ndownloader.figshare.com/files/5976036 to /root/scikit_learn_data\n"
     ]
    },
    {
     "name": "stdout",
     "output_type": "stream",
     "text": [
      "Train on 11610 samples, validate on 3870 samples\n",
      "Epoch 1/20\n",
      "11610/11610 [==============================] - 1s 98us/sample - loss: 1.5671 - val_loss: 0.8008\n",
      "Epoch 2/20\n",
      "11610/11610 [==============================] - 1s 83us/sample - loss: 0.7665 - val_loss: 0.7069\n",
      "Epoch 3/20\n",
      "11610/11610 [==============================] - 1s 92us/sample - loss: 0.6934 - val_loss: 0.6693\n",
      "Epoch 4/20\n",
      "11610/11610 [==============================] - 1s 80us/sample - loss: 0.6528 - val_loss: 0.6376\n",
      "Epoch 5/20\n",
      "11610/11610 [==============================] - 1s 91us/sample - loss: 0.6207 - val_loss: 0.6088\n",
      "Epoch 6/20\n",
      "11610/11610 [==============================] - 1s 88us/sample - loss: 0.5929 - val_loss: 0.5869\n",
      "Epoch 7/20\n",
      "11610/11610 [==============================] - 1s 108us/sample - loss: 0.5703 - val_loss: 0.5660\n",
      "Epoch 8/20\n",
      "11610/11610 [==============================] - 1s 105us/sample - loss: 0.5502 - val_loss: 0.5490\n",
      "Epoch 9/20\n",
      "11610/11610 [==============================] - 1s 117us/sample - loss: 0.5337 - val_loss: 0.5352\n",
      "Epoch 10/20\n",
      "11610/11610 [==============================] - 1s 101us/sample - loss: 0.5200 - val_loss: 0.5227\n",
      "Epoch 11/20\n",
      "11610/11610 [==============================] - 1s 83us/sample - loss: 0.5083 - val_loss: 0.5122\n",
      "Epoch 12/20\n",
      "11610/11610 [==============================] - 1s 99us/sample - loss: 0.4986 - val_loss: 0.5041\n",
      "Epoch 13/20\n",
      "11610/11610 [==============================] - 1s 103us/sample - loss: 0.4903 - val_loss: 0.4966\n",
      "Epoch 14/20\n",
      "11610/11610 [==============================] - 1s 110us/sample - loss: 0.4835 - val_loss: 0.4904\n",
      "Epoch 15/20\n",
      "11610/11610 [==============================] - 1s 105us/sample - loss: 0.4776 - val_loss: 0.4851\n",
      "Epoch 16/20\n",
      "11610/11610 [==============================] - 1s 105us/sample - loss: 0.4733 - val_loss: 0.4832\n",
      "Epoch 17/20\n",
      "11610/11610 [==============================] - 1s 118us/sample - loss: 0.4688 - val_loss: 0.4778\n",
      "Epoch 18/20\n",
      "11610/11610 [==============================] - 1s 99us/sample - loss: 0.4653 - val_loss: 0.4754\n",
      "Epoch 19/20\n",
      "11610/11610 [==============================] - 1s 97us/sample - loss: 0.4620 - val_loss: 0.4722\n",
      "Epoch 20/20\n",
      "11610/11610 [==============================] - 1s 116us/sample - loss: 0.4594 - val_loss: 0.4703\n"
     ]
    }
   ],
   "source": [
    "from sklearn.datasets import fetch_california_housing\n",
    "from sklearn.model_selection import train_test_split\n",
    "from sklearn.preprocessing import StandardScaler\n",
    "\n",
    "housing = fetch_california_housing()\n",
    "\n",
    "# Partition the full dataset into train/test\n",
    "X_train_full, X_test, y_train_full, y_test = train_test_split(\n",
    "    housing.data, housing.target)\n",
    "# Partition the train dataset into train/validation\n",
    "X_train, X_valid, y_train, y_valid = train_test_split(\n",
    "    X_train_full, y_train_full)\n",
    "\n",
    "# Preprocess the training data using the StandardScaler\n",
    "scaler = StandardScaler()\n",
    "X_train = scaler.fit_transform(X_train)\n",
    "X_valid = scaler.transform(X_valid)\n",
    "X_test = scaler.transform(X_test)\n",
    "\n",
    "# define the network\n",
    "model = keras.Sequential([\n",
    "    keras.layers.Dense(30, activation=\"relu\", input_shape=X_train.shape[1:]),\n",
    "    keras.layers.Dense(1)\n",
    "])\n",
    "model.compile(optimizer=\"sgd\", loss=\"mean_squared_error\")\n",
    "history = model.fit(X_train, y_train, epochs=20,\n",
    "                   validation_data=(X_valid, y_valid),\n",
    "                   callbacks=[keras.callbacks.TensorBoard(get_run_logidr())])"
   ]
  },
  {
   "cell_type": "code",
   "execution_count": 9,
   "metadata": {},
   "outputs": [
    {
     "name": "stdout",
     "output_type": "stream",
     "text": [
      "5160/5160 [==============================] - 0s 61us/sample - loss: 0.4492\n",
      "[[1.7236245]\n",
      " [0.5536322]\n",
      " [1.6655008]]\n",
      "[-0.32637548]\n",
      "[0.07863221]\n",
      "[0.06650078]\n"
     ]
    }
   ],
   "source": [
    "# Let's evaluate the model on the test dataset, and perform som inference\n",
    "mse_test = model.evaluate(X_test, y_test)\n",
    "X_new = X_test[:3]\n",
    "y_pred = model.predict(X_new)\n",
    "print(y_pred)\n",
    "for i in range(3):\n",
    "    print(y_pred[i] - y_test[i])"
   ]
  },
  {
   "cell_type": "markdown",
   "metadata": {},
   "source": [
    "# Keras Functional API\n",
    "\n",
    "The [Keras functional API](https://keras.io/getting-started/functional-api-guide/) is the way to go for defining complex models, such as multi-output models, directed acyclic graphs, or models with shared layers.\n",
    "\n",
    "Let's define a model that feeds the inputs through a deep path, and directly to the output:"
   ]
  },
  {
   "cell_type": "code",
   "execution_count": 10,
   "metadata": {},
   "outputs": [
    {
     "name": "stdout",
     "output_type": "stream",
     "text": [
      "Train on 11610 samples, validate on 3870 samples\n",
      "Epoch 1/20\n",
      "11610/11610 [==============================] - 1s 121us/sample - loss: 2.3208 - val_loss: 0.8932\n",
      "Epoch 2/20\n",
      "11610/11610 [==============================] - 1s 95us/sample - loss: 0.8184 - val_loss: 0.7278\n",
      "Epoch 3/20\n",
      "11610/11610 [==============================] - 1s 108us/sample - loss: 0.7054 - val_loss: 0.6839\n",
      "Epoch 4/20\n",
      "11610/11610 [==============================] - 1s 95us/sample - loss: 0.6676 - val_loss: 0.6534\n",
      "Epoch 5/20\n",
      "11610/11610 [==============================] - 1s 99us/sample - loss: 0.6382 - val_loss: 0.6266\n",
      "Epoch 6/20\n",
      "11610/11610 [==============================] - 1s 112us/sample - loss: 0.6134 - val_loss: 0.6050\n",
      "Epoch 7/20\n",
      "11610/11610 [==============================] - 1s 98us/sample - loss: 0.5912 - val_loss: 0.5915\n",
      "Epoch 8/20\n",
      "11610/11610 [==============================] - 1s 108us/sample - loss: 0.5758 - val_loss: 0.5750\n",
      "Epoch 9/20\n",
      "11610/11610 [==============================] - 2s 134us/sample - loss: 0.5606 - val_loss: 0.5662\n",
      "Epoch 10/20\n",
      "11610/11610 [==============================] - 2s 130us/sample - loss: 0.5493 - val_loss: 0.5477\n",
      "Epoch 11/20\n",
      "11610/11610 [==============================] - 2s 140us/sample - loss: 0.5387 - val_loss: 0.5359\n",
      "Epoch 12/20\n",
      "11610/11610 [==============================] - 2s 148us/sample - loss: 0.5273 - val_loss: 0.5297\n",
      "Epoch 13/20\n",
      "11610/11610 [==============================] - 2s 141us/sample - loss: 0.5183 - val_loss: 0.5208\n",
      "Epoch 14/20\n",
      "11610/11610 [==============================] - 2s 133us/sample - loss: 0.5126 - val_loss: 0.5160\n",
      "Epoch 15/20\n",
      "11610/11610 [==============================] - 2s 143us/sample - loss: 0.5064 - val_loss: 0.5120\n",
      "Epoch 16/20\n",
      "11610/11610 [==============================] - 1s 93us/sample - loss: 0.5010 - val_loss: 0.5042\n",
      "Epoch 17/20\n",
      "11610/11610 [==============================] - 1s 97us/sample - loss: 0.4950 - val_loss: 0.4976\n",
      "Epoch 18/20\n",
      "11610/11610 [==============================] - 1s 98us/sample - loss: 0.4911 - val_loss: 0.4974\n",
      "Epoch 19/20\n",
      "11610/11610 [==============================] - 1s 101us/sample - loss: 0.4864 - val_loss: 0.4948\n",
      "Epoch 20/20\n",
      "11610/11610 [==============================] - 1s 100us/sample - loss: 0.4836 - val_loss: 0.4887\n"
     ]
    },
    {
     "data": {
      "image/png": "[encoded data removed]",
      "text/plain": [
       "<Figure size 720x360 with 1 Axes>"
      ]
     },
     "metadata": {
      "needs_background": "light"
     },
     "output_type": "display_data"
    }
   ],
   "source": [
    "# Shape is [rows, cols], and we only need the columns to define the input\n",
    "in_0 = keras.layers.Input(shape=X_train.shape[1:])\n",
    "h1 = keras.layers.Dense(30, activation=\"relu\")(in_0)\n",
    "h2 = keras.layers.Dense(30, activation=\"relu\")(h1)\n",
    "concat = keras.layers.Concatenate()([in_0, h2])\n",
    "output = keras.layers.Dense(1)(concat)\n",
    "model = keras.Model(inputs=[in_0], outputs=[output])\n",
    "\n",
    "model.compile(optimizer=\"sgd\", loss=\"mean_squared_error\")\n",
    "history = model.fit(X_train, y_train, epochs=20,\n",
    "                   validation_data=(X_valid, y_valid),\n",
    "                   callbacks=[keras.callbacks.TensorBoard(get_run_logidr())])\n",
    "draw_history(history)"
   ]
  },
  {
   "cell_type": "markdown",
   "metadata": {},
   "source": [
    "Using the functional API a model can have multiple inputs and outputs. For instance, we may use multiple inputs when we want to send a certain range of the input throught the dense path, while sending the rest directly to the output. Rages can overlap. The following code defines such network:"
   ]
  },
  {
   "cell_type": "code",
   "execution_count": 11,
   "metadata": {},
   "outputs": [
    {
     "name": "stdout",
     "output_type": "stream",
     "text": [
      "Train on 11610 samples, validate on 3870 samples\n",
      "Epoch 1/20\n",
      "11610/11610 [==============================] - 2s 143us/sample - loss: 2.1526 - val_loss: 0.9918\n",
      "Epoch 2/20\n",
      "11610/11610 [==============================] - 1s 90us/sample - loss: 0.8929 - val_loss: 0.7959\n",
      "Epoch 3/20\n",
      "11610/11610 [==============================] - 1s 115us/sample - loss: 0.7642 - val_loss: 0.7169\n",
      "Epoch 4/20\n",
      "11610/11610 [==============================] - 1s 90us/sample - loss: 0.7005 - val_loss: 0.6715\n",
      "Epoch 5/20\n",
      "11610/11610 [==============================] - 1s 99us/sample - loss: 0.6607 - val_loss: 0.6415\n",
      "Epoch 6/20\n",
      "11610/11610 [==============================] - 2s 132us/sample - loss: 0.6306 - val_loss: 0.6163\n",
      "Epoch 7/20\n",
      "11610/11610 [==============================] - 1s 117us/sample - loss: 0.6058 - val_loss: 0.5936\n",
      "Epoch 8/20\n",
      "11610/11610 [==============================] - 1s 115us/sample - loss: 0.5855 - val_loss: 0.5748\n",
      "Epoch 9/20\n",
      "11610/11610 [==============================] - 1s 117us/sample - loss: 0.5695 - val_loss: 0.5605\n",
      "Epoch 10/20\n",
      "11610/11610 [==============================] - 1s 110us/sample - loss: 0.5548 - val_loss: 0.5482\n",
      "Epoch 11/20\n",
      "11610/11610 [==============================] - 1s 115us/sample - loss: 0.5413 - val_loss: 0.5375\n",
      "Epoch 12/20\n",
      "11610/11610 [==============================] - 2s 166us/sample - loss: 0.5314 - val_loss: 0.5286\n",
      "Epoch 13/20\n",
      "11610/11610 [==============================] - 2s 181us/sample - loss: 0.5213 - val_loss: 0.5205\n",
      "Epoch 14/20\n",
      "11610/11610 [==============================] - 1s 122us/sample - loss: 0.5144 - val_loss: 0.5139\n",
      "Epoch 15/20\n",
      "11610/11610 [==============================] - 2s 153us/sample - loss: 0.5078 - val_loss: 0.5084\n",
      "Epoch 16/20\n",
      "11610/11610 [==============================] - 2s 196us/sample - loss: 0.5028 - val_loss: 0.5051\n",
      "Epoch 17/20\n",
      "11610/11610 [==============================] - 1s 122us/sample - loss: 0.4978 - val_loss: 0.5033\n",
      "Epoch 18/20\n",
      "11610/11610 [==============================] - 1s 103us/sample - loss: 0.4922 - val_loss: 0.4954\n",
      "Epoch 19/20\n",
      "11610/11610 [==============================] - 1s 117us/sample - loss: 0.4902 - val_loss: 0.4928\n",
      "Epoch 20/20\n",
      "11610/11610 [==============================] - 1s 104us/sample - loss: 0.4864 - val_loss: 0.4899\n",
      "5160/5160 [==============================] - 0s 52us/sample - loss: 0.4769\n"
     ]
    },
    {
     "data": {
      "image/png": "[encoded data removed]",
      "text/plain": [
       "<Figure size 720x360 with 1 Axes>"
      ]
     },
     "metadata": {
      "needs_background": "light"
     },
     "output_type": "display_data"
    }
   ],
   "source": [
    "input_A = keras.layers.Input(shape=[5], name=\"wide_input\")\n",
    "input_B = keras.layers.Input(shape=[6], name=\"deep_input\")\n",
    "\n",
    "hidden1 = keras.layers.Dense(30, activation=\"relu\")(input_B)\n",
    "hidden2 = keras.layers.Dense(30, activation=\"relu\")(hidden1)\n",
    "concat = keras.layers.concatenate([input_A, hidden2])\n",
    "output = keras.layers.Dense(1, name=\"output\")(concat)\n",
    "model = keras.Model(inputs=[input_A, input_B], outputs=[output])\n",
    "\n",
    "# in order to call this model, we have to pass multiple inputs\n",
    "model.compile(loss=\"mse\", optimizer=keras.optimizers.SGD(lr=1e-3))\n",
    "\n",
    "X_train_A, X_train_B = X_train[:, :5], X_train[:, 2:]\n",
    "X_valid_A, X_valid_B = X_valid[:, :5], X_valid[:, 2:]\n",
    "X_test_A, X_test_B = X_test[:, :5], X_test[:, 2:]\n",
    "X_new_A, X_new_B = X_test_A[:3], X_test_B[:3]\n",
    "\n",
    "history = model.fit((X_train_A, X_train_B), y_train, epochs=20,\n",
    "                    validation_data=((X_valid_A, X_valid_B), y_valid),\n",
    "                    callbacks=[keras.callbacks.TensorBoard(get_run_logidr())])\n",
    "mse_test = model.evaluate((X_test_A, X_test_B), y_test)\n",
    "y_pred = model.predict((X_new_A, X_new_B))\n",
    "draw_history(history)"
   ]
  },
  {
   "cell_type": "markdown",
   "metadata": {},
   "source": [
    "**Multiple outputs are also possible**. One of the multiple uses of multiple outputs is **regularization**; we may want to add auxiliary outputs in the architecture to ensure that parts of the network learn something useful, not only the _final_ output. \n",
    "\n",
    "Each output needs it own loss function, so we must pass a list of loss functions when compiling the network. To train the network we need to pass labels for each output as well. When we evaluate we obtain the total loss and the individual losses. A network with multiple outputs will predict multiple values.\n",
    "\n",
    "# Callbacks\n",
    "\n",
    "The ```fit()``` method accept **callbacks** that will be called at different times, for example at the end of each epoch, or at the end of the training. Callbacks can be used to saved model checkpoints:"
   ]
  },
  {
   "cell_type": "code",
   "execution_count": 12,
   "metadata": {},
   "outputs": [
    {
     "name": "stdout",
     "output_type": "stream",
     "text": [
      "Train on 55000 samples, validate on 5000 samples\n",
      "Epoch 1/10\n",
      "55000/55000 [==============================] - 24s 433us/sample - loss: 1.4761 - accuracy: 0.5914 - val_loss: 1.0036 - val_accuracy: 0.7092loss: 1.4816 - accura\n",
      "Epoch 2/10\n",
      "55000/55000 [==============================] - 18s 319us/sample - loss: 0.8777 - accuracy: 0.7312 - val_loss: 0.7655 - val_accuracy: 0.7602\n",
      "Epoch 3/10\n",
      "55000/55000 [==============================] - 30s 538us/sample - loss: 0.7301 - accuracy: 0.7688 - val_loss: 0.6712 - val_accuracy: 0.7884\n",
      "Epoch 4/10\n",
      "55000/55000 [==============================] - 19s 345us/sample - loss: 0.6574 - accuracy: 0.7905 - val_loss: 0.6165 - val_accuracy: 0.8030\n",
      "Epoch 5/10\n",
      "55000/55000 [==============================] - 18s 323us/sample - loss: 0.6108 - accuracy: 0.8026 - val_loss: 0.5768 - val_accuracy: 0.8190\n",
      "Epoch 6/10\n",
      "55000/55000 [==============================] - 18s 334us/sample - loss: 0.5775 - accuracy: 0.8114 - val_loss: 0.5496 - val_accuracy: 0.8236\n",
      "Epoch 7/10\n",
      "55000/55000 [==============================] - 21s 383us/sample - loss: 0.5519 - accuracy: 0.8173 - val_loss: 0.5269 - val_accuracy: 0.8266\n",
      "Epoch 8/10\n",
      "55000/55000 [==============================] - 20s 369us/sample - loss: 0.5323 - accuracy: 0.8219 - val_loss: 0.5089 - val_accuracy: 0.8348\n",
      "Epoch 9/10\n",
      "55000/55000 [==============================] - 19s 346us/sample - loss: 0.5163 - accuracy: 0.8259 - val_loss: 0.5010 - val_accuracy: 0.8344\n",
      "Epoch 10/10\n",
      "55000/55000 [==============================] - 18s 334us/sample - loss: 0.5034 - accuracy: 0.8288 - val_loss: 0.4908 - val_accuracy: 0.8334\n"
     ]
    }
   ],
   "source": [
    "# Only train/test datasets\n",
    "(X_train_full, y_train_full), (X_test, y_test) = fashion_mnist.load_data()\n",
    "# Lets split train_full into train and validation. Use 5000 samples for validation \n",
    "# and 55000 for training. We also scale pixel greyscale values to [0,1]\n",
    "X_valid, X_train = X_train_full[:5000] / 255.0, X_train_full[5000:] / 255.0\n",
    "y_valid, y_train = y_train_full[:5000], y_train_full[5000:]\n",
    "\n",
    "model = keras.Sequential()\n",
    "model.add(keras.layers.Flatten(input_shape=[28,28]))\n",
    "model.add(keras.layers.Dense(300, activation=\"relu\"))\n",
    "model.add(keras.layers.Dense(100, activation=\"relu\"))\n",
    "model.add(keras.layers.Dense(10, activation=\"softmax\"))\n",
    "\n",
    "# Now let's define the learning parameters\n",
    "model.compile(loss=\"sparse_categorical_crossentropy\",\n",
    "             optimizer=keras.optimizers.SGD(learning_rate=0.001),\n",
    "             metrics=[\"accuracy\"])\n",
    "\n",
    "checkpoint_cb = keras.callbacks.ModelCheckpoint(\"model_checkpoint.h5\",\n",
    "                                               save_best_only=True)\n",
    "history = model.fit(X_train, y_train, epochs=10,\n",
    "                   validation_data=(X_valid, y_valid),\n",
    "                   callbacks=[checkpoint_cb, keras.callbacks.TensorBoard(get_run_logidr())])"
   ]
  },
  {
   "cell_type": "markdown",
   "metadata": {},
   "source": [
    "Keras provides many callbacks, and we can create our own ones by implementing ```keras.callbacks.Callback```. The base class defines many lifecycle event handlers that we can override:"
   ]
  },
  {
   "cell_type": "code",
   "execution_count": 13,
   "metadata": {},
   "outputs": [],
   "source": [
    "class PrintUsefullDataCallback(keras.callbacks.Callback):\n",
    "    def on_epoch_end(self, epoch, logs):\n",
    "        print(\"\\nval/train: {:.2f}\".format(logs[\"val_loss\"] / logs[\"loss\"]))"
   ]
  },
  {
   "cell_type": "markdown",
   "metadata": {},
   "source": [
    "# Tensorboard\n",
    "\n",
    "In SageMaker if tensorboard is started as:\n",
    "```\n",
    "/home/ec2-user/anaconda3/envs/tensorflow_p27/bin/tensorboard --port=6006 --logdir ./ml_logs/\n",
    "```\n",
    "\n",
    "You can connect to it using the following URL (with your own notebook prefix):\n",
    "\n",
    "```\n",
    "https://mlclassic-benchmark.notebook.us-west-2.sagemaker.aws/proxy/6006/\n",
    "```\n",
    "\n",
    "# Hyperparameter Optimization\n",
    "\n",
    "Checkout this [paper](https://arxiv.org/abs/1803.09820) for a good survery and analysis of HPO for neural networks.\n",
    "\n",
    "# Other learning resources\n",
    "\n",
    "Play and visulize MLPs using [https://playground.tensorflow.org](https://playground.tensorflow.org). This is an incredibly usefuly tool that let us visualize the behavior on different MLP architectures and hyperparameters."
   ]
  }
 ],
 "metadata": {
  "kernelspec": {
   "display_name": "Python 3",
   "language": "python",
   "name": "python3"
  },
  "language_info": {
   "codemirror_mode": {
    "name": "ipython",
    "version": 3
   },
   "file_extension": ".py",
   "mimetype": "text/x-python",
   "name": "python",
   "nbconvert_exporter": "python",
   "pygments_lexer": "ipython3",
   "version": "3.6.8"
  }
 },
 "nbformat": 4,
 "nbformat_minor": 2
}
