{
 "cells": [
  {
   "cell_type": "code",
   "execution_count": 18,
   "metadata": {},
   "outputs": [
    {
     "name": "stdout",
     "output_type": "stream",
     "text": [
      "\u001b[33mYou are using pip version 10.0.1, however version 19.3.1 is available.\r\n",
      "You should consider upgrading via the 'pip install --upgrade pip' command.\u001b[0m\r\n"
     ]
    }
   ],
   "source": [
    "! python3 -m pip install -U tensorflow==2.0.0a0 > /dev/null"
   ]
  },
  {
   "cell_type": "markdown",
   "metadata": {},
   "source": [
    "# Perceptron using SKLearn\n",
    "\n",
    "Single layer perceptron is a linear classifier. I can't solve the XOR problem. Stacking multiple single layer Perceptrons can solve the XOR problem"
   ]
  },
  {
   "cell_type": "code",
   "execution_count": 19,
   "metadata": {},
   "outputs": [
    {
     "name": "stdout",
     "output_type": "stream",
     "text": [
      "150\n",
      "150\n"
     ]
    },
    {
     "name": "stderr",
     "output_type": "stream",
     "text": [
      "/home/ec2-user/anaconda3/envs/mxnet_p36/lib/python3.6/site-packages/sklearn/linear_model/stochastic_gradient.py:166: FutureWarning: max_iter and tol parameters have been added in Perceptron in 0.19. If both are left unset, they default to max_iter=5 and tol=None. If tol is not None, max_iter defaults to max_iter=1000. From 0.21, default max_iter will be 1000, and default tol will be 1e-3.\n",
      "  FutureWarning)\n"
     ]
    }
   ],
   "source": [
    "import numpy as np\n",
    "from sklearn.datasets import load_iris\n",
    "from sklearn.linear_model import Perceptron\n",
    "\n",
    "iris = load_iris()\n",
    "X = iris.data[:, (2, 3)]\n",
    "y = (iris.target == 0).astype(np.int) # 0 is setosa\n",
    "\n",
    "perceptron_classifier = Perceptron()\n",
    "perceptron_classifier.fit(X, y)\n",
    "y_pred = perceptron_classifier.predict(X)\n",
    "\n",
    "# How many predictions are correct?\n",
    "print((y == y_pred).sum())\n",
    "# How many datapoints are in the dataset\n",
    "print(len(y))"
   ]
  },
  {
   "cell_type": "markdown",
   "metadata": {},
   "source": [
    "# Multilayer Perceptron\n",
    "\n",
    "\n",
    "MLPs became computatinally feasable with the introduction of the [backpropagatino](https://scholar.google.com/scholar?q=Learning+Internal+Representations+by+Error+Propagation+author%3Arumelhart) algorithm, which is still in use. Using backpropagation the gradients of the error with respect to each of the parameters of the MLP are calculated, and then gradienct descent can be applied to learn the parameters iteratively. See [this article](https://towardsdatascience.com/batch-mini-batch-stochastic-gradient-descent-7a62ecba642a) for a simple explanation of Gradient Descent, and Stochastic Gradient Descent.\n",
    "\n",
    "## Regression\n",
    "\n",
    "In general, when building MLPs for regression, we don't use activation functions in the output layer. The loss function to use during training is typically the **mean squared error**, but if you have a lot of outliers in the training set, you may prefer to use the **mean absolute error instead**. \n",
    "\n",
    "## Classification\n",
    "\n",
    "For binary classification or multiple binary labels we use a single output neuron with Logistic activation function. For Multiclass classification (single prediction of mutually exclusive classes), we generally use softmax. In all cases cross entropy is used as the loss function.\n",
    "\n",
    "# Implementing MLPs using Keras\n",
    "\n",
    "Keras is a high-level Deep Learning API that allows you to easily build, train, evaluate, and execute all sorts of neural networks. Checkout [https://keras.io](https://keras.io) for more information. Let's start with an image classification example:"
   ]
  },
  {
   "cell_type": "code",
   "execution_count": 20,
   "metadata": {},
   "outputs": [
    {
     "data": {
      "text/plain": [
       "'2.0.0-alpha0'"
      ]
     },
     "execution_count": 20,
     "metadata": {},
     "output_type": "execute_result"
    }
   ],
   "source": [
    "import tensorflow as tf\n",
    "from tensorflow import keras\n",
    "tf.__version__"
   ]
  },
  {
   "cell_type": "code",
   "execution_count": 21,
   "metadata": {},
   "outputs": [],
   "source": [
    "# let's add some code to have each job emit logs in a particular location\n",
    "import os\n",
    "root_logdir = os.path.join(os.curdir, \"ml_logs\")\n",
    "\n",
    "def get_run_logidr():\n",
    "    import time\n",
    "    run_id = time.strftime(\"run_%Y_%m_%d-%H_%M_%S\")\n",
    "    return os.path.join(root_logdir, run_id)"
   ]
  },
  {
   "cell_type": "code",
   "execution_count": 22,
   "metadata": {},
   "outputs": [
    {
     "name": "stdout",
     "output_type": "stream",
     "text": [
      "Full train dataset shape (60000, 28, 28)\n",
      "Train dataset dtype uint8\n"
     ]
    }
   ],
   "source": [
    "# This dataset contains greyscale images 28 x 28 of clothing items\n",
    "fashion_mnist = keras.datasets.fashion_mnist\n",
    "# Only train/test datasets\n",
    "(X_train_full, y_train_full), (X_test, y_test) = fashion_mnist.load_data()\n",
    "\n",
    "print(\"Full train dataset shape\", X_train_full.shape)\n",
    "print(\"Train dataset dtype\", X_train_full.dtype)\n",
    "\n",
    "# Lets split train_full into train and validation. Use 5000 samples for validation \n",
    "# and 55000 for training. We also scale pixel greyscale values to [0,1]\n",
    "X_valid, X_train = X_train_full[:5000] / 255.0, X_train_full[5000:] / 255.0\n",
    "y_valid, y_train = y_train_full[:5000], y_train_full[5000:]\n",
    "\n",
    "# Define the name of each of the possible target values\n",
    "class_names = [\"T-shirt/top\", \"Trouser\", \"Pullover\", \"Dress\", \"Coat\",\n",
    "               \"Sandal\", \"Shirt\", \"Sneaker\", \"Bag\", \"Ankle boot\"]"
   ]
  },
  {
   "cell_type": "code",
   "execution_count": 23,
   "metadata": {},
   "outputs": [
    {
     "name": "stdout",
     "output_type": "stream",
     "text": [
      "Model: \"sequential_4\"\n",
      "_________________________________________________________________\n",
      "Layer (type)                 Output Shape              Param #   \n",
      "=================================================================\n",
      "flatten_3 (Flatten)          (None, 784)               0         \n",
      "_________________________________________________________________\n",
      "dense_16 (Dense)             (None, 300)               235500    \n",
      "_________________________________________________________________\n",
      "dense_17 (Dense)             (None, 100)               30100     \n",
      "_________________________________________________________________\n",
      "dense_18 (Dense)             (None, 10)                1010      \n",
      "=================================================================\n",
      "Total params: 266,610\n",
      "Trainable params: 266,610\n",
      "Non-trainable params: 0\n",
      "_________________________________________________________________\n",
      "dense_16\n",
      "[[ 0.02954233  0.00875533 -0.07251536 ...  0.02019174  0.00941438\n",
      "   0.04226395]\n",
      " [ 0.06194845  0.01317564 -0.04560491 ...  0.07142855 -0.03805353\n",
      "   0.06074245]\n",
      " [ 0.02188134  0.00097659  0.02470022 ...  0.01895747 -0.06135573\n",
      "  -0.03097673]\n",
      " ...\n",
      " [-0.0326465  -0.02472212  0.01764131 ... -0.03884467  0.06273286\n",
      "   0.02145895]\n",
      " [-0.00454002  0.035849   -0.03591701 ...  0.00777887 -0.04536889\n",
      "  -0.05333922]\n",
      " [ 0.03248847 -0.05534329 -0.0559801  ... -0.06800147 -0.04138372\n",
      "  -0.01691684]] [0. 0. 0. 0. 0. 0. 0. 0. 0. 0. 0. 0. 0. 0. 0. 0. 0. 0. 0. 0. 0. 0. 0. 0.\n",
      " 0. 0. 0. 0. 0. 0. 0. 0. 0. 0. 0. 0. 0. 0. 0. 0. 0. 0. 0. 0. 0. 0. 0. 0.\n",
      " 0. 0. 0. 0. 0. 0. 0. 0. 0. 0. 0. 0. 0. 0. 0. 0. 0. 0. 0. 0. 0. 0. 0. 0.\n",
      " 0. 0. 0. 0. 0. 0. 0. 0. 0. 0. 0. 0. 0. 0. 0. 0. 0. 0. 0. 0. 0. 0. 0. 0.\n",
      " 0. 0. 0. 0. 0. 0. 0. 0. 0. 0. 0. 0. 0. 0. 0. 0. 0. 0. 0. 0. 0. 0. 0. 0.\n",
      " 0. 0. 0. 0. 0. 0. 0. 0. 0. 0. 0. 0. 0. 0. 0. 0. 0. 0. 0. 0. 0. 0. 0. 0.\n",
      " 0. 0. 0. 0. 0. 0. 0. 0. 0. 0. 0. 0. 0. 0. 0. 0. 0. 0. 0. 0. 0. 0. 0. 0.\n",
      " 0. 0. 0. 0. 0. 0. 0. 0. 0. 0. 0. 0. 0. 0. 0. 0. 0. 0. 0. 0. 0. 0. 0. 0.\n",
      " 0. 0. 0. 0. 0. 0. 0. 0. 0. 0. 0. 0. 0. 0. 0. 0. 0. 0. 0. 0. 0. 0. 0. 0.\n",
      " 0. 0. 0. 0. 0. 0. 0. 0. 0. 0. 0. 0. 0. 0. 0. 0. 0. 0. 0. 0. 0. 0. 0. 0.\n",
      " 0. 0. 0. 0. 0. 0. 0. 0. 0. 0. 0. 0. 0. 0. 0. 0. 0. 0. 0. 0. 0. 0. 0. 0.\n",
      " 0. 0. 0. 0. 0. 0. 0. 0. 0. 0. 0. 0. 0. 0. 0. 0. 0. 0. 0. 0. 0. 0. 0. 0.\n",
      " 0. 0. 0. 0. 0. 0. 0. 0. 0. 0. 0. 0.]\n",
      "Train on 55000 samples, validate on 5000 samples\n",
      "Epoch 1/30\n",
      "55000/55000 [==============================] - 3s 59us/sample - loss: 1.5627 - accuracy: 0.5585 - val_loss: 1.1252 - val_accuracy: 0.6798\n",
      "Epoch 2/30\n",
      "55000/55000 [==============================] - 3s 55us/sample - loss: 0.9861 - accuracy: 0.6958 - val_loss: 0.8659 - val_accuracy: 0.7282\n",
      "Epoch 3/30\n",
      "55000/55000 [==============================] - 3s 56us/sample - loss: 0.8193 - accuracy: 0.7340 - val_loss: 0.7560 - val_accuracy: 0.7622\n",
      "Epoch 4/30\n",
      "55000/55000 [==============================] - 3s 55us/sample - loss: 0.7355 - accuracy: 0.7596 - val_loss: 0.6914 - val_accuracy: 0.7798\n",
      "Epoch 5/30\n",
      "55000/55000 [==============================] - 3s 55us/sample - loss: 0.6819 - accuracy: 0.7752 - val_loss: 0.6477 - val_accuracy: 0.7950\n",
      "Epoch 6/30\n",
      "55000/55000 [==============================] - 3s 56us/sample - loss: 0.6432 - accuracy: 0.7887 - val_loss: 0.6168 - val_accuracy: 0.8018\n",
      "Epoch 7/30\n",
      "55000/55000 [==============================] - 3s 56us/sample - loss: 0.6136 - accuracy: 0.7989 - val_loss: 0.5895 - val_accuracy: 0.8084\n",
      "Epoch 8/30\n",
      "55000/55000 [==============================] - 3s 55us/sample - loss: 0.5905 - accuracy: 0.8064 - val_loss: 0.5693 - val_accuracy: 0.8182\n",
      "Epoch 9/30\n",
      "55000/55000 [==============================] - 3s 54us/sample - loss: 0.5716 - accuracy: 0.8106 - val_loss: 0.5545 - val_accuracy: 0.8206\n",
      "Epoch 10/30\n",
      "55000/55000 [==============================] - 3s 56us/sample - loss: 0.5556 - accuracy: 0.8160 - val_loss: 0.5411 - val_accuracy: 0.8244\n",
      "Epoch 11/30\n",
      "55000/55000 [==============================] - 3s 55us/sample - loss: 0.5423 - accuracy: 0.8191 - val_loss: 0.5276 - val_accuracy: 0.8274\n",
      "Epoch 12/30\n",
      "55000/55000 [==============================] - 3s 55us/sample - loss: 0.5308 - accuracy: 0.8224 - val_loss: 0.5168 - val_accuracy: 0.8272\n",
      "Epoch 13/30\n",
      "55000/55000 [==============================] - 3s 55us/sample - loss: 0.5205 - accuracy: 0.8262 - val_loss: 0.5080 - val_accuracy: 0.8336\n",
      "Epoch 14/30\n",
      "55000/55000 [==============================] - 3s 55us/sample - loss: 0.5117 - accuracy: 0.8280 - val_loss: 0.4997 - val_accuracy: 0.8350\n",
      "Epoch 15/30\n",
      "55000/55000 [==============================] - 3s 55us/sample - loss: 0.5037 - accuracy: 0.8305 - val_loss: 0.4923 - val_accuracy: 0.8378\n",
      "Epoch 16/30\n",
      "55000/55000 [==============================] - 3s 55us/sample - loss: 0.4966 - accuracy: 0.8321 - val_loss: 0.4875 - val_accuracy: 0.8382\n",
      "Epoch 17/30\n",
      "55000/55000 [==============================] - 3s 56us/sample - loss: 0.4899 - accuracy: 0.8345 - val_loss: 0.4806 - val_accuracy: 0.8374\n",
      "Epoch 18/30\n",
      "55000/55000 [==============================] - 3s 55us/sample - loss: 0.4839 - accuracy: 0.8354 - val_loss: 0.4752 - val_accuracy: 0.8416\n",
      "Epoch 19/30\n",
      "55000/55000 [==============================] - 3s 55us/sample - loss: 0.4784 - accuracy: 0.8370 - val_loss: 0.4707 - val_accuracy: 0.8436\n",
      "Epoch 20/30\n",
      "55000/55000 [==============================] - 3s 55us/sample - loss: 0.4733 - accuracy: 0.8379 - val_loss: 0.4691 - val_accuracy: 0.8446\n",
      "Epoch 21/30\n",
      "55000/55000 [==============================] - 3s 55us/sample - loss: 0.4688 - accuracy: 0.8397 - val_loss: 0.4631 - val_accuracy: 0.8444\n",
      "Epoch 22/30\n",
      "55000/55000 [==============================] - 3s 55us/sample - loss: 0.4645 - accuracy: 0.8409 - val_loss: 0.4568 - val_accuracy: 0.8468\n",
      "Epoch 23/30\n",
      "55000/55000 [==============================] - 3s 55us/sample - loss: 0.4599 - accuracy: 0.8418 - val_loss: 0.4527 - val_accuracy: 0.8488\n",
      "Epoch 24/30\n",
      "55000/55000 [==============================] - 3s 55us/sample - loss: 0.4560 - accuracy: 0.8431 - val_loss: 0.4513 - val_accuracy: 0.8474\n",
      "Epoch 25/30\n",
      "55000/55000 [==============================] - 3s 55us/sample - loss: 0.4525 - accuracy: 0.8438 - val_loss: 0.4474 - val_accuracy: 0.8510\n",
      "Epoch 26/30\n",
      "55000/55000 [==============================] - 3s 54us/sample - loss: 0.4490 - accuracy: 0.8444 - val_loss: 0.4437 - val_accuracy: 0.8534\n",
      "Epoch 27/30\n",
      "55000/55000 [==============================] - 3s 55us/sample - loss: 0.4459 - accuracy: 0.8456 - val_loss: 0.4398 - val_accuracy: 0.8534\n",
      "Epoch 28/30\n",
      "55000/55000 [==============================] - 3s 61us/sample - loss: 0.4422 - accuracy: 0.8468 - val_loss: 0.4469 - val_accuracy: 0.8500\n",
      "Epoch 29/30\n",
      "55000/55000 [==============================] - 3s 61us/sample - loss: 0.4395 - accuracy: 0.8482 - val_loss: 0.4367 - val_accuracy: 0.8550\n",
      "Epoch 30/30\n",
      "55000/55000 [==============================] - 3s 56us/sample - loss: 0.4366 - accuracy: 0.8484 - val_loss: 0.4364 - val_accuracy: 0.8518\n"
     ]
    }
   ],
   "source": [
    "model = keras.Sequential()\n",
    "model.add(keras.layers.Flatten(input_shape=[28,28]))\n",
    "model.add(keras.layers.Dense(300, activation=\"relu\"))\n",
    "model.add(keras.layers.Dense(100, activation=\"relu\"))\n",
    "model.add(keras.layers.Dense(10, activation=\"softmax\"))\n",
    "\n",
    "# Get a summary of the network\n",
    "model.summary()\n",
    "# Access an individual layer\n",
    "input_layer = model.layers[1]\n",
    "print(input_layer.name)\n",
    "\n",
    "# Get layer parameters. For Dense layers this include weights and bias\n",
    "w, b = input_layer.get_weights()\n",
    "print(w, b)\n",
    "\n",
    "# Now let's define the learning parameters\n",
    "model.compile(loss=\"sparse_categorical_crossentropy\",\n",
    "             optimizer=keras.optimizers.SGD(learning_rate=0.001),\n",
    "             metrics=[\"accuracy\"])\n",
    "\n",
    "# And train\n",
    "history = model.fit(X_train, y_train, batch_size=50,\n",
    "                    epochs=30, \n",
    "                    validation_data=(X_valid, y_valid),\n",
    "                    callbacks=[keras.callbacks.TensorBoard(get_run_logidr())])\n",
    "\n",
    "# Finally save the model\n",
    "model.save(\"dense_classification_mlp.h5\")"
   ]
  },
  {
   "cell_type": "code",
   "execution_count": 24,
   "metadata": {},
   "outputs": [
    {
     "data": {
      "image/png": "[encoded data removed]",
      "text/plain": [
       "<Figure size 720x360 with 1 Axes>"
      ]
     },
     "metadata": {},
     "output_type": "display_data"
    }
   ],
   "source": [
    "# Let's plot the history\n",
    "import pandas as pd\n",
    "import matplotlib.pyplot as plt\n",
    "\n",
    "def draw_history(history):\n",
    "    pd.DataFrame(history.history).plot(figsize=(10, 5))\n",
    "    plt.grid(True)\n",
    "    plt.gca().set_ylim(0, 1)\n",
    "    plt.show()\n",
    "    \n",
    "draw_history(history)"
   ]
  },
  {
   "cell_type": "code",
   "execution_count": 25,
   "metadata": {},
   "outputs": [
    {
     "name": "stdout",
     "output_type": "stream",
     "text": [
      "10000/10000 [==============================] - 0s 42us/sample - loss: 77.3760 - accuracy: 0.8028\n",
      "[[0. 0. 0. 0. 0. 0. 0. 0. 0. 1.]\n",
      " [0. 0. 1. 0. 0. 0. 0. 0. 0. 0.]\n",
      " [0. 1. 0. 0. 0. 0. 0. 0. 0. 0.]\n",
      " [0. 1. 0. 0. 0. 0. 0. 0. 0. 0.]\n",
      " [0. 0. 0. 0. 0. 0. 1. 0. 0. 0.]\n",
      " [0. 1. 0. 0. 0. 0. 0. 0. 0. 0.]\n",
      " [0. 0. 0. 0. 1. 0. 0. 0. 0. 0.]\n",
      " [0. 0. 0. 0. 0. 0. 1. 0. 0. 0.]\n",
      " [0. 0. 0. 0. 0. 0. 0. 1. 0. 0.]\n",
      " [0. 0. 0. 0. 0. 0. 0. 1. 0. 0.]]\n"
     ]
    },
    {
     "data": {
      "text/plain": [
       "array(['Ankle boot', 'Pullover', 'Trouser', 'Trouser', 'Shirt', 'Trouser',\n",
       "       'Coat', 'Shirt', 'Sneaker', 'Sneaker'], dtype='<U11')"
      ]
     },
     "execution_count": 25,
     "metadata": {},
     "output_type": "execute_result"
    }
   ],
   "source": [
    "# Let's see how the model perform on the test dataset\n",
    "model.evaluate(X_test, y_test)\n",
    "\n",
    "# We can finally use the model to obtain predictinos\n",
    "y_proba = model.predict(X_test[:10])\n",
    "print(y_proba.round(2))\n",
    "\n",
    "# We can ask Keras to retrieve the highest probability class for us\n",
    "y_pred = model.predict_classes(X_test[:10])\n",
    "np.array(class_names)[y_pred]"
   ]
  },
  {
   "cell_type": "markdown",
   "metadata": {},
   "source": [
    "Let's build a Regression example:"
   ]
  },
  {
   "cell_type": "code",
   "execution_count": 26,
   "metadata": {},
   "outputs": [
    {
     "name": "stdout",
     "output_type": "stream",
     "text": [
      "Train on 11610 samples, validate on 3870 samples\n",
      "Epoch 1/20\n",
      "11610/11610 [==============================] - 1s 48us/sample - loss: 1.7294 - val_loss: 0.9951\n",
      "Epoch 2/20\n",
      "11610/11610 [==============================] - 0s 35us/sample - loss: 0.8735 - val_loss: 0.8058\n",
      "Epoch 3/20\n",
      "11610/11610 [==============================] - 0s 35us/sample - loss: 0.7690 - val_loss: 0.7388\n",
      "Epoch 4/20\n",
      "11610/11610 [==============================] - 0s 36us/sample - loss: 0.7180 - val_loss: 0.6945\n",
      "Epoch 5/20\n",
      "11610/11610 [==============================] - 0s 37us/sample - loss: 0.6790 - val_loss: 0.6577\n",
      "Epoch 6/20\n",
      "11610/11610 [==============================] - 0s 37us/sample - loss: 0.6478 - val_loss: 0.6283\n",
      "Epoch 7/20\n",
      "11610/11610 [==============================] - 0s 38us/sample - loss: 0.6199 - val_loss: 0.6037\n",
      "Epoch 8/20\n",
      "11610/11610 [==============================] - 0s 37us/sample - loss: 0.5968 - val_loss: 0.5816\n",
      "Epoch 9/20\n",
      "11610/11610 [==============================] - 0s 37us/sample - loss: 0.5769 - val_loss: 0.5632\n",
      "Epoch 10/20\n",
      "11610/11610 [==============================] - 0s 37us/sample - loss: 0.5596 - val_loss: 0.5477\n",
      "Epoch 11/20\n",
      "11610/11610 [==============================] - 0s 37us/sample - loss: 0.5449 - val_loss: 0.5346\n",
      "Epoch 12/20\n",
      "11610/11610 [==============================] - 0s 37us/sample - loss: 0.5325 - val_loss: 0.5244\n",
      "Epoch 13/20\n",
      "11610/11610 [==============================] - 0s 37us/sample - loss: 0.5230 - val_loss: 0.5141\n",
      "Epoch 14/20\n",
      "11610/11610 [==============================] - 0s 37us/sample - loss: 0.5142 - val_loss: 0.5071\n",
      "Epoch 15/20\n",
      "11610/11610 [==============================] - 0s 37us/sample - loss: 0.5072 - val_loss: 0.5008\n",
      "Epoch 16/20\n",
      "11610/11610 [==============================] - 0s 37us/sample - loss: 0.5010 - val_loss: 0.4951\n",
      "Epoch 17/20\n",
      "11610/11610 [==============================] - 0s 37us/sample - loss: 0.4961 - val_loss: 0.4909\n",
      "Epoch 18/20\n",
      "11610/11610 [==============================] - 0s 37us/sample - loss: 0.4916 - val_loss: 0.4870\n",
      "Epoch 19/20\n",
      "11610/11610 [==============================] - 0s 37us/sample - loss: 0.4877 - val_loss: 0.4842\n",
      "Epoch 20/20\n",
      "11610/11610 [==============================] - 0s 37us/sample - loss: 0.4843 - val_loss: 0.4807\n"
     ]
    }
   ],
   "source": [
    "from sklearn.datasets import fetch_california_housing\n",
    "from sklearn.model_selection import train_test_split\n",
    "from sklearn.preprocessing import StandardScaler\n",
    "\n",
    "housing = fetch_california_housing()\n",
    "\n",
    "# Partition the full dataset into train/test\n",
    "X_train_full, X_test, y_train_full, y_test = train_test_split(\n",
    "    housing.data, housing.target)\n",
    "# Partition the train dataset into train/validation\n",
    "X_train, X_valid, y_train, y_valid = train_test_split(\n",
    "    X_train_full, y_train_full)\n",
    "\n",
    "# Preprocess the training data using the StandardScaler\n",
    "scaler = StandardScaler()\n",
    "X_train = scaler.fit_transform(X_train)\n",
    "X_valid = scaler.transform(X_valid)\n",
    "X_test = scaler.transform(X_test)\n",
    "\n",
    "# define the network\n",
    "model = keras.Sequential([\n",
    "    keras.layers.Dense(30, activation=\"relu\", input_shape=X_train.shape[1:]),\n",
    "    keras.layers.Dense(1)\n",
    "])\n",
    "model.compile(optimizer=\"sgd\", loss=\"mean_squared_error\")\n",
    "history = model.fit(X_train, y_train, epochs=20,\n",
    "                   validation_data=(X_valid, y_valid),\n",
    "                   callbacks=[keras.callbacks.TensorBoard(get_run_logidr())])"
   ]
  },
  {
   "cell_type": "code",
   "execution_count": 27,
   "metadata": {},
   "outputs": [
    {
     "name": "stdout",
     "output_type": "stream",
     "text": [
      "5160/5160 [==============================] - 0s 17us/sample - loss: 0.4927\n",
      "[[1.9602997 ]\n",
      " [0.81674665]\n",
      " [2.3321047 ]]\n",
      "[0.57029974]\n",
      "[-0.47125334]\n",
      "[0.8991047]\n"
     ]
    }
   ],
   "source": [
    "# Let's evaluate the model on the test dataset, and perform som inference\n",
    "mse_test = model.evaluate(X_test, y_test)\n",
    "X_new = X_test[:3]\n",
    "y_pred = model.predict(X_new)\n",
    "print(y_pred)\n",
    "for i in range(3):\n",
    "    print(y_pred[i] - y_test[i])"
   ]
  },
  {
   "cell_type": "markdown",
   "metadata": {},
   "source": [
    "# Keras Functional API\n",
    "\n",
    "The [Keras functional API](https://keras.io/getting-started/functional-api-guide/) is the way to go for defining complex models, such as multi-output models, directed acyclic graphs, or models with shared layers.\n",
    "\n",
    "Let's define a model that feeds the inputs through a deep path, and directly to the output:"
   ]
  },
  {
   "cell_type": "code",
   "execution_count": 28,
   "metadata": {},
   "outputs": [
    {
     "name": "stdout",
     "output_type": "stream",
     "text": [
      "Train on 11610 samples, validate on 3870 samples\n",
      "Epoch 1/20\n",
      "11610/11610 [==============================] - 1s 53us/sample - loss: 1.7352 - val_loss: 0.7187\n",
      "Epoch 2/20\n",
      "11610/11610 [==============================] - 0s 39us/sample - loss: 0.6741 - val_loss: 0.6328\n",
      "Epoch 3/20\n",
      "11610/11610 [==============================] - 0s 39us/sample - loss: 0.6247 - val_loss: 0.5989\n",
      "Epoch 4/20\n",
      "11610/11610 [==============================] - 0s 39us/sample - loss: 0.5968 - val_loss: 0.5750\n",
      "Epoch 5/20\n",
      "11610/11610 [==============================] - 0s 39us/sample - loss: 0.5764 - val_loss: 0.5568\n",
      "Epoch 6/20\n",
      "11610/11610 [==============================] - 0s 39us/sample - loss: 0.5595 - val_loss: 0.5411\n",
      "Epoch 7/20\n",
      "11610/11610 [==============================] - 0s 40us/sample - loss: 0.5460 - val_loss: 0.5292\n",
      "Epoch 8/20\n",
      "11610/11610 [==============================] - 0s 39us/sample - loss: 0.5346 - val_loss: 0.5189\n",
      "Epoch 9/20\n",
      "11610/11610 [==============================] - 0s 39us/sample - loss: 0.5253 - val_loss: 0.5105\n",
      "Epoch 10/20\n",
      "11610/11610 [==============================] - 0s 39us/sample - loss: 0.5169 - val_loss: 0.5034\n",
      "Epoch 11/20\n",
      "11610/11610 [==============================] - 0s 39us/sample - loss: 0.5095 - val_loss: 0.4969\n",
      "Epoch 12/20\n",
      "11610/11610 [==============================] - 0s 40us/sample - loss: 0.5035 - val_loss: 0.4910\n",
      "Epoch 13/20\n",
      "11610/11610 [==============================] - 0s 40us/sample - loss: 0.4977 - val_loss: 0.4861\n",
      "Epoch 14/20\n",
      "11610/11610 [==============================] - 0s 39us/sample - loss: 0.4926 - val_loss: 0.4817\n",
      "Epoch 15/20\n",
      "11610/11610 [==============================] - 0s 39us/sample - loss: 0.4878 - val_loss: 0.4777\n",
      "Epoch 16/20\n",
      "11610/11610 [==============================] - 0s 39us/sample - loss: 0.4836 - val_loss: 0.4738\n",
      "Epoch 17/20\n",
      "11610/11610 [==============================] - 0s 39us/sample - loss: 0.4798 - val_loss: 0.4708\n",
      "Epoch 18/20\n",
      "11610/11610 [==============================] - 0s 39us/sample - loss: 0.4763 - val_loss: 0.4680\n",
      "Epoch 19/20\n",
      "11610/11610 [==============================] - 0s 39us/sample - loss: 0.4733 - val_loss: 0.4645\n",
      "Epoch 20/20\n",
      "11610/11610 [==============================] - 0s 39us/sample - loss: 0.4705 - val_loss: 0.4616\n"
     ]
    },
    {
     "data": {
      "image/png": "[encoded data removed]",
      "text/plain": [
       "<Figure size 720x360 with 1 Axes>"
      ]
     },
     "metadata": {},
     "output_type": "display_data"
    }
   ],
   "source": [
    "# Shape is [rows, cols], and we only need the columns to define the input\n",
    "in_0 = keras.layers.Input(shape=X_train.shape[1:])\n",
    "h1 = keras.layers.Dense(30, activation=\"relu\")(in_0)\n",
    "h2 = keras.layers.Dense(30, activation=\"relu\")(h1)\n",
    "concat = keras.layers.Concatenate()([in_0, h2])\n",
    "output = keras.layers.Dense(1)(concat)\n",
    "model = keras.Model(inputs=[in_0], outputs=[output])\n",
    "\n",
    "model.compile(optimizer=\"sgd\", loss=\"mean_squared_error\")\n",
    "history = model.fit(X_train, y_train, epochs=20,\n",
    "                   validation_data=(X_valid, y_valid),\n",
    "                   callbacks=[keras.callbacks.TensorBoard(get_run_logidr())])\n",
    "draw_history(history)"
   ]
  },
  {
   "cell_type": "markdown",
   "metadata": {},
   "source": [
    "Using the functional API a model can have multiple inputs and outputs. For instance, we may use multiple inputs when we want to send a certain range of the input throught the dense path, while sending the rest directly to the output. Rages can overlap. The following code defines such network:"
   ]
  },
  {
   "cell_type": "code",
   "execution_count": 29,
   "metadata": {},
   "outputs": [
    {
     "name": "stdout",
     "output_type": "stream",
     "text": [
      "Train on 11610 samples, validate on 3870 samples\n",
      "Epoch 1/20\n",
      "11610/11610 [==============================] - 1s 54us/sample - loss: 2.1754 - val_loss: 1.0041\n",
      "Epoch 2/20\n",
      "11610/11610 [==============================] - 0s 41us/sample - loss: 0.8552 - val_loss: 0.7621\n",
      "Epoch 3/20\n",
      "11610/11610 [==============================] - 0s 41us/sample - loss: 0.7328 - val_loss: 0.6910\n",
      "Epoch 4/20\n",
      "11610/11610 [==============================] - 0s 40us/sample - loss: 0.6802 - val_loss: 0.6477\n",
      "Epoch 5/20\n",
      "11610/11610 [==============================] - 0s 41us/sample - loss: 0.6432 - val_loss: 0.6155\n",
      "Epoch 6/20\n",
      "11610/11610 [==============================] - 0s 40us/sample - loss: 0.6138 - val_loss: 0.5876\n",
      "Epoch 7/20\n",
      "11610/11610 [==============================] - 0s 41us/sample - loss: 0.5897 - val_loss: 0.5665\n",
      "Epoch 8/20\n",
      "11610/11610 [==============================] - 0s 41us/sample - loss: 0.5692 - val_loss: 0.5480\n",
      "Epoch 9/20\n",
      "11610/11610 [==============================] - 0s 41us/sample - loss: 0.5519 - val_loss: 0.5334\n",
      "Epoch 10/20\n",
      "11610/11610 [==============================] - 0s 41us/sample - loss: 0.5389 - val_loss: 0.5218\n",
      "Epoch 11/20\n",
      "11610/11610 [==============================] - 0s 40us/sample - loss: 0.5277 - val_loss: 0.5143\n",
      "Epoch 12/20\n",
      "11610/11610 [==============================] - 0s 41us/sample - loss: 0.5192 - val_loss: 0.5058\n",
      "Epoch 13/20\n",
      "11610/11610 [==============================] - 0s 41us/sample - loss: 0.5121 - val_loss: 0.5001\n",
      "Epoch 14/20\n",
      "11610/11610 [==============================] - 0s 40us/sample - loss: 0.5061 - val_loss: 0.4954\n",
      "Epoch 15/20\n",
      "11610/11610 [==============================] - 0s 41us/sample - loss: 0.5010 - val_loss: 0.4914\n",
      "Epoch 16/20\n",
      "11610/11610 [==============================] - 0s 41us/sample - loss: 0.4965 - val_loss: 0.4877\n",
      "Epoch 17/20\n",
      "11610/11610 [==============================] - 0s 41us/sample - loss: 0.4932 - val_loss: 0.4861\n",
      "Epoch 18/20\n",
      "11610/11610 [==============================] - 0s 41us/sample - loss: 0.4891 - val_loss: 0.4834\n",
      "Epoch 19/20\n",
      "11610/11610 [==============================] - 0s 41us/sample - loss: 0.4862 - val_loss: 0.4794\n",
      "Epoch 20/20\n",
      "11610/11610 [==============================] - 0s 40us/sample - loss: 0.4829 - val_loss: 0.4763\n",
      "5160/5160 [==============================] - 0s 19us/sample - loss: 0.4768\n"
     ]
    },
    {
     "data": {
      "image/png": "[encoded data removed]",
      "text/plain": [
       "<Figure size 720x360 with 1 Axes>"
      ]
     },
     "metadata": {},
     "output_type": "display_data"
    }
   ],
   "source": [
    "input_A = keras.layers.Input(shape=[5], name=\"wide_input\")\n",
    "input_B = keras.layers.Input(shape=[6], name=\"deep_input\")\n",
    "\n",
    "hidden1 = keras.layers.Dense(30, activation=\"relu\")(input_B)\n",
    "hidden2 = keras.layers.Dense(30, activation=\"relu\")(hidden1)\n",
    "concat = keras.layers.concatenate([input_A, hidden2])\n",
    "output = keras.layers.Dense(1, name=\"output\")(concat)\n",
    "model = keras.Model(inputs=[input_A, input_B], outputs=[output])\n",
    "\n",
    "# in order to call this model, we have to pass multiple inputs\n",
    "model.compile(loss=\"mse\", optimizer=keras.optimizers.SGD(lr=1e-3))\n",
    "\n",
    "X_train_A, X_train_B = X_train[:, :5], X_train[:, 2:]\n",
    "X_valid_A, X_valid_B = X_valid[:, :5], X_valid[:, 2:]\n",
    "X_test_A, X_test_B = X_test[:, :5], X_test[:, 2:]\n",
    "X_new_A, X_new_B = X_test_A[:3], X_test_B[:3]\n",
    "\n",
    "history = model.fit((X_train_A, X_train_B), y_train, epochs=20,\n",
    "                    validation_data=((X_valid_A, X_valid_B), y_valid),\n",
    "                    callbacks=[keras.callbacks.TensorBoard(get_run_logidr())])\n",
    "mse_test = model.evaluate((X_test_A, X_test_B), y_test)\n",
    "y_pred = model.predict((X_new_A, X_new_B))\n",
    "draw_history(history)"
   ]
  },
  {
   "cell_type": "markdown",
   "metadata": {},
   "source": [
    "**Multiple outputs are also possible**. One of the multiple uses of multiple outputs is **regularization**; we may want to add auxiliary outputs in the architecture to ensure that parts of the network learn something useful, not only the _final_ output. \n",
    "\n",
    "Each output needs it own loss function, so we must pass a list of loss functions when compiling the network. To train the network we need to pass labels for each output as well. When we evaluate we obtain the total loss and the individual losses. A network with multiple outputs will predict multiple values.\n",
    "\n",
    "# Callbacks\n",
    "\n",
    "The ```fit()``` method accept **callbacks** that will be called at different times, for example at the end of each epoch, or at the end of the training. Callbacks can be used to saved model checkpoints:"
   ]
  },
  {
   "cell_type": "code",
   "execution_count": 30,
   "metadata": {},
   "outputs": [
    {
     "name": "stdout",
     "output_type": "stream",
     "text": [
      "Train on 55000 samples, validate on 5000 samples\n",
      "Epoch 1/10\n",
      "55000/55000 [==============================] - 5s 84us/sample - loss: 1.4063 - accuracy: 0.6027 - val_loss: 0.9472 - val_accuracy: 0.7186\n",
      "Epoch 2/10\n",
      "55000/55000 [==============================] - 4s 80us/sample - loss: 0.8379 - accuracy: 0.7328 - val_loss: 0.7408 - val_accuracy: 0.7664\n",
      "Epoch 3/10\n",
      "55000/55000 [==============================] - 4s 81us/sample - loss: 0.7075 - accuracy: 0.7697 - val_loss: 0.6554 - val_accuracy: 0.7890\n",
      "Epoch 4/10\n",
      "55000/55000 [==============================] - 4s 81us/sample - loss: 0.6420 - accuracy: 0.7910 - val_loss: 0.6043 - val_accuracy: 0.8034\n",
      "Epoch 5/10\n",
      "55000/55000 [==============================] - 4s 81us/sample - loss: 0.5989 - accuracy: 0.8027 - val_loss: 0.5713 - val_accuracy: 0.8158\n",
      "Epoch 6/10\n",
      "55000/55000 [==============================] - 4s 81us/sample - loss: 0.5686 - accuracy: 0.8117 - val_loss: 0.5451 - val_accuracy: 0.8258\n",
      "Epoch 7/10\n",
      "55000/55000 [==============================] - 4s 81us/sample - loss: 0.5459 - accuracy: 0.8185 - val_loss: 0.5264 - val_accuracy: 0.8330\n",
      "Epoch 8/10\n",
      "55000/55000 [==============================] - 4s 81us/sample - loss: 0.5278 - accuracy: 0.8228 - val_loss: 0.5080 - val_accuracy: 0.8358\n",
      "Epoch 9/10\n",
      "55000/55000 [==============================] - 4s 81us/sample - loss: 0.5127 - accuracy: 0.8264 - val_loss: 0.4957 - val_accuracy: 0.8390\n",
      "Epoch 10/10\n",
      "55000/55000 [==============================] - 4s 81us/sample - loss: 0.5004 - accuracy: 0.8297 - val_loss: 0.4842 - val_accuracy: 0.8414\n"
     ]
    }
   ],
   "source": [
    "# Only train/test datasets\n",
    "(X_train_full, y_train_full), (X_test, y_test) = fashion_mnist.load_data()\n",
    "# Lets split train_full into train and validation. Use 5000 samples for validation \n",
    "# and 55000 for training. We also scale pixel greyscale values to [0,1]\n",
    "X_valid, X_train = X_train_full[:5000] / 255.0, X_train_full[5000:] / 255.0\n",
    "y_valid, y_train = y_train_full[:5000], y_train_full[5000:]\n",
    "\n",
    "model = keras.Sequential()\n",
    "model.add(keras.layers.Flatten(input_shape=[28,28]))\n",
    "model.add(keras.layers.Dense(300, activation=\"relu\"))\n",
    "model.add(keras.layers.Dense(100, activation=\"relu\"))\n",
    "model.add(keras.layers.Dense(10, activation=\"softmax\"))\n",
    "\n",
    "# Now let's define the learning parameters\n",
    "model.compile(loss=\"sparse_categorical_crossentropy\",\n",
    "             optimizer=keras.optimizers.SGD(learning_rate=0.001),\n",
    "             metrics=[\"accuracy\"])\n",
    "\n",
    "checkpoint_cb = keras.callbacks.ModelCheckpoint(\"model_checkpoint.h5\",\n",
    "                                               save_best_only=True)\n",
    "history = model.fit(X_train, y_train, epochs=10,\n",
    "                   validation_data=(X_valid, y_valid),\n",
    "                   callbacks=[checkpoint_cb, keras.callbacks.TensorBoard(get_run_logidr())])"
   ]
  },
  {
   "cell_type": "markdown",
   "metadata": {},
   "source": [
    "Keras provides many callbacks, and we can create our own ones by implementing ```keras.callbacks.Callback```. The base class defines many lifecycle event handlers that we can override:"
   ]
  },
  {
   "cell_type": "code",
   "execution_count": 31,
   "metadata": {},
   "outputs": [],
   "source": [
    "class PrintUsefullDataCallback(keras.callbacks.Callback):\n",
    "    def on_epoch_end(self, epoch, logs):\n",
    "        print(\"\\nval/train: {:.2f}\".format(logs[\"val_loss\"] / logs[\"loss\"]))"
   ]
  },
  {
   "cell_type": "markdown",
   "metadata": {},
   "source": [
    "# Tensorboard\n",
    "\n",
    "In SageMaker if tensorboard is started as:\n",
    "```\n",
    "/home/ec2-user/anaconda3/envs/tensorflow_p27/bin/tensorboard --port=6006 --logdir ./ml_logs/\n",
    "```\n",
    "\n",
    "You can connect to it using the following URL (with your own notebook prefix):\n",
    "\n",
    "```\n",
    "https://mlclassic-benchmark.notebook.us-west-2.sagemaker.aws/proxy/6006/\n",
    "```"
   ]
  }
 ],
 "metadata": {
  "kernelspec": {
   "display_name": "conda_mxnet_p36",
   "language": "python",
   "name": "conda_mxnet_p36"
  },
  "language_info": {
   "codemirror_mode": {
    "name": "ipython",
    "version": 3
   },
   "file_extension": ".py",
   "mimetype": "text/x-python",
   "name": "python",
   "nbconvert_exporter": "python",
   "pygments_lexer": "ipython3",
   "version": "3.6.5"
  }
 },
 "nbformat": 4,
 "nbformat_minor": 2
}
