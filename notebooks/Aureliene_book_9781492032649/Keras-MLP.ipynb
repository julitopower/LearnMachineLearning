{
 "cells": [
  {
   "cell_type": "code",
   "execution_count": 1,
   "metadata": {},
   "outputs": [
    {
     "name": "stdout",
     "output_type": "stream",
     "text": [
      "\u001b[33mYou are using pip version 10.0.1, however version 19.3.1 is available.\r\n",
      "You should consider upgrading via the 'pip install --upgrade pip' command.\u001b[0m\r\n"
     ]
    }
   ],
   "source": [
    "! python3 -m pip install -U tensorflow==2.0.0a0 > /dev/null\n",
    "from utils import *"
   ]
  },
  {
   "cell_type": "markdown",
   "metadata": {},
   "source": [
    "# Perceptron using SKLearn\n",
    "\n",
    "Single layer perceptron is a linear classifier. I can't solve the XOR problem. Stacking multiple single layer Perceptrons can solve the XOR problem"
   ]
  },
  {
   "cell_type": "code",
   "execution_count": 2,
   "metadata": {},
   "outputs": [
    {
     "name": "stdout",
     "output_type": "stream",
     "text": [
      "150\n",
      "150\n"
     ]
    },
    {
     "name": "stderr",
     "output_type": "stream",
     "text": [
      "/home/ec2-user/anaconda3/envs/mxnet_p36/lib/python3.6/site-packages/sklearn/linear_model/stochastic_gradient.py:166: FutureWarning: max_iter and tol parameters have been added in Perceptron in 0.19. If both are left unset, they default to max_iter=5 and tol=None. If tol is not None, max_iter defaults to max_iter=1000. From 0.21, default max_iter will be 1000, and default tol will be 1e-3.\n",
      "  FutureWarning)\n"
     ]
    }
   ],
   "source": [
    "import numpy as np\n",
    "from sklearn.datasets import load_iris\n",
    "from sklearn.linear_model import Perceptron\n",
    "\n",
    "iris = load_iris()\n",
    "X = iris.data[:, (2, 3)]\n",
    "y = (iris.target == 0).astype(np.int) # 0 is setosa\n",
    "\n",
    "perceptron_classifier = Perceptron()\n",
    "perceptron_classifier.fit(X, y)\n",
    "y_pred = perceptron_classifier.predict(X)\n",
    "\n",
    "# How many predictions are correct?\n",
    "print((y == y_pred).sum())\n",
    "# How many datapoints are in the dataset\n",
    "print(len(y))"
   ]
  },
  {
   "cell_type": "markdown",
   "metadata": {},
   "source": [
    "# Multilayer Perceptron\n",
    "\n",
    "\n",
    "MLPs became computatinally feasable with the introduction of the [backpropagatino](https://scholar.google.com/scholar?q=Learning+Internal+Representations+by+Error+Propagation+author%3Arumelhart) algorithm, which is still in use. Using backpropagation the gradients of the error with respect to each of the parameters of the MLP are calculated, and then gradienct descent can be applied to learn the parameters iteratively. See [this article](https://towardsdatascience.com/batch-mini-batch-stochastic-gradient-descent-7a62ecba642a) for a simple explanation of Gradient Descent, and Stochastic Gradient Descent.\n",
    "\n",
    "## Regression\n",
    "\n",
    "In general, when building MLPs for regression, we don't use activation functions in the output layer. The loss function to use during training is typically the **mean squared error**, but if you have a lot of outliers in the training set, you may prefer to use the **mean absolute error instead**. \n",
    "\n",
    "## Classification\n",
    "\n",
    "For binary classification or multiple binary labels we use a single output neuron with Logistic activation function. For Multiclass classification (single prediction of mutually exclusive classes), we generally use softmax. In all cases cross entropy is used as the loss function.\n",
    "\n",
    "# Implementing MLPs using Keras\n",
    "\n",
    "Keras is a high-level Deep Learning API that allows you to easily build, train, evaluate, and execute all sorts of neural networks. Checkout [https://keras.io](https://keras.io) for more information. Let's start with an image classification example:"
   ]
  },
  {
   "cell_type": "code",
   "execution_count": 3,
   "metadata": {},
   "outputs": [
    {
     "data": {
      "text/plain": [
       "'2.0.0-alpha0'"
      ]
     },
     "execution_count": 3,
     "metadata": {},
     "output_type": "execute_result"
    }
   ],
   "source": [
    "import tensorflow as tf\n",
    "from tensorflow import keras\n",
    "tf.__version__"
   ]
  },
  {
   "cell_type": "code",
   "execution_count": 4,
   "metadata": {},
   "outputs": [
    {
     "name": "stdout",
     "output_type": "stream",
     "text": [
      "Full train dataset shape (60000, 28, 28)\n",
      "Train dataset dtype uint8\n"
     ]
    }
   ],
   "source": [
    "# This dataset contains greyscale images 28 x 28 of clothing items\n",
    "fashion_mnist = keras.datasets.fashion_mnist\n",
    "# Only train/test datasets\n",
    "(X_train_full, y_train_full), (X_test, y_test) = fashion_mnist.load_data()\n",
    "\n",
    "print(\"Full train dataset shape\", X_train_full.shape)\n",
    "print(\"Train dataset dtype\", X_train_full.dtype)\n",
    "\n",
    "# Lets split train_full into train and validation. Use 5000 samples for validation \n",
    "# and 55000 for training. We also scale pixel greyscale values to [0,1]\n",
    "X_valid, X_train = X_train_full[:5000] / 255.0, X_train_full[5000:] / 255.0\n",
    "y_valid, y_train = y_train_full[:5000], y_train_full[5000:]\n",
    "\n",
    "# Define the name of each of the possible target values\n",
    "class_names = [\"T-shirt/top\", \"Trouser\", \"Pullover\", \"Dress\", \"Coat\",\n",
    "               \"Sandal\", \"Shirt\", \"Sneaker\", \"Bag\", \"Ankle boot\"]"
   ]
  },
  {
   "cell_type": "code",
   "execution_count": 5,
   "metadata": {},
   "outputs": [
    {
     "name": "stdout",
     "output_type": "stream",
     "text": [
      "Model: \"sequential\"\n",
      "_________________________________________________________________\n",
      "Layer (type)                 Output Shape              Param #   \n",
      "=================================================================\n",
      "flatten (Flatten)            (None, 784)               0         \n",
      "_________________________________________________________________\n",
      "dense (Dense)                (None, 300)               235500    \n",
      "_________________________________________________________________\n",
      "dense_1 (Dense)              (None, 100)               30100     \n",
      "_________________________________________________________________\n",
      "dense_2 (Dense)              (None, 10)                1010      \n",
      "=================================================================\n",
      "Total params: 266,610\n",
      "Trainable params: 266,610\n",
      "Non-trainable params: 0\n",
      "_________________________________________________________________\n",
      "dense\n",
      "[[-0.00655878  0.03213384 -0.03342702 ... -0.02421112  0.0258926\n",
      "  -0.01267909]\n",
      " [ 0.051935    0.01395828  0.04474709 ...  0.03911463  0.01300192\n",
      "   0.06825477]\n",
      " [ 0.03585993 -0.04390014 -0.02016519 ... -0.00103337  0.05753262\n",
      "   0.00284522]\n",
      " ...\n",
      " [-0.06066564  0.03091764 -0.07223402 ... -0.0042838  -0.05389154\n",
      "   0.01993357]\n",
      " [-0.02383661 -0.02576177 -0.00051773 ...  0.0423269  -0.01946678\n",
      "  -0.05068102]\n",
      " [-0.04448349  0.03488165 -0.03260494 ...  0.01784866  0.04765782\n",
      "   0.01059819]] [0. 0. 0. 0. 0. 0. 0. 0. 0. 0. 0. 0. 0. 0. 0. 0. 0. 0. 0. 0. 0. 0. 0. 0.\n",
      " 0. 0. 0. 0. 0. 0. 0. 0. 0. 0. 0. 0. 0. 0. 0. 0. 0. 0. 0. 0. 0. 0. 0. 0.\n",
      " 0. 0. 0. 0. 0. 0. 0. 0. 0. 0. 0. 0. 0. 0. 0. 0. 0. 0. 0. 0. 0. 0. 0. 0.\n",
      " 0. 0. 0. 0. 0. 0. 0. 0. 0. 0. 0. 0. 0. 0. 0. 0. 0. 0. 0. 0. 0. 0. 0. 0.\n",
      " 0. 0. 0. 0. 0. 0. 0. 0. 0. 0. 0. 0. 0. 0. 0. 0. 0. 0. 0. 0. 0. 0. 0. 0.\n",
      " 0. 0. 0. 0. 0. 0. 0. 0. 0. 0. 0. 0. 0. 0. 0. 0. 0. 0. 0. 0. 0. 0. 0. 0.\n",
      " 0. 0. 0. 0. 0. 0. 0. 0. 0. 0. 0. 0. 0. 0. 0. 0. 0. 0. 0. 0. 0. 0. 0. 0.\n",
      " 0. 0. 0. 0. 0. 0. 0. 0. 0. 0. 0. 0. 0. 0. 0. 0. 0. 0. 0. 0. 0. 0. 0. 0.\n",
      " 0. 0. 0. 0. 0. 0. 0. 0. 0. 0. 0. 0. 0. 0. 0. 0. 0. 0. 0. 0. 0. 0. 0. 0.\n",
      " 0. 0. 0. 0. 0. 0. 0. 0. 0. 0. 0. 0. 0. 0. 0. 0. 0. 0. 0. 0. 0. 0. 0. 0.\n",
      " 0. 0. 0. 0. 0. 0. 0. 0. 0. 0. 0. 0. 0. 0. 0. 0. 0. 0. 0. 0. 0. 0. 0. 0.\n",
      " 0. 0. 0. 0. 0. 0. 0. 0. 0. 0. 0. 0. 0. 0. 0. 0. 0. 0. 0. 0. 0. 0. 0. 0.\n",
      " 0. 0. 0. 0. 0. 0. 0. 0. 0. 0. 0. 0.]\n",
      "Train on 55000 samples, validate on 5000 samples\n",
      "Epoch 1/30\n",
      "55000/55000 [==============================] - 5s 92us/sample - loss: 1.5726 - accuracy: 0.5501 - val_loss: 1.1135 - val_accuracy: 0.6838\n",
      "Epoch 2/30\n",
      "55000/55000 [==============================] - 5s 96us/sample - loss: 0.9686 - accuracy: 0.7057 - val_loss: 0.8470 - val_accuracy: 0.7492\n",
      "Epoch 3/30\n",
      "55000/55000 [==============================] - 5s 100us/sample - loss: 0.8007 - accuracy: 0.7484 - val_loss: 0.7400 - val_accuracy: 0.7706\n",
      "Epoch 4/30\n",
      "55000/55000 [==============================] - 5s 84us/sample - loss: 0.7201 - accuracy: 0.7685 - val_loss: 0.6792 - val_accuracy: 0.7856\n",
      "Epoch 5/30\n",
      "55000/55000 [==============================] - 5s 84us/sample - loss: 0.6698 - accuracy: 0.7821 - val_loss: 0.6372 - val_accuracy: 0.7952\n",
      "Epoch 6/30\n",
      "55000/55000 [==============================] - 5s 83us/sample - loss: 0.6343 - accuracy: 0.7929 - val_loss: 0.6091 - val_accuracy: 0.8036\n",
      "Epoch 7/30\n",
      "55000/55000 [==============================] - 5s 85us/sample - loss: 0.6071 - accuracy: 0.8011 - val_loss: 0.5848 - val_accuracy: 0.8078\n",
      "Epoch 8/30\n",
      "55000/55000 [==============================] - 5s 82us/sample - loss: 0.5852 - accuracy: 0.8074 - val_loss: 0.5673 - val_accuracy: 0.8144\n",
      "Epoch 9/30\n",
      "55000/55000 [==============================] - 5s 84us/sample - loss: 0.5675 - accuracy: 0.8118 - val_loss: 0.5486 - val_accuracy: 0.8210\n",
      "Epoch 10/30\n",
      "55000/55000 [==============================] - 5s 85us/sample - loss: 0.5525 - accuracy: 0.8163 - val_loss: 0.5374 - val_accuracy: 0.8250\n",
      "Epoch 11/30\n",
      "55000/55000 [==============================] - 5s 84us/sample - loss: 0.5395 - accuracy: 0.8194 - val_loss: 0.5234 - val_accuracy: 0.8258\n",
      "Epoch 12/30\n",
      "55000/55000 [==============================] - 5s 82us/sample - loss: 0.5281 - accuracy: 0.8227 - val_loss: 0.5163 - val_accuracy: 0.8326\n",
      "Epoch 13/30\n",
      "55000/55000 [==============================] - 5s 84us/sample - loss: 0.5184 - accuracy: 0.8257 - val_loss: 0.5029 - val_accuracy: 0.8354\n",
      "Epoch 14/30\n",
      "55000/55000 [==============================] - 5s 83us/sample - loss: 0.5096 - accuracy: 0.8278 - val_loss: 0.4974 - val_accuracy: 0.8382\n",
      "Epoch 15/30\n",
      "55000/55000 [==============================] - 5s 84us/sample - loss: 0.5020 - accuracy: 0.8307 - val_loss: 0.4892 - val_accuracy: 0.8402\n",
      "Epoch 16/30\n",
      "55000/55000 [==============================] - 5s 86us/sample - loss: 0.4949 - accuracy: 0.8324 - val_loss: 0.4831 - val_accuracy: 0.8408\n",
      "Epoch 17/30\n",
      "55000/55000 [==============================] - 5s 84us/sample - loss: 0.4884 - accuracy: 0.8339 - val_loss: 0.4792 - val_accuracy: 0.8408\n",
      "Epoch 18/30\n",
      "55000/55000 [==============================] - 5s 87us/sample - loss: 0.4824 - accuracy: 0.8361 - val_loss: 0.4712 - val_accuracy: 0.8464\n",
      "Epoch 19/30\n",
      "55000/55000 [==============================] - 4s 71us/sample - loss: 0.4771 - accuracy: 0.8374 - val_loss: 0.4664 - val_accuracy: 0.8472\n",
      "Epoch 20/30\n",
      "55000/55000 [==============================] - 5s 82us/sample - loss: 0.4720 - accuracy: 0.8388 - val_loss: 0.4628 - val_accuracy: 0.8464\n",
      "Epoch 21/30\n",
      "55000/55000 [==============================] - 5s 82us/sample - loss: 0.4669 - accuracy: 0.8403 - val_loss: 0.4593 - val_accuracy: 0.8450\n",
      "Epoch 22/30\n",
      "55000/55000 [==============================] - 5s 84us/sample - loss: 0.4629 - accuracy: 0.8411 - val_loss: 0.4553 - val_accuracy: 0.8486\n",
      "Epoch 23/30\n",
      "55000/55000 [==============================] - 5s 85us/sample - loss: 0.4587 - accuracy: 0.8425 - val_loss: 0.4498 - val_accuracy: 0.8512\n",
      "Epoch 24/30\n",
      "55000/55000 [==============================] - 5s 84us/sample - loss: 0.4549 - accuracy: 0.8444 - val_loss: 0.4468 - val_accuracy: 0.8504\n",
      "Epoch 25/30\n",
      "55000/55000 [==============================] - 5s 84us/sample - loss: 0.4511 - accuracy: 0.8452 - val_loss: 0.4445 - val_accuracy: 0.8514\n",
      "Epoch 26/30\n",
      "55000/55000 [==============================] - 5s 86us/sample - loss: 0.4476 - accuracy: 0.8455 - val_loss: 0.4401 - val_accuracy: 0.8528\n",
      "Epoch 27/30\n",
      "55000/55000 [==============================] - 5s 86us/sample - loss: 0.4443 - accuracy: 0.8472 - val_loss: 0.4390 - val_accuracy: 0.8532\n",
      "Epoch 28/30\n",
      "55000/55000 [==============================] - 5s 84us/sample - loss: 0.4411 - accuracy: 0.8481 - val_loss: 0.4374 - val_accuracy: 0.8546\n",
      "Epoch 29/30\n",
      "55000/55000 [==============================] - 5s 86us/sample - loss: 0.4380 - accuracy: 0.8486 - val_loss: 0.4319 - val_accuracy: 0.8572\n",
      "Epoch 30/30\n",
      "55000/55000 [==============================] - 5s 86us/sample - loss: 0.4352 - accuracy: 0.8500 - val_loss: 0.4299 - val_accuracy: 0.8608\n"
     ]
    }
   ],
   "source": [
    "model = keras.Sequential()\n",
    "model.add(keras.layers.Flatten(input_shape=[28,28]))\n",
    "model.add(keras.layers.Dense(300, activation=\"relu\"))\n",
    "model.add(keras.layers.Dense(100, activation=\"relu\"))\n",
    "model.add(keras.layers.Dense(10, activation=\"softmax\"))\n",
    "\n",
    "# Get a summary of the network\n",
    "model.summary()\n",
    "# Access an individual layer\n",
    "input_layer = model.layers[1]\n",
    "print(input_layer.name)\n",
    "\n",
    "# Get layer parameters. For Dense layers this include weights and bias\n",
    "w, b = input_layer.get_weights()\n",
    "print(w, b)\n",
    "\n",
    "# Now let's define the learning parameters\n",
    "model.compile(loss=\"sparse_categorical_crossentropy\",\n",
    "             optimizer=keras.optimizers.SGD(learning_rate=0.001),\n",
    "             metrics=[\"accuracy\"])\n",
    "\n",
    "# And train\n",
    "history = model.fit(X_train, y_train, batch_size=50,\n",
    "                    epochs=30, \n",
    "                    validation_data=(X_valid, y_valid),\n",
    "                    callbacks=[keras.callbacks.TensorBoard(get_run_logidr())])\n",
    "\n",
    "# Finally save the model\n",
    "model.save(\"dense_classification_mlp.h5\")"
   ]
  },
  {
   "cell_type": "code",
   "execution_count": 6,
   "metadata": {},
   "outputs": [
    {
     "data": {
      "image/png": "[encoded data removed]",
      "text/plain": [
       "<Figure size 720x360 with 1 Axes>"
      ]
     },
     "metadata": {},
     "output_type": "display_data"
    }
   ],
   "source": [
    "draw_history(history)"
   ]
  },
  {
   "cell_type": "code",
   "execution_count": 7,
   "metadata": {},
   "outputs": [
    {
     "name": "stdout",
     "output_type": "stream",
     "text": [
      "10000/10000 [==============================] - 1s 59us/sample - loss: 74.4098 - accuracy: 0.8066\n",
      "[[0. 0. 0. 0. 0. 0. 0. 0. 0. 1.]\n",
      " [0. 0. 1. 0. 0. 0. 0. 0. 0. 0.]\n",
      " [0. 1. 0. 0. 0. 0. 0. 0. 0. 0.]\n",
      " [0. 1. 0. 0. 0. 0. 0. 0. 0. 0.]\n",
      " [0. 0. 0. 0. 0. 0. 1. 0. 0. 0.]\n",
      " [0. 1. 0. 0. 0. 0. 0. 0. 0. 0.]\n",
      " [0. 0. 0. 0. 1. 0. 0. 0. 0. 0.]\n",
      " [0. 0. 0. 0. 0. 0. 1. 0. 0. 0.]\n",
      " [0. 0. 0. 0. 0. 0. 0. 1. 0. 0.]\n",
      " [0. 0. 0. 0. 0. 0. 0. 1. 0. 0.]]\n"
     ]
    },
    {
     "data": {
      "text/plain": [
       "array(['Ankle boot', 'Pullover', 'Trouser', 'Trouser', 'Shirt', 'Trouser',\n",
       "       'Coat', 'Shirt', 'Sneaker', 'Sneaker'], dtype='<U11')"
      ]
     },
     "execution_count": 7,
     "metadata": {},
     "output_type": "execute_result"
    }
   ],
   "source": [
    "# Let's see how the model perform on the test dataset\n",
    "model.evaluate(X_test, y_test)\n",
    "\n",
    "# We can finally use the model to obtain predictinos\n",
    "y_proba = model.predict(X_test[:10])\n",
    "print(y_proba.round(2))\n",
    "\n",
    "# We can ask Keras to retrieve the highest probability class for us\n",
    "y_pred = model.predict_classes(X_test[:10])\n",
    "np.array(class_names)[y_pred]"
   ]
  },
  {
   "cell_type": "markdown",
   "metadata": {},
   "source": [
    "Let's build a Regression example:"
   ]
  },
  {
   "cell_type": "code",
   "execution_count": 8,
   "metadata": {},
   "outputs": [
    {
     "name": "stdout",
     "output_type": "stream",
     "text": [
      "Train on 11610 samples, validate on 3870 samples\n",
      "Epoch 1/20\n",
      "11610/11610 [==============================] - 1s 72us/sample - loss: 2.0883 - val_loss: 1.1872\n",
      "Epoch 2/20\n",
      "11610/11610 [==============================] - 1s 64us/sample - loss: 0.6238 - val_loss: 0.5623\n",
      "Epoch 3/20\n",
      "11610/11610 [==============================] - 1s 61us/sample - loss: 0.5622 - val_loss: 0.5374\n",
      "Epoch 4/20\n",
      "11610/11610 [==============================] - 1s 52us/sample - loss: 0.5366 - val_loss: 0.5364\n",
      "Epoch 5/20\n",
      "11610/11610 [==============================] - 1s 62us/sample - loss: 0.5170 - val_loss: 0.5187\n",
      "Epoch 6/20\n",
      "11610/11610 [==============================] - 1s 60us/sample - loss: 0.5008 - val_loss: 0.4806\n",
      "Epoch 7/20\n",
      "11610/11610 [==============================] - 1s 51us/sample - loss: 0.4866 - val_loss: 0.4662\n",
      "Epoch 8/20\n",
      "11610/11610 [==============================] - 1s 58us/sample - loss: 0.4751 - val_loss: 0.4573\n",
      "Epoch 9/20\n",
      "11610/11610 [==============================] - 1s 58us/sample - loss: 0.4656 - val_loss: 0.4492\n",
      "Epoch 10/20\n",
      "11610/11610 [==============================] - 1s 57us/sample - loss: 0.4578 - val_loss: 0.4414\n",
      "Epoch 11/20\n",
      "11610/11610 [==============================] - 1s 59us/sample - loss: 0.4514 - val_loss: 0.4356\n",
      "Epoch 12/20\n",
      "11610/11610 [==============================] - 1s 63us/sample - loss: 0.4458 - val_loss: 0.4314\n",
      "Epoch 13/20\n",
      "11610/11610 [==============================] - 1s 56us/sample - loss: 0.4412 - val_loss: 0.4299\n",
      "Epoch 14/20\n",
      "11610/11610 [==============================] - 1s 61us/sample - loss: 0.4372 - val_loss: 0.4244\n",
      "Epoch 15/20\n",
      "11610/11610 [==============================] - 1s 46us/sample - loss: 0.4336 - val_loss: 0.4235\n",
      "Epoch 16/20\n",
      "11610/11610 [==============================] - 1s 58us/sample - loss: 0.4308 - val_loss: 0.4209\n",
      "Epoch 17/20\n",
      "11610/11610 [==============================] - 1s 55us/sample - loss: 0.4280 - val_loss: 0.4189\n",
      "Epoch 18/20\n",
      "11610/11610 [==============================] - 1s 58us/sample - loss: 0.4255 - val_loss: 0.4164\n",
      "Epoch 19/20\n",
      "11610/11610 [==============================] - 1s 65us/sample - loss: 0.4233 - val_loss: 0.4148\n",
      "Epoch 20/20\n",
      "11610/11610 [==============================] - 1s 66us/sample - loss: 0.4212 - val_loss: 0.4156\n"
     ]
    }
   ],
   "source": [
    "from sklearn.datasets import fetch_california_housing\n",
    "from sklearn.model_selection import train_test_split\n",
    "from sklearn.preprocessing import StandardScaler\n",
    "\n",
    "housing = fetch_california_housing()\n",
    "\n",
    "# Partition the full dataset into train/test\n",
    "X_train_full, X_test, y_train_full, y_test = train_test_split(\n",
    "    housing.data, housing.target)\n",
    "# Partition the train dataset into train/validation\n",
    "X_train, X_valid, y_train, y_valid = train_test_split(\n",
    "    X_train_full, y_train_full)\n",
    "\n",
    "# Preprocess the training data using the StandardScaler\n",
    "scaler = StandardScaler()\n",
    "X_train = scaler.fit_transform(X_train)\n",
    "X_valid = scaler.transform(X_valid)\n",
    "X_test = scaler.transform(X_test)\n",
    "\n",
    "# define the network\n",
    "model = keras.Sequential([\n",
    "    keras.layers.Dense(30, activation=\"relu\", input_shape=X_train.shape[1:]),\n",
    "    keras.layers.Dense(1)\n",
    "])\n",
    "model.compile(optimizer=\"sgd\", loss=\"mean_squared_error\")\n",
    "history = model.fit(X_train, y_train, epochs=20,\n",
    "                   validation_data=(X_valid, y_valid),\n",
    "                   callbacks=[keras.callbacks.TensorBoard(get_run_logidr())])"
   ]
  },
  {
   "cell_type": "code",
   "execution_count": 9,
   "metadata": {},
   "outputs": [
    {
     "name": "stdout",
     "output_type": "stream",
     "text": [
      "5160/5160 [==============================] - 0s 36us/sample - loss: 0.3953\n",
      "[[2.6194267]\n",
      " [1.9479164]\n",
      " [3.167086 ]]\n",
      "[0.8614267]\n",
      "[0.37991643]\n",
      "[-0.88791394]\n"
     ]
    }
   ],
   "source": [
    "# Let's evaluate the model on the test dataset, and perform som inference\n",
    "mse_test = model.evaluate(X_test, y_test)\n",
    "X_new = X_test[:3]\n",
    "y_pred = model.predict(X_new)\n",
    "print(y_pred)\n",
    "for i in range(3):\n",
    "    print(y_pred[i] - y_test[i])"
   ]
  },
  {
   "cell_type": "markdown",
   "metadata": {},
   "source": [
    "# Keras Functional API\n",
    "\n",
    "The [Keras functional API](https://keras.io/getting-started/functional-api-guide/) is the way to go for defining complex models, such as multi-output models, directed acyclic graphs, or models with shared layers.\n",
    "\n",
    "Let's define a model that feeds the inputs through a deep path, and directly to the output:"
   ]
  },
  {
   "cell_type": "code",
   "execution_count": 10,
   "metadata": {},
   "outputs": [
    {
     "name": "stdout",
     "output_type": "stream",
     "text": [
      "Train on 11610 samples, validate on 3870 samples\n",
      "Epoch 1/20\n",
      "11610/11610 [==============================] - 1s 74us/sample - loss: 1.9287 - val_loss: 0.8235\n",
      "Epoch 2/20\n",
      "11610/11610 [==============================] - 1s 66us/sample - loss: 0.6404 - val_loss: 0.5828\n",
      "Epoch 3/20\n",
      "11610/11610 [==============================] - 1s 58us/sample - loss: 0.6022 - val_loss: 0.5549\n",
      "Epoch 4/20\n",
      "11610/11610 [==============================] - 1s 66us/sample - loss: 0.5770 - val_loss: 0.5376\n",
      "Epoch 5/20\n",
      "11610/11610 [==============================] - 1s 62us/sample - loss: 0.5552 - val_loss: 0.5362\n",
      "Epoch 6/20\n",
      "11610/11610 [==============================] - 1s 55us/sample - loss: 0.5359 - val_loss: 0.5035\n",
      "Epoch 7/20\n",
      "11610/11610 [==============================] - 1s 56us/sample - loss: 0.5196 - val_loss: 0.4850\n",
      "Epoch 8/20\n",
      "11610/11610 [==============================] - 1s 57us/sample - loss: 0.5050 - val_loss: 0.4757\n",
      "Epoch 9/20\n",
      "11610/11610 [==============================] - 1s 57us/sample - loss: 0.4903 - val_loss: 0.4608\n",
      "Epoch 10/20\n",
      "11610/11610 [==============================] - 1s 72us/sample - loss: 0.4773 - val_loss: 0.4589\n",
      "Epoch 11/20\n",
      "11610/11610 [==============================] - 1s 51us/sample - loss: 0.4658 - val_loss: 0.4430\n",
      "Epoch 12/20\n",
      "11610/11610 [==============================] - 1s 51us/sample - loss: 0.4565 - val_loss: 0.4378\n",
      "Epoch 13/20\n",
      "11610/11610 [==============================] - 1s 64us/sample - loss: 0.4482 - val_loss: 0.4281\n",
      "Epoch 14/20\n",
      "11610/11610 [==============================] - 1s 65us/sample - loss: 0.4418 - val_loss: 0.4284\n",
      "Epoch 15/20\n",
      "11610/11610 [==============================] - 1s 71us/sample - loss: 0.4352 - val_loss: 0.4178\n",
      "Epoch 16/20\n",
      "11610/11610 [==============================] - 1s 63us/sample - loss: 0.4299 - val_loss: 0.4213\n",
      "Epoch 17/20\n",
      "11610/11610 [==============================] - 1s 57us/sample - loss: 0.4249 - val_loss: 0.4136\n",
      "Epoch 18/20\n",
      "11610/11610 [==============================] - 1s 51us/sample - loss: 0.4203 - val_loss: 0.4117\n",
      "Epoch 19/20\n",
      "11610/11610 [==============================] - 1s 62us/sample - loss: 0.4163 - val_loss: 0.4100\n",
      "Epoch 20/20\n",
      "11610/11610 [==============================] - 1s 66us/sample - loss: 0.4125 - val_loss: 0.4091\n"
     ]
    },
    {
     "data": {
      "image/png": "[encoded data removed]",
      "text/plain": [
       "<Figure size 720x360 with 1 Axes>"
      ]
     },
     "metadata": {},
     "output_type": "display_data"
    }
   ],
   "source": [
    "# Shape is [rows, cols], and we only need the columns to define the input\n",
    "in_0 = keras.layers.Input(shape=X_train.shape[1:])\n",
    "h1 = keras.layers.Dense(30, activation=\"relu\")(in_0)\n",
    "h2 = keras.layers.Dense(30, activation=\"relu\")(h1)\n",
    "concat = keras.layers.Concatenate()([in_0, h2])\n",
    "output = keras.layers.Dense(1)(concat)\n",
    "model = keras.Model(inputs=[in_0], outputs=[output])\n",
    "\n",
    "model.compile(optimizer=\"sgd\", loss=\"mean_squared_error\")\n",
    "history = model.fit(X_train, y_train, epochs=20,\n",
    "                   validation_data=(X_valid, y_valid),\n",
    "                   callbacks=[keras.callbacks.TensorBoard(get_run_logidr())])\n",
    "draw_history(history)"
   ]
  },
  {
   "cell_type": "markdown",
   "metadata": {},
   "source": [
    "Using the functional API a model can have multiple inputs and outputs. For instance, we may use multiple inputs when we want to send a certain range of the input throught the dense path, while sending the rest directly to the output. Rages can overlap. The following code defines such network:"
   ]
  },
  {
   "cell_type": "code",
   "execution_count": 11,
   "metadata": {},
   "outputs": [
    {
     "name": "stdout",
     "output_type": "stream",
     "text": [
      "Train on 11610 samples, validate on 3870 samples\n",
      "Epoch 1/20\n",
      "11610/11610 [==============================] - 1s 81us/sample - loss: 2.7167 - val_loss: 1.4318\n",
      "Epoch 2/20\n",
      "11610/11610 [==============================] - 1s 53us/sample - loss: 0.8041 - val_loss: 0.7688\n",
      "Epoch 3/20\n",
      "11610/11610 [==============================] - 1s 63us/sample - loss: 0.6821 - val_loss: 0.6447\n",
      "Epoch 4/20\n",
      "11610/11610 [==============================] - 1s 51us/sample - loss: 0.6272 - val_loss: 0.6010\n",
      "Epoch 5/20\n",
      "11610/11610 [==============================] - 1s 54us/sample - loss: 0.5896 - val_loss: 0.5648\n",
      "Epoch 6/20\n",
      "11610/11610 [==============================] - 1s 59us/sample - loss: 0.5595 - val_loss: 0.5514\n",
      "Epoch 7/20\n",
      "11610/11610 [==============================] - 1s 59us/sample - loss: 0.5344 - val_loss: 0.5363\n",
      "Epoch 8/20\n",
      "11610/11610 [==============================] - 1s 57us/sample - loss: 0.5138 - val_loss: 0.5074\n",
      "Epoch 9/20\n",
      "11610/11610 [==============================] - 1s 64us/sample - loss: 0.4954 - val_loss: 0.5150\n",
      "Epoch 10/20\n",
      "11610/11610 [==============================] - 1s 54us/sample - loss: 0.4819 - val_loss: 0.5037\n",
      "Epoch 11/20\n",
      "11610/11610 [==============================] - 1s 73us/sample - loss: 0.4704 - val_loss: 0.4686\n",
      "Epoch 12/20\n",
      "11610/11610 [==============================] - 1s 58us/sample - loss: 0.4605 - val_loss: 0.4495\n",
      "Epoch 13/20\n",
      "11610/11610 [==============================] - 1s 50us/sample - loss: 0.4523 - val_loss: 0.4360\n",
      "Epoch 14/20\n",
      "11610/11610 [==============================] - 1s 52us/sample - loss: 0.4462 - val_loss: 0.4409\n",
      "Epoch 15/20\n",
      "11610/11610 [==============================] - 1s 76us/sample - loss: 0.4412 - val_loss: 0.4310\n",
      "Epoch 16/20\n",
      "11610/11610 [==============================] - 1s 73us/sample - loss: 0.4365 - val_loss: 0.4639\n",
      "Epoch 17/20\n",
      "11610/11610 [==============================] - 1s 67us/sample - loss: 0.4337 - val_loss: 0.4234\n",
      "Epoch 18/20\n",
      "11610/11610 [==============================] - 1s 63us/sample - loss: 0.4307 - val_loss: 0.4228\n",
      "Epoch 19/20\n",
      "11610/11610 [==============================] - 1s 97us/sample - loss: 0.4278 - val_loss: 0.4261\n",
      "Epoch 20/20\n",
      "11610/11610 [==============================] - 1s 73us/sample - loss: 0.4260 - val_loss: 0.4393\n",
      "5160/5160 [==============================] - 0s 35us/sample - loss: 0.4066\n"
     ]
    },
    {
     "data": {
      "image/png": "[encoded data removed]",
      "text/plain": [
       "<Figure size 720x360 with 1 Axes>"
      ]
     },
     "metadata": {},
     "output_type": "display_data"
    }
   ],
   "source": [
    "input_A = keras.layers.Input(shape=[5], name=\"wide_input\")\n",
    "input_B = keras.layers.Input(shape=[6], name=\"deep_input\")\n",
    "\n",
    "hidden1 = keras.layers.Dense(30, activation=\"relu\")(input_B)\n",
    "hidden2 = keras.layers.Dense(30, activation=\"relu\")(hidden1)\n",
    "concat = keras.layers.concatenate([input_A, hidden2])\n",
    "output = keras.layers.Dense(1, name=\"output\")(concat)\n",
    "model = keras.Model(inputs=[input_A, input_B], outputs=[output])\n",
    "\n",
    "# in order to call this model, we have to pass multiple inputs\n",
    "model.compile(loss=\"mse\", optimizer=keras.optimizers.SGD(lr=1e-3))\n",
    "\n",
    "X_train_A, X_train_B = X_train[:, :5], X_train[:, 2:]\n",
    "X_valid_A, X_valid_B = X_valid[:, :5], X_valid[:, 2:]\n",
    "X_test_A, X_test_B = X_test[:, :5], X_test[:, 2:]\n",
    "X_new_A, X_new_B = X_test_A[:3], X_test_B[:3]\n",
    "\n",
    "history = model.fit((X_train_A, X_train_B), y_train, epochs=20,\n",
    "                    validation_data=((X_valid_A, X_valid_B), y_valid),\n",
    "                    callbacks=[keras.callbacks.TensorBoard(get_run_logidr())])\n",
    "mse_test = model.evaluate((X_test_A, X_test_B), y_test)\n",
    "y_pred = model.predict((X_new_A, X_new_B))\n",
    "draw_history(history)"
   ]
  },
  {
   "cell_type": "markdown",
   "metadata": {},
   "source": [
    "**Multiple outputs are also possible**. One of the multiple uses of multiple outputs is **regularization**; we may want to add auxiliary outputs in the architecture to ensure that parts of the network learn something useful, not only the _final_ output. \n",
    "\n",
    "Each output needs it own loss function, so we must pass a list of loss functions when compiling the network. To train the network we need to pass labels for each output as well. When we evaluate we obtain the total loss and the individual losses. A network with multiple outputs will predict multiple values.\n",
    "\n",
    "# Callbacks\n",
    "\n",
    "The ```fit()``` method accept **callbacks** that will be called at different times, for example at the end of each epoch, or at the end of the training. Callbacks can be used to saved model checkpoints:"
   ]
  },
  {
   "cell_type": "code",
   "execution_count": 12,
   "metadata": {},
   "outputs": [
    {
     "name": "stdout",
     "output_type": "stream",
     "text": [
      "Train on 55000 samples, validate on 5000 samples\n",
      "Epoch 1/10\n",
      "55000/55000 [==============================] - 7s 131us/sample - loss: 1.4238 - accuracy: 0.5956 - val_loss: 0.9707 - val_accuracy: 0.6864\n",
      "Epoch 2/10\n",
      "55000/55000 [==============================] - 7s 120us/sample - loss: 0.8539 - accuracy: 0.7230 - val_loss: 0.7580 - val_accuracy: 0.7580\n",
      "Epoch 3/10\n",
      "55000/55000 [==============================] - 7s 122us/sample - loss: 0.7150 - accuracy: 0.7695 - val_loss: 0.6670 - val_accuracy: 0.7900\n",
      "Epoch 4/10\n",
      "55000/55000 [==============================] - 7s 121us/sample - loss: 0.6431 - accuracy: 0.7934 - val_loss: 0.6084 - val_accuracy: 0.8074\n",
      "Epoch 5/10\n",
      "55000/55000 [==============================] - 7s 123us/sample - loss: 0.5981 - accuracy: 0.8063 - val_loss: 0.5748 - val_accuracy: 0.8132\n",
      "Epoch 6/10\n",
      "55000/55000 [==============================] - 7s 122us/sample - loss: 0.5665 - accuracy: 0.8149 - val_loss: 0.5479 - val_accuracy: 0.8214\n",
      "Epoch 7/10\n",
      "55000/55000 [==============================] - 7s 123us/sample - loss: 0.5430 - accuracy: 0.8213 - val_loss: 0.5263 - val_accuracy: 0.8264\n",
      "Epoch 8/10\n",
      "55000/55000 [==============================] - 7s 119us/sample - loss: 0.5250 - accuracy: 0.8242 - val_loss: 0.5093 - val_accuracy: 0.8346\n",
      "Epoch 9/10\n",
      "55000/55000 [==============================] - 7s 124us/sample - loss: 0.5107 - accuracy: 0.8277 - val_loss: 0.5012 - val_accuracy: 0.8336\n",
      "Epoch 10/10\n",
      "55000/55000 [==============================] - 7s 120us/sample - loss: 0.4983 - accuracy: 0.8321 - val_loss: 0.4861 - val_accuracy: 0.8406\n"
     ]
    }
   ],
   "source": [
    "# Only train/test datasets\n",
    "(X_train_full, y_train_full), (X_test, y_test) = fashion_mnist.load_data()\n",
    "# Lets split train_full into train and validation. Use 5000 samples for validation \n",
    "# and 55000 for training. We also scale pixel greyscale values to [0,1]\n",
    "X_valid, X_train = X_train_full[:5000] / 255.0, X_train_full[5000:] / 255.0\n",
    "y_valid, y_train = y_train_full[:5000], y_train_full[5000:]\n",
    "\n",
    "model = keras.Sequential()\n",
    "model.add(keras.layers.Flatten(input_shape=[28,28]))\n",
    "model.add(keras.layers.Dense(300, activation=\"relu\"))\n",
    "model.add(keras.layers.Dense(100, activation=\"relu\"))\n",
    "model.add(keras.layers.Dense(10, activation=\"softmax\"))\n",
    "\n",
    "# Now let's define the learning parameters\n",
    "model.compile(loss=\"sparse_categorical_crossentropy\",\n",
    "             optimizer=keras.optimizers.SGD(learning_rate=0.001),\n",
    "             metrics=[\"accuracy\"])\n",
    "\n",
    "checkpoint_cb = keras.callbacks.ModelCheckpoint(\"model_checkpoint.h5\",\n",
    "                                               save_best_only=True)\n",
    "history = model.fit(X_train, y_train, epochs=10,\n",
    "                   validation_data=(X_valid, y_valid),\n",
    "                   callbacks=[checkpoint_cb, keras.callbacks.TensorBoard(get_run_logidr())])"
   ]
  },
  {
   "cell_type": "markdown",
   "metadata": {},
   "source": [
    "Keras provides many callbacks, and we can create our own ones by implementing ```keras.callbacks.Callback```. The base class defines many lifecycle event handlers that we can override:"
   ]
  },
  {
   "cell_type": "code",
   "execution_count": 13,
   "metadata": {},
   "outputs": [],
   "source": [
    "class PrintUsefullDataCallback(keras.callbacks.Callback):\n",
    "    def on_epoch_end(self, epoch, logs):\n",
    "        print(\"\\nval/train: {:.2f}\".format(logs[\"val_loss\"] / logs[\"loss\"]))"
   ]
  },
  {
   "cell_type": "markdown",
   "metadata": {},
   "source": [
    "# Tensorboard\n",
    "\n",
    "In SageMaker if tensorboard is started as:\n",
    "```\n",
    "/home/ec2-user/anaconda3/envs/tensorflow_p27/bin/tensorboard --port=6006 --logdir ./ml_logs/\n",
    "```\n",
    "\n",
    "You can connect to it using the following URL (with your own notebook prefix):\n",
    "\n",
    "```\n",
    "https://mlclassic-benchmark.notebook.us-west-2.sagemaker.aws/proxy/6006/\n",
    "```\n",
    "\n",
    "# Hyperparameter Optimization\n",
    "\n",
    "Checkout this [paper](https://arxiv.org/abs/1803.09820) for a good survery and analysis of HPO for neural networks.\n",
    "\n",
    "# Other learning resources\n",
    "\n",
    "Play and visulize MLPs using [https://playground.tensorflow.org](https://playground.tensorflow.org). This is an incredibly usefuly tool that let us visualize the behavior on different MLP architectures and hyperparameters."
   ]
  }
 ],
 "metadata": {
  "kernelspec": {
   "display_name": "conda_mxnet_p36",
   "language": "python",
   "name": "conda_mxnet_p36"
  },
  "language_info": {
   "codemirror_mode": {
    "name": "ipython",
    "version": 3
   },
   "file_extension": ".py",
   "mimetype": "text/x-python",
   "name": "python",
   "nbconvert_exporter": "python",
   "pygments_lexer": "ipython3",
   "version": "3.6.5"
  }
 },
 "nbformat": 4,
 "nbformat_minor": 2
}
