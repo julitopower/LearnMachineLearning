{
 "cells": [
  {
   "cell_type": "code",
   "execution_count": 1,
   "metadata": {},
   "outputs": [],
   "source": [
    "from copy import deepcopy\n",
    "\n",
    "from sklearn.linear_model import LinearRegression\n",
    "from sklearn.linear_model import SGDRegressor\n",
    "from sklearn.preprocessing import PolynomialFeatures, StandardScaler\n",
    "from sklearn.metrics import mean_squared_error\n",
    "from sklearn.pipeline import Pipeline\n",
    "from sklearn.model_selection import train_test_split\n",
    "\n",
    "import matplotlib.pyplot as plt\n",
    "\n",
    "import numpy as np"
   ]
  },
  {
   "cell_type": "code",
   "execution_count": 2,
   "metadata": {},
   "outputs": [],
   "source": [
    "# Let's generate data and calulate the closed form of the linear regression\n",
    "# so that we can compare with the results obtained by SGD\n",
    "X = 2 * np.random.rand(1000, 1)\n",
    "y = 4 + 3 * X  + 3.2*X**2 + np.random.randn(1000, 1)\n",
    "X_train, X_val, y_train, y_val = train_test_split(X, y, test_size=0.2)"
   ]
  },
  {
   "cell_type": "code",
   "execution_count": 3,
   "metadata": {},
   "outputs": [],
   "source": [
    "# prepare the data for training\n",
    "poly_scaler = Pipeline([\n",
    "    ('poly_features', PolynomialFeatures(degree=90, include_bias=False)),\n",
    "    ('std_scaler', StandardScaler()),\n",
    "])\n",
    "X_train_processed = poly_scaler.fit_transform(X_train)\n",
    "X_val_processed = poly_scaler.transform(X_val)"
   ]
  },
  {
   "cell_type": "code",
   "execution_count": 4,
   "metadata": {},
   "outputs": [
    {
     "data": {
      "text/plain": [
       "(0.0, 1000.0, 0.0, 2.0)"
      ]
     },
     "execution_count": 4,
     "metadata": {},
     "output_type": "execute_result"
    },
    {
     "data": {
      "image/png": "[encoded data removed]",
      "text/plain": [
       "<Figure size 432x288 with 1 Axes>"
      ]
     },
     "metadata": {
      "needs_background": "light"
     },
     "output_type": "display_data"
    }
   ],
   "source": [
    "# Define and train model\n",
    "sgd_reg = SGDRegressor(max_iter=1, tol=-np.infty, warm_start=True,\n",
    "                      penalty=None, learning_rate='constant', eta0=0.00005)\n",
    "\n",
    "min_err = float(\"inf\")\n",
    "best_epoch = None\n",
    "best_model = None\n",
    "val_errors = []\n",
    "train_errors = []\n",
    "for epoch in range(1000):\n",
    "    sgd_reg.fit(X_train_processed, y_train.ravel())\n",
    "    y_val_predict = sgd_reg.predict(X_val_processed)\n",
    "    y_train_predict = sgd_reg.predict(X_train_processed)\n",
    "    val_error = mean_squared_error(y_val, y_val_predict)\n",
    "    train_error = mean_squared_error(y_train, y_train_predict)\n",
    "    val_errors.append(val_error)\n",
    "    train_errors.append(train_error)\n",
    "    if val_error < min_err:\n",
    "        min_err = val_error\n",
    "        best_epoch = epoch\n",
    "        best_model = deepcopy(sgd_reg)\n",
    "plt.plot(range(1000), val_errors, 'b-')\n",
    "plt.plot(range(1000), train_errors, 'g-')\n",
    "plt.plot(best_epoch, 0, 'ro')\n",
    "plt.axis([0,1000, 0, 2])"
   ]
  }
 ],
 "metadata": {
  "kernelspec": {
   "display_name": "Python 3",
   "language": "python",
   "name": "python3"
  },
  "language_info": {
   "codemirror_mode": {
    "name": "ipython",
    "version": 3
   },
   "file_extension": ".py",
   "mimetype": "text/x-python",
   "name": "python",
   "nbconvert_exporter": "python",
   "pygments_lexer": "ipython3",
   "version": "3.8.0"
  }
 },
 "nbformat": 4,
 "nbformat_minor": 4
}
