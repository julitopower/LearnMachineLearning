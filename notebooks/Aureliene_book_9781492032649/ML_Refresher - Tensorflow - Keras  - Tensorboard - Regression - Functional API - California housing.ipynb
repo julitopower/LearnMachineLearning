{
 "cells": [
  {
   "cell_type": "markdown",
   "metadata": {},
   "source": [
    "# Complete + Tensorboard\n",
    "\n",
    "In this notebook we show an end-to-end training example with early stopping, checkpointing and tensorboard integration. The dataset we use in this example is the famouse [California Housing](https://scikit-learn.org/stable/modules/generated/sklearn.datasets.fetch_california_housing.html)."
   ]
  },
  {
   "cell_type": "code",
   "execution_count": 1,
   "metadata": {},
   "outputs": [],
   "source": [
    "import time\n",
    "\n",
    "from sklearn.model_selection import train_test_split\n",
    "from sklearn.datasets import fetch_california_housing\n",
    "from sklearn.preprocessing import StandardScaler\n",
    "\n",
    "import tensorflow as tf\n",
    "from tensorflow import keras\n",
    "\n",
    "import utils"
   ]
  },
  {
   "cell_type": "code",
   "execution_count": 2,
   "metadata": {},
   "outputs": [
    {
     "data": {
      "text/plain": [
       "'2.3.0'"
      ]
     },
     "execution_count": 2,
     "metadata": {},
     "output_type": "execute_result"
    }
   ],
   "source": [
    "tf.__version__"
   ]
  },
  {
   "cell_type": "code",
   "execution_count": 3,
   "metadata": {},
   "outputs": [
    {
     "data": {
      "text/plain": [
       "'2.4.0'"
      ]
     },
     "execution_count": 3,
     "metadata": {},
     "output_type": "execute_result"
    }
   ],
   "source": [
    "keras.__version__"
   ]
  },
  {
   "cell_type": "code",
   "execution_count": 4,
   "metadata": {},
   "outputs": [
    {
     "name": "stdout",
     "output_type": "stream",
     "text": [
      "Train dataset shape: (15480, 8), type: float64\n"
     ]
    }
   ],
   "source": [
    "# load a dataset, in this case california housing.\n",
    "housing = fetch_california_housing()\n",
    "\n",
    "# Split the full dataset into train/test\n",
    "X_train_full, X_test, y_train_full, y_test = train_test_split(housing.data, housing.target)\n",
    "\n",
    "# Split the train dataset into train/validation\n",
    "X_train, X_valid, y_train, y_valid = train_test_split(X_train_full, y_train_full)\n",
    "\n",
    "print(f\"Train dataset shape: {X_train_full.shape}, type: {X_train_full.dtype}\")"
   ]
  },
  {
   "cell_type": "code",
   "execution_count": 5,
   "metadata": {},
   "outputs": [],
   "source": [
    "# Scale the data. Rememeber that you train the Scaler on the train data only, and then applied the learned\n",
    "# scaling to validation and train datasets\n",
    "scaler = StandardScaler()\n",
    "X_train = scaler.fit_transform(X_train)\n",
    "X_valid = scaler.transform(X_valid)\n",
    "X_test = scaler.transform(X_test)"
   ]
  },
  {
   "cell_type": "code",
   "execution_count": 6,
   "metadata": {},
   "outputs": [
    {
     "name": "stdout",
     "output_type": "stream",
     "text": [
      "Model: \"functional_1\"\n",
      "_________________________________________________________________\n",
      "Layer (type)                 Output Shape              Param #   \n",
      "=================================================================\n",
      "Input (InputLayer)           [(None, 8)]               0         \n",
      "_________________________________________________________________\n",
      "Hidden_1 (Dense)             (None, 30)                270       \n",
      "_________________________________________________________________\n",
      "Output (Dense)               (None, 1)                 31        \n",
      "=================================================================\n",
      "Total params: 301\n",
      "Trainable params: 301\n",
      "Non-trainable params: 0\n",
      "_________________________________________________________________\n",
      "None\n",
      "[<tensorflow.python.keras.engine.input_layer.InputLayer object at 0x1388d1a30>, <tensorflow.python.keras.layers.core.Dense object at 0x138a004c0>, <tensorflow.python.keras.layers.core.Dense object at 0x138a00970>]\n"
     ]
    }
   ],
   "source": [
    "def architecture():\n",
    "    \"\"\"Define the architecture using the functional API\"\"\"\n",
    "    input_ = keras.layers.Input(shape=X_train.shape[1:], name='Input')\n",
    "    hidden = keras.layers.Dense(30, activation='relu', name='Hidden_1')(input_)\n",
    "    output = keras.layers.Dense(1, name='Output')(hidden)\n",
    "    return keras.Model(inputs=[input_], outputs=[output])\n",
    "\n",
    "def inspect(model):\n",
    "    \"\"\"Aux function to print model information\"\"\"\n",
    "    print(model.summary())\n",
    "    print(model.layers)\n",
    "    \n",
    "\n",
    "model = architecture()\n",
    "inspect(model)"
   ]
  },
  {
   "cell_type": "code",
   "execution_count": 7,
   "metadata": {},
   "outputs": [],
   "source": [
    "model.compile(loss=keras.losses.mean_squared_error,\n",
    "              optimizer=keras.optimizers.SGD(lr=0.01),\n",
    "              metrics=[keras.metrics.mean_squared_error])"
   ]
  },
  {
   "cell_type": "code",
   "execution_count": 8,
   "metadata": {},
   "outputs": [
    {
     "name": "stdout",
     "output_type": "stream",
     "text": [
      "Epoch 1/20\n",
      "  1/363 [..............................] - ETA: 0s - loss: 6.5259 - mean_squared_error: 6.5259WARNING:tensorflow:From /Volumes/HDD_juliod/miniconda/envs/juliod_test_tf/lib/python3.8/site-packages/tensorflow/python/ops/summary_ops_v2.py:1277: stop (from tensorflow.python.eager.profiler) is deprecated and will be removed after 2020-07-01.\n",
      "Instructions for updating:\n",
      "use `tf.profiler.experimental.stop` instead.\n",
      "  2/363 [..............................] - ETA: 1:15 - loss: 6.2288 - mean_squared_error: 6.2288WARNING:tensorflow:Callbacks method `on_train_batch_end` is slow compared to the batch time (batch time: 0.0559s vs `on_train_batch_end` time: 0.3659s). Check your callbacks.\n",
      "363/363 [==============================] - 3s 8ms/step - loss: 0.8884 - mean_squared_error: 0.8884 - val_loss: 0.5892 - val_mean_squared_error: 0.5892\n",
      "Epoch 2/20\n",
      "363/363 [==============================] - 1s 3ms/step - loss: 1.8234 - mean_squared_error: 1.8234 - val_loss: 0.5064 - val_mean_squared_error: 0.5064\n",
      "Epoch 3/20\n",
      "363/363 [==============================] - 1s 3ms/step - loss: 0.5141 - mean_squared_error: 0.5141 - val_loss: 0.4206 - val_mean_squared_error: 0.4206\n",
      "Epoch 4/20\n",
      "363/363 [==============================] - 1s 3ms/step - loss: 0.4212 - mean_squared_error: 0.4212 - val_loss: 0.4123 - val_mean_squared_error: 0.4123\n",
      "Epoch 5/20\n",
      "363/363 [==============================] - 1s 4ms/step - loss: 0.4128 - mean_squared_error: 0.4128 - val_loss: 0.4041 - val_mean_squared_error: 0.4041\n",
      "Epoch 6/20\n",
      "363/363 [==============================] - 2s 6ms/step - loss: 0.4052 - mean_squared_error: 0.4052 - val_loss: 0.3974 - val_mean_squared_error: 0.3974\n",
      "Epoch 7/20\n",
      "363/363 [==============================] - 1s 3ms/step - loss: 0.4010 - mean_squared_error: 0.4010 - val_loss: 0.3888 - val_mean_squared_error: 0.3888\n",
      "Epoch 8/20\n",
      "363/363 [==============================] - 1s 3ms/step - loss: 0.3967 - mean_squared_error: 0.3967 - val_loss: 0.3885 - val_mean_squared_error: 0.3885\n",
      "Epoch 9/20\n",
      "363/363 [==============================] - 1s 3ms/step - loss: 0.3953 - mean_squared_error: 0.3953 - val_loss: 0.3843 - val_mean_squared_error: 0.3843\n",
      "Epoch 10/20\n",
      "363/363 [==============================] - 1s 3ms/step - loss: 0.3906 - mean_squared_error: 0.3906 - val_loss: 0.3842 - val_mean_squared_error: 0.3842\n",
      "Epoch 11/20\n",
      "363/363 [==============================] - 1s 2ms/step - loss: 0.3889 - mean_squared_error: 0.3889 - val_loss: 0.3782 - val_mean_squared_error: 0.3782\n",
      "Epoch 12/20\n",
      "363/363 [==============================] - 1s 2ms/step - loss: 0.3873 - mean_squared_error: 0.3873 - val_loss: 0.3780 - val_mean_squared_error: 0.3780\n",
      "Epoch 13/20\n",
      "363/363 [==============================] - 1s 3ms/step - loss: 0.3846 - mean_squared_error: 0.3846 - val_loss: 0.3730 - val_mean_squared_error: 0.3730\n",
      "Epoch 14/20\n",
      "363/363 [==============================] - 2s 4ms/step - loss: 0.3810 - mean_squared_error: 0.3810 - val_loss: 0.3777 - val_mean_squared_error: 0.3777\n",
      "Epoch 15/20\n",
      "363/363 [==============================] - 1s 4ms/step - loss: 0.3815 - mean_squared_error: 0.3815 - val_loss: 0.3730 - val_mean_squared_error: 0.3730\n",
      "Epoch 16/20\n",
      "363/363 [==============================] - 2s 6ms/step - loss: 0.3790 - mean_squared_error: 0.3790 - val_loss: 0.3746 - val_mean_squared_error: 0.3746\n",
      "Epoch 17/20\n",
      "363/363 [==============================] - 2s 6ms/step - loss: 0.3813 - mean_squared_error: 0.3813 - val_loss: 0.3725 - val_mean_squared_error: 0.3725\n",
      "Epoch 18/20\n",
      "363/363 [==============================] - 2s 6ms/step - loss: 0.3793 - mean_squared_error: 0.3793 - val_loss: 0.3652 - val_mean_squared_error: 0.3652\n",
      "Epoch 19/20\n",
      "363/363 [==============================] - 2s 5ms/step - loss: 0.3724 - mean_squared_error: 0.3724 - val_loss: 0.3663 - val_mean_squared_error: 0.3663\n",
      "Epoch 20/20\n",
      "363/363 [==============================] - 1s 3ms/step - loss: 0.3750 - mean_squared_error: 0.3750 - val_loss: 0.3942 - val_mean_squared_error: 0.3942\n"
     ]
    }
   ],
   "source": [
    "# Integration with Tensorboard, early stopping and checkpoints\n",
    "datestr = time.strftime('%y-%m-%d-%h-%m-%s')\n",
    "tensorboardcb = keras.callbacks.TensorBoard(log_dir=f'./tb_logs/tb_logs-{datestr}')\n",
    "\n",
    "history = model.fit(X_train, y_train, epochs=20,\n",
    "                    validation_data=(X_valid, y_valid),\n",
    "                    callbacks=[tensorboardcb, \n",
    "                               keras.callbacks.EarlyStopping(patience=10, restore_best_weights=True), \n",
    "                               keras.callbacks.ModelCheckpoint(filepath=f'./checkpoints/model-{datestr}.h5')])"
   ]
  },
  {
   "cell_type": "markdown",
   "metadata": {},
   "source": [
    "Now it is time to start the TensorBoard server, which we must point to the root directory that contains the different subdirectories where each training information is recoded.\n",
    "\n",
    "```\n",
    "tensorboard --logdir=./tb_logs --port=6006\n",
    "```\n",
    "\n",
    "You can also start the server using Jupyer magics:\n",
    "\n",
    "```\n",
    "%load_ext tensorboard\n",
    "%tensorboard --logdir=./tb_logs --port=6006\n",
    "```\n",
    "\n",
    "Once you open tensorboard in your browser you will see something like:\n",
    "\n",
    "![](img/tensorboard.png)"
   ]
  },
  {
   "cell_type": "code",
   "execution_count": 9,
   "metadata": {},
   "outputs": [
    {
     "data": {
      "image/png": "[encoded data removed]",
      "text/plain": [
       "<Figure size 576x360 with 1 Axes>"
      ]
     },
     "metadata": {
      "needs_background": "light"
     },
     "output_type": "display_data"
    }
   ],
   "source": [
    "# plot the history\n",
    "utils.print_history(history)"
   ]
  },
  {
   "cell_type": "code",
   "execution_count": 10,
   "metadata": {},
   "outputs": [
    {
     "name": "stdout",
     "output_type": "stream",
     "text": [
      "162/162 [==============================] - 0s 3ms/step - loss: 0.4010 - mean_squared_error: 0.4010\n"
     ]
    },
    {
     "data": {
      "text/plain": [
       "[0.4009561836719513, 0.4009561836719513]"
      ]
     },
     "execution_count": 10,
     "metadata": {},
     "output_type": "execute_result"
    }
   ],
   "source": [
    "model.evaluate(X_test, y_test)"
   ]
  },
  {
   "cell_type": "code",
   "execution_count": 11,
   "metadata": {},
   "outputs": [
    {
     "data": {
      "text/plain": [
       "array([[3.1949947]], dtype=float32)"
      ]
     },
     "execution_count": 11,
     "metadata": {},
     "output_type": "execute_result"
    }
   ],
   "source": [
    "# Use the model to produce inferences\n",
    "pred = model.predict(X_test[0:1])\n",
    "pred"
   ]
  }
 ],
 "metadata": {
  "kernelspec": {
   "display_name": "Python 3",
   "language": "python",
   "name": "python3"
  },
  "language_info": {
   "codemirror_mode": {
    "name": "ipython",
    "version": 3
   },
   "file_extension": ".py",
   "mimetype": "text/x-python",
   "name": "python",
   "nbconvert_exporter": "python",
   "pygments_lexer": "ipython3",
   "version": "3.8.0"
  }
 },
 "nbformat": 4,
 "nbformat_minor": 4
}
