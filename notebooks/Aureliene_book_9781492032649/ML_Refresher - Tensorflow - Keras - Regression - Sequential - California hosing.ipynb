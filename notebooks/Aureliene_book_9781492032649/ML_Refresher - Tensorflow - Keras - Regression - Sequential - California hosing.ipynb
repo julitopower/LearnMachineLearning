{
 "cells": [
  {
   "cell_type": "code",
   "execution_count": 1,
   "metadata": {},
   "outputs": [],
   "source": [
    "from sklearn.model_selection import train_test_split\n",
    "from sklearn.datasets import fetch_california_housing\n",
    "from sklearn.preprocessing import StandardScaler\n",
    "import tensorflow as tf\n",
    "from tensorflow import keras\n",
    "import utils"
   ]
  },
  {
   "cell_type": "code",
   "execution_count": 2,
   "metadata": {},
   "outputs": [
    {
     "data": {
      "text/plain": [
       "'2.3.0'"
      ]
     },
     "execution_count": 2,
     "metadata": {},
     "output_type": "execute_result"
    }
   ],
   "source": [
    "tf.__version__"
   ]
  },
  {
   "cell_type": "code",
   "execution_count": 3,
   "metadata": {},
   "outputs": [
    {
     "data": {
      "text/plain": [
       "'2.4.0'"
      ]
     },
     "execution_count": 3,
     "metadata": {},
     "output_type": "execute_result"
    }
   ],
   "source": [
    "keras.__version__"
   ]
  },
  {
   "cell_type": "code",
   "execution_count": 4,
   "metadata": {},
   "outputs": [
    {
     "name": "stdout",
     "output_type": "stream",
     "text": [
      "(15480, 8) float64\n"
     ]
    }
   ],
   "source": [
    "# load a dataset\n",
    "housing = fetch_california_housing()\n",
    "X_train_full, X_test, y_train_full, y_test = train_test_split(housing.data, housing.target)\n",
    "X_train, X_valid, y_train, y_valid = train_test_split(X_train_full, y_train_full)\n",
    "print(X_train_full.shape, X_train_full.dtype)"
   ]
  },
  {
   "cell_type": "code",
   "execution_count": 5,
   "metadata": {},
   "outputs": [],
   "source": [
    "# Scale the data\n",
    "scaler = StandardScaler()\n",
    "X_train = scaler.fit_transform(X_train)\n",
    "X_valid = scaler.transform(X_valid)\n",
    "X_test = scaler.transform(X_test)"
   ]
  },
  {
   "cell_type": "code",
   "execution_count": 6,
   "metadata": {},
   "outputs": [
    {
     "name": "stdout",
     "output_type": "stream",
     "text": [
      "Model: \"sequential\"\n",
      "_________________________________________________________________\n",
      "Layer (type)                 Output Shape              Param #   \n",
      "=================================================================\n",
      "dense (Dense)                (None, 30)                270       \n",
      "_________________________________________________________________\n",
      "dense_1 (Dense)              (None, 1)                 31        \n",
      "=================================================================\n",
      "Total params: 301\n",
      "Trainable params: 301\n",
      "Non-trainable params: 0\n",
      "_________________________________________________________________\n",
      "None\n",
      "[<tensorflow.python.keras.layers.core.Dense object at 0x13b1e4df0>, <tensorflow.python.keras.layers.core.Dense object at 0x13b1f9940>]\n"
     ]
    }
   ],
   "source": [
    "def architecture():\n",
    "    model = keras.models.Sequential()\n",
    "    model.add(keras.layers.Dense(30, activation='relu', input_shape=X_train.shape[1:]))\n",
    "    model.add(keras.layers.Dense(1))\n",
    "    return model\n",
    "\n",
    "def inspect(model):\n",
    "    print(model.summary())\n",
    "    print(model.layers)\n",
    "model = architecture()\n",
    "inspect(model)"
   ]
  },
  {
   "cell_type": "code",
   "execution_count": 7,
   "metadata": {},
   "outputs": [],
   "source": [
    "model.compile(loss=keras.losses.mean_squared_error,\n",
    "              optimizer=keras.optimizers.SGD(lr=0.01),\n",
    "              metrics=[keras.metrics.mean_squared_error])"
   ]
  },
  {
   "cell_type": "code",
   "execution_count": 8,
   "metadata": {},
   "outputs": [
    {
     "name": "stdout",
     "output_type": "stream",
     "text": [
      "Epoch 1/20\n",
      "363/363 [==============================] - 1s 2ms/step - loss: 1.0721 - mean_squared_error: 1.0721 - val_loss: 0.5619 - val_mean_squared_error: 0.5619\n",
      "Epoch 2/20\n",
      "363/363 [==============================] - 0s 1ms/step - loss: 0.5237 - mean_squared_error: 0.5237 - val_loss: 0.4698 - val_mean_squared_error: 0.4698\n",
      "Epoch 3/20\n",
      "363/363 [==============================] - 0s 1ms/step - loss: 0.4810 - mean_squared_error: 0.4810 - val_loss: 0.4424 - val_mean_squared_error: 0.4424\n",
      "Epoch 4/20\n",
      "363/363 [==============================] - 0s 1ms/step - loss: 0.4644 - mean_squared_error: 0.4644 - val_loss: 0.4299 - val_mean_squared_error: 0.4299\n",
      "Epoch 5/20\n",
      "363/363 [==============================] - 0s 1ms/step - loss: 0.4536 - mean_squared_error: 0.4536 - val_loss: 0.4176 - val_mean_squared_error: 0.4176\n",
      "Epoch 6/20\n",
      "363/363 [==============================] - 0s 1ms/step - loss: 0.4443 - mean_squared_error: 0.4443 - val_loss: 0.4100 - val_mean_squared_error: 0.4100\n",
      "Epoch 7/20\n",
      "363/363 [==============================] - 0s 1ms/step - loss: 0.4357 - mean_squared_error: 0.4357 - val_loss: 0.3958 - val_mean_squared_error: 0.3958\n",
      "Epoch 8/20\n",
      "363/363 [==============================] - 0s 1ms/step - loss: 0.4295 - mean_squared_error: 0.4295 - val_loss: 0.3915 - val_mean_squared_error: 0.3915\n",
      "Epoch 9/20\n",
      "363/363 [==============================] - 0s 1ms/step - loss: 0.4239 - mean_squared_error: 0.4239 - val_loss: 0.3864 - val_mean_squared_error: 0.3864\n",
      "Epoch 10/20\n",
      "363/363 [==============================] - 0s 1ms/step - loss: 0.4186 - mean_squared_error: 0.4186 - val_loss: 0.3821 - val_mean_squared_error: 0.3821\n",
      "Epoch 11/20\n",
      "363/363 [==============================] - 0s 1ms/step - loss: 0.4150 - mean_squared_error: 0.4150 - val_loss: 0.3780 - val_mean_squared_error: 0.3780\n",
      "Epoch 12/20\n",
      "363/363 [==============================] - 0s 1ms/step - loss: 0.4102 - mean_squared_error: 0.4102 - val_loss: 0.3710 - val_mean_squared_error: 0.3710\n",
      "Epoch 13/20\n",
      "363/363 [==============================] - 0s 1ms/step - loss: 0.4063 - mean_squared_error: 0.4063 - val_loss: 0.3667 - val_mean_squared_error: 0.3667\n",
      "Epoch 14/20\n",
      "363/363 [==============================] - 1s 1ms/step - loss: 0.4028 - mean_squared_error: 0.4028 - val_loss: 0.3661 - val_mean_squared_error: 0.3661\n",
      "Epoch 15/20\n",
      "363/363 [==============================] - 1s 1ms/step - loss: 0.4002 - mean_squared_error: 0.4002 - val_loss: 0.3643 - val_mean_squared_error: 0.3643\n",
      "Epoch 16/20\n",
      "363/363 [==============================] - 0s 1ms/step - loss: 0.3977 - mean_squared_error: 0.3977 - val_loss: 0.3609 - val_mean_squared_error: 0.3609\n",
      "Epoch 17/20\n",
      "363/363 [==============================] - 1s 1ms/step - loss: 0.3959 - mean_squared_error: 0.3959 - val_loss: 0.3556 - val_mean_squared_error: 0.3556\n",
      "Epoch 18/20\n",
      "363/363 [==============================] - 1s 1ms/step - loss: 0.3927 - mean_squared_error: 0.3927 - val_loss: 0.3535 - val_mean_squared_error: 0.3535\n",
      "Epoch 19/20\n",
      "363/363 [==============================] - 0s 1ms/step - loss: 0.3905 - mean_squared_error: 0.3905 - val_loss: 0.3579 - val_mean_squared_error: 0.3579\n",
      "Epoch 20/20\n",
      "363/363 [==============================] - 1s 1ms/step - loss: 0.3874 - mean_squared_error: 0.3874 - val_loss: 0.3506 - val_mean_squared_error: 0.3506\n"
     ]
    }
   ],
   "source": [
    "history = model.fit(X_train, y_train, epochs=20,\n",
    "                    validation_data=(X_valid, y_valid))"
   ]
  },
  {
   "cell_type": "code",
   "execution_count": 9,
   "metadata": {},
   "outputs": [
    {
     "data": {
      "image/png": "[encoded data removed]",
      "text/plain": [
       "<Figure size 576x360 with 1 Axes>"
      ]
     },
     "metadata": {
      "needs_background": "light"
     },
     "output_type": "display_data"
    }
   ],
   "source": [
    "# plot the history\n",
    "utils.print_history(history)"
   ]
  },
  {
   "cell_type": "code",
   "execution_count": 10,
   "metadata": {},
   "outputs": [
    {
     "name": "stdout",
     "output_type": "stream",
     "text": [
      "162/162 [==============================] - 0s 791us/step - loss: 0.3797 - mean_squared_error: 0.3797\n"
     ]
    },
    {
     "data": {
      "text/plain": [
       "[0.37974244356155396, 0.37974244356155396]"
      ]
     },
     "execution_count": 10,
     "metadata": {},
     "output_type": "execute_result"
    }
   ],
   "source": [
    "model.evaluate(X_test, y_test)"
   ]
  },
  {
   "cell_type": "code",
   "execution_count": 11,
   "metadata": {},
   "outputs": [
    {
     "data": {
      "text/plain": [
       "array([[2.6340575]], dtype=float32)"
      ]
     },
     "execution_count": 11,
     "metadata": {},
     "output_type": "execute_result"
    }
   ],
   "source": [
    "# Use the model to produce inferences\n",
    "pred = model.predict(X_test[0:1])\n",
    "pred"
   ]
  }
 ],
 "metadata": {
  "kernelspec": {
   "display_name": "Python 3",
   "language": "python",
   "name": "python3"
  },
  "language_info": {
   "codemirror_mode": {
    "name": "ipython",
    "version": 3
   },
   "file_extension": ".py",
   "mimetype": "text/x-python",
   "name": "python",
   "nbconvert_exporter": "python",
   "pygments_lexer": "ipython3",
   "version": "3.8.0"
  }
 },
 "nbformat": 4,
 "nbformat_minor": 4
}
